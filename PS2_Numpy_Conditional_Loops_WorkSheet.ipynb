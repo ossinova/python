{
 "cells": [
  {
   "cell_type": "markdown",
   "metadata": {},
   "source": [
    "# Numpy, condition and loops\n"
   ]
  },
  {
   "cell_type": "markdown",
   "metadata": {},
   "source": [
    "## Conditional execution:"
   ]
  },
  {
   "cell_type": "markdown",
   "metadata": {},
   "source": [
    "### Exercise 1\n",
    "\n",
    "Consider the following string\n",
    "\n",
    "    st = 'Print only the words that start with s in this sentence'\n",
    "   \n",
    "Write a script that prints out words that start with the character s. (Hint: Use the commands <code>for</code>, .split(), and <code>if</code>)\n",
    "\n"
   ]
  },
  {
   "cell_type": "code",
   "execution_count": null,
   "metadata": {},
   "outputs": [],
   "source": [
    "st = 'Print only the words that start with s in this sentence'\n",
    "for i in st.split():\n",
    "    if i.startswith(\"s\"):\n",
    "        print(i)\n",
    "    \n",
    "    "
   ]
  },
  {
   "cell_type": "markdown",
   "metadata": {},
   "source": [
    "### Exercise 2\n",
    "\n",
    "Use the built-in function range()\n",
    "\n",
    "(1) to print all the even numbers from 0 to 10, and\n",
    "\n",
    "(2) the square on the same numbers."
   ]
  },
  {
   "cell_type": "code",
   "execution_count": null,
   "metadata": {},
   "outputs": [],
   "source": [
    "for i in range (0, 10):\n",
    "    if i%2 == 0:\n",
    "        print(i)"
   ]
  },
  {
   "cell_type": "code",
   "execution_count": null,
   "metadata": {},
   "outputs": [],
   "source": [
    "for i in range (0, 10):\n",
    "    if i%2 == 0:\n",
    "        print(i**2)"
   ]
  },
  {
   "cell_type": "code",
   "execution_count": null,
   "metadata": {},
   "outputs": [],
   "source": []
  },
  {
   "cell_type": "markdown",
   "metadata": {},
   "source": [
    "### Exercise 3\n",
    "\n",
    "Recall that in PS1, we wrote a program to prompt the user for hours and rate per hour to compute gross pay of a worker. (Find the code below)\n",
    "\n",
    "Now please rewrite your pay computation to give an extra compensation, such that the hourly rate is 1.5 times for those hours worked above 40. In particular, the total salary is now\n",
    "\n",
    "$pay=\\begin{cases}\n",
    "hours\\times rate & \\text{if }hours<=40\\\\\n",
    "40\\times rate+\\left(hours-40\\right)\\times rate\\times1.5 & \\text{if }hours>40\n",
    "\\end{cases}$\n",
    "    \n",
    "\n",
    "    "
   ]
  },
  {
   "cell_type": "code",
   "execution_count": null,
   "metadata": {},
   "outputs": [],
   "source": [
    "# IN PS1: \n",
    "hours = float(input('Enter Hours: '))\n",
    "rate  = input('Enter Rate: ')\n",
    "if hours <= 40:\n",
    "    print('Normal Pay: ', round(float(hours)*float(rate),2) )\n",
    "elif hours > 40:\n",
    "    print('Pay with 1.5 after 40hrs: ', round(40*float(rate)+float(hours-40)*float(rate)*1.5,2) )"
   ]
  },
  {
   "cell_type": "code",
   "execution_count": null,
   "metadata": {},
   "outputs": [],
   "source": []
  },
  {
   "cell_type": "code",
   "execution_count": null,
   "metadata": {},
   "outputs": [],
   "source": []
  },
  {
   "cell_type": "code",
   "execution_count": null,
   "metadata": {},
   "outputs": [],
   "source": []
  },
  {
   "cell_type": "markdown",
   "metadata": {},
   "source": [
    "### Exercise 4 (optional)\n",
    "Rewrite your pay program using \"try\" and \"except\" so that your program handles non-numeric input gracefully by printing a message and exiting the program. The following shows two executions of the program:\n",
    "\n",
    "    Enter Hours: 20\n",
    "    Enter Rate: nine\n",
    "    Error, please enter numeric input\n",
    "    \n",
    "    Enter Hours: forty\n",
    "    Error, please enter numeric input"
   ]
  },
  {
   "cell_type": "code",
   "execution_count": 39,
   "metadata": {},
   "outputs": [
    {
     "name": "stdout",
     "output_type": "stream",
     "text": [
      "Enter Hours:44\n",
      "Enter Rate:10\n",
      "Pay: 460.0\n"
     ]
    }
   ],
   "source": [
    "\n",
    "try:\n",
    "    hours= float(input(\"Enter Hours:\"))\n",
    "    rate= float(input(\"Enter Rate:\"))\n",
    "    if hours < 40:\n",
    "        pay = hours * rate\n",
    "    else:\n",
    "        pay = 40*rate+(hours-40)*rate*1.5\n",
    "    print(\"Pay:\", pay)\n",
    "except ValueError:\n",
    "    print(\"Oops!  That was no valid number.  Try again...\")"
   ]
  },
  {
   "cell_type": "code",
   "execution_count": null,
   "metadata": {},
   "outputs": [],
   "source": []
  },
  {
   "cell_type": "code",
   "execution_count": null,
   "metadata": {},
   "outputs": [],
   "source": []
  },
  {
   "cell_type": "markdown",
   "metadata": {},
   "source": [
    "### Exercise 5\n",
    "Write a program to compute a grade from a numeric score point from 0 to 100. If the score is out of range, print an error message. If the score is between 0 and 100, print a grade using the following table:\n",
    "\n",
    "    Score  Grade\n",
    "    >= 90               A\n",
    "    between [80,90)     B\n",
    "    between [70,80)     C\n",
    "    between [60,70)     D\n",
    "    <  60               F\n",
    "    \n",
    "    \n",
    "    Enter score: 95\n",
    "    A\n",
    "    \n",
    "    Enter score: perfect\n",
    "    Bad score\n",
    "    \n",
    "    Enter score: 101\n",
    "    Bad score\n",
    "    \n",
    "    Enter score: 75\n",
    "    C\n",
    "    \n",
    "    Enter score: 50\n",
    "    F\n",
    "\n",
    "Run the program repeatedly as shown above to test the various different values for input."
   ]
  },
  {
   "cell_type": "code",
   "execution_count": 42,
   "metadata": {},
   "outputs": [
    {
     "name": "stdout",
     "output_type": "stream",
     "text": [
      "Enter a test score 0-100 >> 1\n",
      "Fail\n"
     ]
    }
   ],
   "source": [
    "try:\n",
    "    n = int(input(\"Enter a test score 0-100 >> \"))\n",
    "    if (n >= 100):\n",
    "        print(\"You didn't follow instructions, enter valid score 0-100\")\n",
    "    elif n in range(90, 101):\n",
    "        print(\"A\")\n",
    "    elif n in range(80, 90):\n",
    "        print(\"B\")\n",
    "    elif n in range(70, 80):\n",
    "        print(\"C\")\n",
    "    elif n in range(60, 70):\n",
    "        print(\"D\")\n",
    "    elif n in range(0, 60):\n",
    "        print(\"Fail\")\n",
    "except ValueError:\n",
    "    print(\"Oops!  That was no valid number.  Try again...\")"
   ]
  },
  {
   "cell_type": "code",
   "execution_count": null,
   "metadata": {},
   "outputs": [],
   "source": []
  },
  {
   "cell_type": "code",
   "execution_count": null,
   "metadata": {},
   "outputs": [],
   "source": []
  },
  {
   "cell_type": "code",
   "execution_count": null,
   "metadata": {},
   "outputs": [],
   "source": []
  },
  {
   "cell_type": "code",
   "execution_count": null,
   "metadata": {},
   "outputs": [],
   "source": []
  },
  {
   "cell_type": "markdown",
   "metadata": {},
   "source": [
    "## Iterations and loops"
   ]
  },
  {
   "cell_type": "markdown",
   "metadata": {},
   "source": [
    "### Exercise 6\n",
    "Write a program which repeatedly reads numbers until the user enters “done”. Once “done” is entered, print out the sum, count, and average of the numbers. If the user enters anything other than a number, detect their mistake using try and except and print an error message and skip to the next number.\n",
    "\n",
    "    Enter a number: 4\n",
    "    Enter a number: 5\n",
    "    Enter a number: bad data\n",
    "    Invalid input\n",
    "    Enter a number: 7\n",
    "    Enter a number: done\n",
    "    16 3 5.333333333333333"
   ]
  },
  {
   "cell_type": "code",
   "execution_count": 12,
   "metadata": {},
   "outputs": [
    {
     "name": "stdout",
     "output_type": "stream",
     "text": [
      "Enter a number: 4\n",
      "Enter a number: 5\n",
      "Enter a number: 7\n",
      "Enter a number: done\n",
      "16.0 3 5.333333333333333\n"
     ]
    }
   ],
   "source": [
    "sum = 0\n",
    "count = 0\n",
    "average = 0\n",
    "\n",
    "while True:\n",
    "    try:\n",
    "        x = input(\"Enter a number: \")\n",
    "        if (x == \"done\"): \n",
    "            break\n",
    "        value = float(x)\n",
    "        sum = value + sum\n",
    "        count = count + 1\n",
    "        average = sum / count\n",
    "    except:\n",
    "        print(\"Invalid input.\")\n",
    "print (sum, count, average)"
   ]
  },
  {
   "cell_type": "code",
   "execution_count": null,
   "metadata": {},
   "outputs": [],
   "source": []
  },
  {
   "cell_type": "code",
   "execution_count": null,
   "metadata": {},
   "outputs": [],
   "source": []
  },
  {
   "cell_type": "code",
   "execution_count": null,
   "metadata": {},
   "outputs": [],
   "source": []
  },
  {
   "cell_type": "markdown",
   "metadata": {},
   "source": [
    "## Numpy and plots\n",
    "\n",
    "load numpy and pyplot by running: \n",
    "\n",
    "    import numpy as np\n",
    "    from matplotlib import pyplot as plt\n",
    "    %matplotlib inline "
   ]
  },
  {
   "cell_type": "markdown",
   "metadata": {},
   "source": [
    "### Exercise 7\n",
    "\n",
    "- Generate an array `x`  containing 10 numbers in the interval 0 to 5 evenly spaced.\n",
    "- Generate another array `y` (of same dimension of x) containing the cumulated sum numbers of `x`\n",
    "- Plot `x` against `y`\n"
   ]
  },
  {
   "cell_type": "code",
   "execution_count": 13,
   "metadata": {},
   "outputs": [],
   "source": [
    "import numpy as np\n",
    "from matplotlib import pyplot as plt\n",
    "%matplotlib inline "
   ]
  },
  {
   "cell_type": "code",
   "execution_count": 32,
   "metadata": {},
   "outputs": [
    {
     "name": "stdout",
     "output_type": "stream",
     "text": [
      "[0.         0.55555556 1.11111111 1.66666667 2.22222222 2.77777778\n",
      " 3.33333333 3.88888889 4.44444444 5.        ]\n"
     ]
    },
    {
     "data": {
      "text/plain": [
       "[<matplotlib.lines.Line2D at 0x113e61710>]"
      ]
     },
     "execution_count": 32,
     "metadata": {},
     "output_type": "execute_result"
    },
    {
     "data": {
      "image/png": "[encoded data removed]",
      "text/plain": [
       "<Figure size 432x288 with 1 Axes>"
      ]
     },
     "metadata": {},
     "output_type": "display_data"
    }
   ],
   "source": [
    "n = 10\n",
    "x1 = np.linspace(0, 5, n)\n",
    "print(x1)\n",
    "y1= np.cumsum(x1)\n",
    "plt.plot(x1, y1)"
   ]
  },
  {
   "cell_type": "code",
   "execution_count": null,
   "metadata": {},
   "outputs": [],
   "source": []
  },
  {
   "cell_type": "code",
   "execution_count": null,
   "metadata": {},
   "outputs": [],
   "source": []
  },
  {
   "cell_type": "code",
   "execution_count": null,
   "metadata": {},
   "outputs": [],
   "source": []
  },
  {
   "cell_type": "markdown",
   "metadata": {},
   "source": [
    "### Exercise 8\n",
    "\n",
    "Let $ε_{t}$ be an independent standard normal random variable. First, generate 1000 observations of $ε_{t}$ in an array. \n",
    "\n",
    "Then, generate an array of y following\n",
    "\n",
    "$y_{t}=\\phi_{1}y_{t-1}+\\epsilon_{t}$\n",
    "\n",
    "where we assume $\\phi_{1} = 0.8$ and initial value $y_{1} = 10$.\n",
    "\n",
    "Show a plot with the simulated observations of $y_{t}$ over time t=1,2,...,1000. Please make sure to label the axes.\n"
   ]
  },
  {
   "cell_type": "code",
   "execution_count": 67,
   "metadata": {},
   "outputs": [
    {
     "data": {
      "text/plain": [
       "array([ 1.00000000e+01,  7.10393487e+00,  5.37684853e+00,  2.96154516e+00,\n",
       "        1.16265054e+00,  2.88393621e-01,  1.53866053e+00,  3.07638885e+00,\n",
       "        3.29022603e+00,  2.60888201e+00,  1.87854165e+00,  5.86213574e-01,\n",
       "       -6.05771725e-01, -5.70760870e-01,  7.19229841e-01, -1.05970786e+00,\n",
       "        3.80427710e-01,  1.38072842e+00,  1.49935560e+00,  8.11783663e-01,\n",
       "        1.23782869e+00, -4.43035867e-01, -6.78003374e-01,  7.10581991e-01,\n",
       "       -1.62276994e-01,  1.29866348e+00,  1.98358467e+00,  1.32286496e+00,\n",
       "        8.95078665e-01, -2.48044341e-01, -5.41082807e-01, -3.83962209e-01,\n",
       "       -8.06801752e-01, -2.85734591e+00, -1.97603986e+00, -3.17048317e+00,\n",
       "       -1.80693194e+00, -1.55344680e+00, -1.89292893e+00, -3.20739965e+00,\n",
       "       -2.93439377e+00, -3.93788673e+00, -1.66980353e+00, -8.61402625e-01,\n",
       "        2.24741713e-01,  1.14026362e+00,  9.96753469e-01,  2.51463371e+00,\n",
       "        2.86359969e+00,  1.53599444e+00, -1.05883377e+00, -7.37828320e-01,\n",
       "       -1.04042077e+00, -1.24530906e+00, -6.77263491e-01, -1.08291875e+00,\n",
       "        8.23314788e-02,  2.17300226e-01,  2.50742616e-01,  1.41193699e-01,\n",
       "        4.28162594e-02, -5.31896042e-01, -1.14511469e-01,  6.32599631e-01,\n",
       "        1.02252973e+00,  1.84405447e+00,  1.99539618e+00,  7.26478399e-01,\n",
       "        2.08174786e+00,  2.83187044e+00,  2.75741084e+00,  1.47366645e+00,\n",
       "        1.85923926e+00,  1.99638826e+00,  7.59574383e-01,  1.25530437e+00,\n",
       "        1.01678296e+00,  2.37301547e+00,  2.93300775e+00,  2.68409887e+00,\n",
       "        8.44668684e-01, -4.42809345e-01,  9.55267648e-01,  2.45997120e-01,\n",
       "       -1.96326600e-01,  8.85907213e-01,  7.83440979e-01,  7.16189827e-01,\n",
       "        6.26859225e-01,  9.19934369e-01, -4.91782558e-01, -1.48296760e+00,\n",
       "       -8.69249700e-01, -1.47580530e+00, -2.03677529e+00, -2.94929163e+00,\n",
       "       -1.90565165e+00, -5.22746476e-01,  9.95537501e-01,  6.06247110e-01,\n",
       "        5.15108231e-01, -1.46133012e+00, -1.28584104e+00, -1.15616317e+00,\n",
       "       -2.27462458e-02, -1.33256918e+00, -1.16560608e+00, -7.91935018e-01,\n",
       "        1.99525793e+00,  3.35198517e+00,  4.59403327e-02, -1.24989223e+00,\n",
       "       -1.17163598e+00,  8.63144922e-01,  1.29921157e+00,  1.07089482e+00,\n",
       "       -6.09696327e-01, -1.78316309e-01,  9.99564796e-01,  2.88807678e-01,\n",
       "       -8.78087117e-01, -5.83188911e-01, -9.73591125e-01, -5.35258587e-01,\n",
       "       -1.92943072e+00, -2.21221033e+00, -3.68948159e+00, -1.65463551e+00,\n",
       "       -1.33909066e+00, -1.16814671e+00, -1.18887060e+00, -1.94679010e+00,\n",
       "       -1.31404908e+00, -2.01629859e+00, -8.27483040e-01,  2.95063162e-01,\n",
       "       -1.49918132e-02, -4.50435741e-01,  2.23524259e-01,  8.26723818e-01,\n",
       "        1.15080504e+00,  1.90016327e+00,  2.18772469e+00,  2.60122682e+00,\n",
       "        5.67826996e-01,  1.34279942e+00,  6.57879204e-01,  2.97530996e-01,\n",
       "       -9.81392042e-01, -7.41246335e-01,  1.46799357e-01, -6.61426717e-01,\n",
       "       -7.36833372e-01, -1.15289586e+00, -5.52166115e-02,  5.75298828e-01,\n",
       "        9.79089277e-01,  1.12173274e+00,  4.89063997e-01,  8.09033841e-01,\n",
       "       -1.13818007e-01,  2.80329199e+00,  1.51143217e+00,  1.78806490e+00,\n",
       "        5.87047738e-01,  1.66628779e+00,  5.05043382e-01,  6.57550987e-01,\n",
       "        3.55839176e-01, -2.87056249e-01,  2.57068071e-01, -1.57106253e+00,\n",
       "       -2.12287966e+00, -1.49405354e+00, -2.53863500e-01,  2.06691705e-01,\n",
       "       -1.07402467e-01, -3.55408259e-01, -3.57840753e-01, -5.26338978e-01,\n",
       "       -6.37773256e-01, -1.49466465e+00, -3.56818697e-01, -8.61792160e-01,\n",
       "       -2.35324590e+00, -1.89601762e+00, -1.93978243e+00, -3.04755614e+00,\n",
       "       -1.94998178e+00, -1.06158926e+00, -4.17681397e-01, -6.81521824e-01,\n",
       "       -5.38825400e-01,  1.52653996e+00, -3.25696257e-01, -4.38023584e-02,\n",
       "        2.01250751e-01, -1.22012115e+00, -1.32124916e+00, -1.91622202e+00,\n",
       "       -4.37149111e-02,  3.15241884e-01,  4.22685032e-01,  2.02897425e+00,\n",
       "        2.13873712e+00, -1.17945525e-01,  4.35536190e-01,  1.45726201e+00,\n",
       "        1.44378035e+00,  1.34597625e+00,  1.92537893e+00,  1.85454958e+00,\n",
       "        9.12316817e-01,  3.15228552e+00,  5.81514625e-01,  1.21080344e-01,\n",
       "        3.27914627e-01, -1.64739192e-01,  3.30488932e-01,  3.59157968e-01,\n",
       "       -1.27835914e+00,  3.52677456e-01,  1.55514783e+00,  3.88704563e-01,\n",
       "       -6.17779812e-01, -1.22273294e-01, -4.98018615e-01,  2.18869136e-01,\n",
       "        1.40133548e+00,  1.12329281e+00,  1.62671573e-01, -6.94252824e-01,\n",
       "       -1.44836232e-01, -1.40353708e+00, -1.69509182e+00, -2.22759439e+00,\n",
       "       -2.63668017e+00, -7.68380704e-01, -1.14745791e+00, -2.75379404e-01,\n",
       "       -3.39045199e-01, -3.52712173e-01, -9.63413078e-01, -1.22185626e+00,\n",
       "       -7.27887471e-01, -1.05358452e+00, -1.15513183e+00,  4.34209450e-01,\n",
       "       -6.10379278e-01,  2.29142829e-01,  1.18730108e+00,  1.28105339e+00,\n",
       "        5.98009571e-01,  1.46987072e+00, -9.21703838e-02,  2.16097103e+00,\n",
       "        5.08536463e-01,  1.95229390e-01, -2.49117486e-01, -1.41435411e+00,\n",
       "        7.20979522e-01,  1.44462155e+00,  2.68846765e+00,  1.83585775e+00,\n",
       "        5.53739245e-01, -5.77069405e-01,  7.66295782e-01,  5.01888232e-01,\n",
       "        7.68960465e-01, -1.98648770e+00, -1.76735289e+00, -9.52094961e-01,\n",
       "        1.20236102e-01, -1.48261137e+00, -1.30353487e+00, -1.26834111e+00,\n",
       "       -1.66084055e-01, -1.06066291e+00, -1.82366027e+00, -1.37148871e+00,\n",
       "       -2.66778795e+00, -1.72438361e+00, -1.81770505e+00, -1.75594251e+00,\n",
       "       -1.62874057e+00, -3.56464704e-01,  5.51721221e-01,  1.56496977e+00,\n",
       "        2.65571032e+00,  1.02750064e+00,  5.69091396e-01, -1.84929811e-02,\n",
       "        7.51117406e-01,  9.36286347e-01,  3.90796215e-01,  2.53648735e+00,\n",
       "        1.80871754e+00,  1.03511432e+00,  4.37684201e-01, -9.51939762e-01,\n",
       "       -2.83332475e-01, -7.73950773e-01, -5.88273602e-01, -3.49690298e-01,\n",
       "        4.29414812e-01,  7.24442667e-01,  8.20749052e-01,  4.93336025e-02,\n",
       "       -2.78555327e-01, -3.78820059e-01,  2.04367780e-01, -6.84779621e-01,\n",
       "       -5.41718587e-01,  9.11720983e-03,  1.39448138e+00,  1.49470013e+00,\n",
       "        1.78813239e+00,  1.93143175e+00,  1.75620515e+00, -9.05879666e-01,\n",
       "        1.66517447e+00,  8.61570854e-01,  4.06529803e-01,  1.18658181e+00,\n",
       "        1.20946045e+00,  1.69737642e+00,  1.85353684e+00,  2.26251614e+00,\n",
       "        1.28729557e+00,  7.68467525e-01,  6.67743466e-01,  1.03455246e+00,\n",
       "        3.49193152e+00,  4.23729246e+00,  4.44245034e+00,  1.90473412e+00,\n",
       "        3.67658509e+00,  1.59907082e+00,  2.23742412e+00,  1.67934411e+00,\n",
       "        2.53547464e+00,  2.32875222e+00,  8.78591984e-01,  4.47209841e-01,\n",
       "       -4.70722446e-01,  1.57025224e+00,  5.69808622e-01,  4.30330153e-01,\n",
       "        1.94460952e+00,  2.46669163e+00,  8.58794418e-01,  2.35345724e+00,\n",
       "        2.09184814e+00,  1.53227823e+00,  5.04296001e-01,  5.18571216e-01,\n",
       "       -1.95199802e-02, -1.85468996e+00, -3.44827414e-01,  6.87435361e-02,\n",
       "       -9.62454705e-01,  1.75288629e+00,  8.14389545e-01,  7.27761376e-01,\n",
       "       -3.56375472e-01, -1.30589699e-01, -4.28014755e-01,  5.73310290e-01,\n",
       "        1.09851425e+00, -5.47058054e-02, -1.41240199e+00, -1.35444930e+00,\n",
       "       -2.07917905e+00, -2.64326938e+00, -1.46881078e+00, -7.26174855e-01,\n",
       "        1.36194353e-01,  1.17009688e+00, -1.18357603e+00,  7.23836235e-01,\n",
       "       -3.46601045e-01, -1.38777825e+00,  4.29424840e-01,  1.52024688e+00,\n",
       "        9.18987384e-01, -2.36917218e-01, -1.21701173e+00, -9.99662074e-01,\n",
       "       -3.90432723e-01, -1.19623608e-01, -7.80481888e-01, -1.06052348e+00,\n",
       "       -1.88217381e+00, -2.93153731e-01, -3.40598017e-01, -1.44637670e+00,\n",
       "       -1.52444175e+00, -1.92750478e+00, -1.64355627e+00, -1.73073317e+00,\n",
       "       -7.71277890e-01, -3.69689480e-01, -2.25073879e+00, -1.58043990e+00,\n",
       "       -2.54980717e+00, -3.12045403e+00, -3.54646949e+00, -3.50919952e+00,\n",
       "       -1.89387598e+00, -5.16484727e-01,  1.47590511e-01,  1.77403647e+00,\n",
       "        1.20270732e+00,  2.47104805e-02,  5.03231205e-01, -2.83497863e-02,\n",
       "       -1.99879525e+00, -3.13654943e+00, -1.99339179e+00, -2.15124802e-01,\n",
       "       -4.38358855e-02,  1.13872331e+00,  7.56129756e-01,  1.93714244e+00,\n",
       "        5.97156461e-01,  6.31434904e-01,  9.04204570e-02, -7.29717538e-01,\n",
       "        8.77459733e-01,  4.70513929e-01,  1.06060267e+00, -8.02108986e-02,\n",
       "       -9.89425587e-01, -1.56412147e+00, -2.29502015e+00, -4.53174337e+00,\n",
       "       -4.77872955e+00, -4.75039639e+00, -4.46161759e+00, -3.16611193e+00,\n",
       "       -2.77166147e+00, -3.53898375e+00, -2.40198930e+00, -2.39277513e+00,\n",
       "       -3.20894523e+00, -2.85242671e+00, -1.59711125e+00,  1.06711606e+00,\n",
       "        7.88869182e-01,  6.33866939e-01,  5.65242416e-01,  2.40653941e-01,\n",
       "        6.47152180e-01,  3.63412748e-01, -8.61930897e-01, -1.61205543e+00,\n",
       "       -5.88792498e-03,  1.50807085e-01, -1.64537706e-01, -2.43203352e-01,\n",
       "       -2.01497294e-01, -2.02316457e+00, -1.39352106e+00, -2.56029539e-01,\n",
       "        8.90499851e-02,  5.89784310e-01,  7.17723380e-01, -9.20206452e-01,\n",
       "       -1.77011140e+00, -1.91035868e+00, -2.26855748e+00, -8.88536577e-02,\n",
       "       -7.69506275e-02, -6.50446051e-01, -1.41029022e+00, -1.11851782e+00,\n",
       "        8.59248034e-02,  3.76958652e-01,  1.64053943e+00,  1.96434295e+00,\n",
       "        7.26119129e-01,  1.98171633e-01,  4.04764205e-01,  1.08043510e+00,\n",
       "        1.67129174e+00, -7.10039595e-02, -9.25283497e-01, -2.46081289e+00,\n",
       "       -2.09030704e+00, -2.55064633e+00, -1.10031516e+00, -2.67290766e+00,\n",
       "       -3.32058822e+00, -2.13655215e+00, -1.43645437e+00, -1.62906899e+00,\n",
       "       -6.91159941e-01, -5.10358734e-01, -8.93398849e-01, -2.41678861e-01,\n",
       "       -1.48347944e+00, -2.02954418e+00, -1.45460545e+00, -3.72989445e-01,\n",
       "       -1.22276435e+00, -4.98378532e-01, -5.30082630e-01, -1.17865259e-01,\n",
       "       -5.09084609e-01, -8.91460087e-01, -1.95228587e+00, -1.96188381e+00,\n",
       "       -7.36263457e-01,  2.18432048e-01,  1.61314969e+00,  1.92718619e+00,\n",
       "        1.29641295e+00, -4.94770309e-01,  1.82472708e-01, -8.02470681e-02,\n",
       "        1.16645886e+00,  7.63530680e-02, -6.88478092e-01,  5.05846593e-01,\n",
       "        5.65599189e-01,  1.42671131e+00, -1.01220505e-01, -1.11074537e+00,\n",
       "       -7.64488771e-01, -1.57699859e+00, -1.95406785e+00, -2.61991787e+00,\n",
       "       -2.25346692e+00, -3.24811222e-01,  2.42376352e+00,  3.31960071e+00,\n",
       "        1.21509534e+00,  1.52726465e+00,  2.39965068e+00,  1.99905078e+00,\n",
       "       -1.32764541e-01, -1.85957696e+00, -2.21102450e+00, -1.82277243e+00,\n",
       "       -1.95702336e+00, -2.63158503e+00, -4.07193219e+00, -5.01904693e+00,\n",
       "       -4.57210972e+00, -3.58585755e+00, -2.81306480e+00, -2.74200071e+00,\n",
       "       -2.26291384e+00, -4.90172451e-01,  7.99279881e-02,  3.18497008e-01,\n",
       "       -1.29091436e+00, -7.87752069e-01,  2.11827396e-01,  4.99550815e-01,\n",
       "       -4.65800610e-01,  1.66422195e+00,  1.04913637e+00,  1.05385611e+00,\n",
       "       -9.14231576e-01,  4.02981605e-01, -3.67254547e-02,  1.42671978e+00,\n",
       "        6.44918844e-01, -8.31745281e-01, -5.04840254e-01,  7.69159151e-02,\n",
       "       -3.26849517e-01, -5.97763178e-01, -1.09092142e+00, -1.15914861e+00,\n",
       "       -2.53460683e+00, -2.04029484e+00, -1.82623199e+00, -1.92334789e+00,\n",
       "       -1.95365778e+00, -2.34114275e+00, -2.24474707e+00, -4.32200765e-01,\n",
       "        1.71791175e-01, -1.75252243e+00, -1.26472643e+00, -1.71063178e+00,\n",
       "       -2.87500273e+00, -1.22842734e+00, -2.71767011e-01,  1.59651130e+00,\n",
       "       -1.13493792e-01,  1.26310719e+00,  1.40071891e+00,  4.24528618e-01,\n",
       "       -7.79951698e-01, -1.04841694e+00,  1.51147898e+00,  6.95593857e-01,\n",
       "        2.78835776e+00,  1.83454237e+00,  2.03556257e+00,  1.08793158e+00,\n",
       "        1.58985156e+00,  3.56671056e-01, -3.63032179e-01, -3.68504947e-01,\n",
       "       -6.90786692e-01,  1.09695329e-01,  5.08439749e-01,  4.96054181e-01,\n",
       "       -6.27160743e-02, -1.51924488e-01, -1.46855664e+00, -8.38874093e-01,\n",
       "       -1.69904621e-01,  1.16925367e-01, -1.98564410e+00, -1.38227600e+00,\n",
       "       -5.37901049e-01, -2.10898540e+00, -6.91267873e-01, -8.54441667e-01,\n",
       "       -1.00203416e+00, -1.64668593e+00, -1.39821591e+00,  4.99285526e-01,\n",
       "        7.25011587e-01,  1.81211364e+00,  2.59559280e+00,  3.32959082e+00,\n",
       "        2.60115329e+00,  1.17643919e+00,  1.02886231e+00, -1.16575631e-01,\n",
       "       -1.64428613e+00,  7.08591123e-01,  1.73840768e+00,  3.98360163e-01,\n",
       "        6.14410887e-01,  7.21027707e-01,  6.46798644e-01,  4.12452523e-01,\n",
       "        5.65504625e-02, -1.51318629e-01, -1.92501387e+00, -1.70387329e+00,\n",
       "       -2.29345184e+00, -1.78824330e+00, -7.76436774e-01, -1.06589729e+00,\n",
       "        2.22028115e-01,  1.36002269e+00,  2.04911693e+00,  2.23750267e+00,\n",
       "        1.80933296e+00,  6.77900389e-02, -1.40542858e+00, -1.29133507e+00,\n",
       "       -1.11023259e-02, -1.06733978e+00, -3.24423051e+00, -2.29651533e+00,\n",
       "       -1.29956048e+00, -5.65476057e-01,  4.94274801e-01,  1.15151122e+00,\n",
       "        1.74434930e-01, -1.62681720e+00, -4.74395509e-01,  7.78823548e-02,\n",
       "        1.08261765e-01, -2.56379277e-02,  9.56763931e-01,  2.71723308e-01,\n",
       "        1.27014261e+00,  4.36191800e-01, -1.94630478e-01, -7.41688455e-01,\n",
       "        1.14397564e+00,  2.03375461e+00,  9.38953915e-01,  1.67577820e+00,\n",
       "        6.58332714e-01,  9.49899380e-01,  2.34569387e+00, -2.26188369e-01,\n",
       "        8.41943024e-01,  1.15317775e+00,  1.66831058e+00,  4.56338750e-01,\n",
       "        6.99080907e-01,  1.41768823e+00,  9.70243525e-01, -5.23811705e-01,\n",
       "        7.72933733e-01,  1.66441153e+00,  1.11261743e+00,  1.00608261e+00,\n",
       "        1.43016900e+00,  6.40851507e-01,  2.16373352e+00,  2.43895514e+00,\n",
       "        1.12490463e+00,  4.13678649e-01,  1.91837811e-02, -9.87677455e-03,\n",
       "       -1.15809335e+00, -4.79683060e-01, -2.73094259e+00, -1.48603898e+00,\n",
       "       -1.05389985e+00, -1.12061884e+00,  4.22976313e-01, -6.83857662e-01,\n",
       "        1.29388161e-01,  5.76387938e-01,  6.70686242e-01,  8.13039391e-02,\n",
       "       -3.35570457e-01, -7.74555229e-01,  4.86788770e-01, -1.28098549e+00,\n",
       "       -3.08191585e+00, -2.36764554e+00, -7.35324657e-01, -2.65036858e-01,\n",
       "       -2.47450378e+00, -3.29753450e+00, -2.47159921e+00, -2.40448567e+00,\n",
       "       -1.76937509e+00,  5.91966771e-01,  1.48591049e+00,  7.32323744e-01,\n",
       "        6.24140725e-01, -1.92916872e-01,  6.84788195e-01,  1.63854390e+00,\n",
       "       -3.94404045e-03,  9.34607121e-01,  1.76779372e+00,  1.03009812e+00,\n",
       "        2.09167788e+00, -8.04483614e-02,  1.18226834e+00,  1.29990523e+00,\n",
       "        1.91734203e+00,  4.30501352e-02,  6.12045117e-01, -5.89614749e-01,\n",
       "       -1.24716916e+00, -1.47489486e+00, -1.11662665e+00, -6.88977499e-02,\n",
       "       -8.98927517e-01, -1.62455624e+00, -1.91400565e+00, -2.79556327e-01,\n",
       "        1.03038925e+00,  1.88066662e+00,  2.09747681e+00,  5.01032479e-01,\n",
       "       -5.05426654e-01, -6.75003933e-01, -8.77892104e-01, -7.37371167e-01,\n",
       "        1.67664043e-01, -1.45895517e+00, -4.40805740e-01,  1.04424200e+00,\n",
       "        9.31887889e-01,  8.61395795e-01,  4.40658687e-01, -6.08881933e-02,\n",
       "        2.68486343e-01, -1.37089559e+00, -1.60112531e+00, -1.64782904e+00,\n",
       "       -1.34831968e+00, -1.63316386e+00, -1.44840561e+00, -7.76168069e-01,\n",
       "        2.30082680e-01,  1.36632828e+00,  2.65096850e+00,  1.04499578e+00,\n",
       "       -1.25568033e-01,  2.01997194e+00,  7.07844118e-01,  6.32434244e-01,\n",
       "        1.52489588e+00,  6.61448455e-01, -8.63994261e-01, -1.74052089e+00,\n",
       "       -4.78704932e-01, -1.12822731e+00, -1.27679292e+00,  1.25809573e+00,\n",
       "        4.42437893e-01,  8.57166446e-01,  4.11973796e-01, -1.50701142e-01,\n",
       "       -6.86633128e-01, -2.61732232e-01,  1.29356752e+00, -9.56823488e-02,\n",
       "        6.62051406e-01, -1.86308863e+00, -8.65818676e-01, -8.92493246e-01,\n",
       "       -1.47082987e+00, -1.07606112e+00, -1.01375337e+00, -1.23223152e+00,\n",
       "       -1.60716995e+00, -2.58668565e+00, -2.34367079e+00, -2.16684585e+00,\n",
       "       -2.71515713e+00, -2.56289953e+00, -7.67508734e-01, -1.31859942e+00,\n",
       "       -1.51985616e+00,  7.27729957e-01, -1.23245083e-01, -1.47726848e+00,\n",
       "       -9.48193596e-02,  9.71947727e-01,  2.93251253e-01,  1.27835205e+00,\n",
       "        1.83788672e+00,  2.27106141e+00,  2.66532272e+00,  1.44378810e+00,\n",
       "        8.42334889e-01,  1.06432735e+00,  1.14688416e+00,  9.30006375e-01,\n",
       "        5.12290955e-01,  8.93108176e-01,  7.13265516e-01,  1.45332450e+00,\n",
       "        1.42109108e+00,  7.26890228e-03,  2.85632324e-01, -8.10306137e-02,\n",
       "        1.15365049e+00,  1.49296205e+00,  1.27184934e+00,  2.76065931e-01,\n",
       "       -1.17848402e+00, -3.59521437e+00, -2.17413290e+00, -3.83932683e-01,\n",
       "       -1.04933133e+00, -1.19501731e+00, -1.65272854e+00, -1.80609284e+00,\n",
       "       -1.49023664e+00, -2.28736349e+00, -3.51311318e+00, -1.16485081e+00,\n",
       "       -2.66769214e+00,  2.26546187e-01, -6.77795497e-01, -1.02327285e-01,\n",
       "        6.37878022e-01,  1.02668010e+00, -1.48878991e+00, -1.83897640e+00,\n",
       "       -2.54549895e+00, -2.38784759e+00, -1.70984781e+00, -2.71630392e-01,\n",
       "        5.32067608e-01,  1.05725172e+00,  1.04384057e-01, -3.44214372e-01,\n",
       "        4.40336905e-01, -9.62758110e-01,  1.64961455e+00,  1.19458170e+00,\n",
       "        1.20923958e+00, -3.80579695e-01, -1.55200728e+00,  6.17346533e-01,\n",
       "        4.98345205e-01, -5.57955672e-01, -2.71781193e-01,  1.63778917e+00,\n",
       "        1.90193565e+00,  1.98832461e-02, -6.46476977e-01, -1.85549989e+00,\n",
       "       -2.72117885e+00, -1.40963712e+00, -1.39424498e+00, -1.98720856e+00,\n",
       "       -1.65062979e+00, -8.31809686e-01, -6.26743724e-01, -1.10355246e-01,\n",
       "       -1.51472715e+00, -2.35205368e-01,  4.86185573e-01,  8.34560116e-01,\n",
       "        6.52716769e-01, -4.23850808e-01, -2.36127015e-01, -1.55737778e+00,\n",
       "       -1.78103312e+00, -1.45108634e+00, -2.30000823e+00, -1.45053683e+00,\n",
       "        3.95458710e-01,  2.22241118e+00,  3.27753880e+00,  2.50716287e+00,\n",
       "        1.22914051e+00,  1.35554883e+00,  1.97989535e-01,  4.03206347e-02,\n",
       "       -6.92981396e-01, -8.58861509e-01,  9.85869147e-01, -3.44422588e-01,\n",
       "       -2.55950240e-01,  6.84162612e-01, -1.18907686e+00, -1.81874036e+00,\n",
       "       -1.77127725e+00, -2.91347671e+00, -2.06672654e+00, -3.30167967e+00,\n",
       "       -5.53814225e+00, -4.43566649e+00, -3.79854401e+00, -1.58817574e+00,\n",
       "       -3.12943640e+00, -7.45153998e-01, -4.12863066e-02, -1.01375485e+00,\n",
       "        3.35090299e-01,  1.78028462e-01,  4.37926164e-01,  6.93762315e-01,\n",
       "        1.02578004e+00,  1.07557681e+00, -6.39162040e-01, -1.02610571e+00,\n",
       "       -4.32114611e-01,  3.39365201e-01,  1.58570360e+00,  1.40419927e+00,\n",
       "        1.68945275e+00,  2.29211799e+00,  1.71664014e+00,  1.42020352e+00,\n",
       "        3.26776701e-01,  5.77206814e-01,  1.25130724e+00,  2.16496192e+00,\n",
       "        4.87836556e-01,  5.90113765e-01,  1.26701738e+00,  1.31517690e+00,\n",
       "        1.03976821e+00, -8.02836185e-01,  5.67767072e-02, -1.49631368e+00,\n",
       "       -2.30549400e+00, -3.26198257e+00, -2.27500391e+00, -9.10541033e-01,\n",
       "       -9.93645696e-01, -2.20718445e+00, -2.40906904e+00, -1.60546346e+00,\n",
       "        3.95923746e-01, -3.66274193e-01,  6.06319769e-01,  1.00735690e-01,\n",
       "        1.93023649e+00,  2.42547479e+00,  2.67055186e+00,  2.55237815e+00,\n",
       "        2.33474613e+00,  2.91891843e+00,  3.01531293e+00,  3.05633638e+00,\n",
       "        2.25265959e+00,  2.04188756e+00,  3.28422337e-01,  1.56495415e+00,\n",
       "        9.96648574e-01,  1.54121951e+00,  1.79858322e+00,  1.32186220e+00])"
      ]
     },
     "execution_count": 67,
     "metadata": {},
     "output_type": "execute_result"
    }
   ],
   "source": [
    "import numpy as np\n",
    "from matplotlib import pyplot as plt\n",
    "%matplotlib inline \n",
    "\n",
    "T = 1000\n",
    "y = np.zeros(T)\n",
    "np.random.seed(1001)\n",
    "e = np.random.randn(T)\n",
    "y[0] = 10\n",
    "for t in range(1, T):\n",
    "    y[t] = 0.8 * y[t-1]+e[t]\n",
    "y2 = y[:]\n",
    "y2"
   ]
  },
  {
   "cell_type": "code",
   "execution_count": 68,
   "metadata": {},
   "outputs": [
    {
     "data": {
      "text/plain": [
       "[<matplotlib.lines.Line2D at 0x11492e240>]"
      ]
     },
     "execution_count": 68,
     "metadata": {},
     "output_type": "execute_result"
    },
    {
     "data": {
      "image/png": "[encoded data removed]",
      "text/plain": [
       "<Figure size 432x288 with 1 Axes>"
      ]
     },
     "metadata": {},
     "output_type": "display_data"
    }
   ],
   "source": [
    "plt.ylabel('y')\n",
    "plt.xlabel(\"t\")\n",
    "plt.title(\"Awesome Graph\")\n",
    "plt.plot(y2)"
   ]
  },
  {
   "cell_type": "code",
   "execution_count": null,
   "metadata": {},
   "outputs": [],
   "source": []
  },
  {
   "cell_type": "code",
   "execution_count": null,
   "metadata": {},
   "outputs": [],
   "source": []
  },
  {
   "cell_type": "markdown",
   "metadata": {},
   "source": [
    "### Exercise 9. Estimating an AR(1)\n",
    "\n",
    "Use simulated data $y_t$ from Exercise 8 to estimate regression coefficients ($\\phi_{0}$ and $\\phi_{1}$) using OLS. The regression takes the form:\n",
    "\n",
    "$y_{t}=\\phi_{0} + \\phi_{1}y_{t-1}+\\epsilon_{t}$\n",
    "\n",
    "    \n",
    "The steps are described as follows:\n",
    "1. Create a (T-1)x2 matrix $[1, y_{t-1}]$ and call it RHS, where T is the number of observations.\n",
    "\n",
    "2. Let the variable LHS = $y_{t}$. This vector is of dimension (T-1)x1\n",
    "\n",
    "3. Compute $$\\phi = (RHS*RHS)^{-1}*RHS*LHS $$ (You may need to use the inv function by running `from numpy.linalg import inv`). $\\phi$ is a vector of $\\phi_{0}$ and $\\phi_{1}$.\n"
   ]
  },
  {
   "cell_type": "code",
   "execution_count": null,
   "metadata": {},
   "outputs": [],
   "source": []
  },
  {
   "cell_type": "code",
   "execution_count": null,
   "metadata": {},
   "outputs": [],
   "source": []
  },
  {
   "cell_type": "code",
   "execution_count": null,
   "metadata": {},
   "outputs": [],
   "source": []
  },
  {
   "cell_type": "code",
   "execution_count": null,
   "metadata": {},
   "outputs": [],
   "source": []
  },
  {
   "cell_type": "markdown",
   "metadata": {},
   "source": [
    "### Exercise 10 (optional)\n",
    "\n",
    "Simulate the impulse response (IR) of y to a 1-standard-deviation positive shock in period 1, using estimated parameters $\\phi_{0}$ and $\\phi_{1}$ from Exercise 9. \n",
    "\n",
    "The steps are described as follow:\n",
    "\n",
    "1. Let N=10. Create a Nx1 vector $\\tilde{y_t}$  (fill it up with zeros)\n",
    "\n",
    "2. Set the initial value as $\\tilde{y}_{1} = \\phi_{0}/(1-\\phi_{1})$\n",
    "\n",
    "3. In **period 2**, generate a positive random shock $\\tilde{\\epsilon_2}$ from a standard normal distribution (Hint: use function abs() to get the positive part of a number). \n",
    "\n",
    "4. Generate the value $\\tilde{y}_{2}$ following the function:\n",
    "    $\\tilde{y}_{2}=\\phi_{0} + \\phi_{1}\\tilde{y_{1}}+\\tilde{\\epsilon_{2}}$\n",
    "    \n",
    "5. We assume no shock takes place from **period 3 on**. Then we can compute the value $\\tilde{y_t}$ for $t=3,4,...10$ using the following equation:\n",
    "    $\\tilde{y_t}=\\phi_{0} + \\phi_{1}\\tilde{y}_{t-1}$\n",
    "    \n",
    "Plot time n=1,...,10 against $\\tilde{y_t}$"
   ]
  },
  {
   "cell_type": "code",
   "execution_count": null,
   "metadata": {},
   "outputs": [],
   "source": []
  },
  {
   "cell_type": "code",
   "execution_count": null,
   "metadata": {},
   "outputs": [],
   "source": []
  },
  {
   "cell_type": "code",
   "execution_count": null,
   "metadata": {},
   "outputs": [],
   "source": []
  },
  {
   "cell_type": "code",
   "execution_count": null,
   "metadata": {},
   "outputs": [],
   "source": []
  },
  {
   "cell_type": "code",
   "execution_count": null,
   "metadata": {},
   "outputs": [],
   "source": []
  }
 ],
 "metadata": {
  "kernelspec": {
   "display_name": "Python 3",
   "language": "python",
   "name": "python3"
  },
  "language_info": {
   "codemirror_mode": {
    "name": "ipython",
    "version": 3
   },
   "file_extension": ".py",
   "mimetype": "text/x-python",
   "name": "python",
   "nbconvert_exporter": "python",
   "pygments_lexer": "ipython3",
   "version": "3.6.5"
  }
 },
 "nbformat": 4,
 "nbformat_minor": 2
}
