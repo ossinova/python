{
 "cells": [
  {
   "cell_type": "markdown",
   "metadata": {},
   "source": [
    "# Data Types, and ArrayNumpy"
   ]
  },
  {
   "cell_type": "code",
   "execution_count": null,
   "metadata": {},
   "outputs": [],
   "source": [
    "In this section, you will learn to store information in variables, strings, numbers and ArrayNumpy. You will learn about two types of data: strings, which are sets of characters, and numerical data types.\n",
    "\n",
    "### Table of contents\n",
    "\n",
    "* Section 1.1 Variable\n",
    "* Section 1.2 Number\n",
    "* Section 1.3 String\n",
    "* Section 1.4 Intro Numpy Arrays\n"
   ]
  },
  {
   "cell_type": "markdown",
   "metadata": {},
   "source": [
    "# 1.1 Variables\n",
    "\n"
   ]
  },
  {
   "cell_type": "markdown",
   "metadata": {},
   "source": [
    "## Values and types\n",
    "\n",
    "A value is one of the basic things a program works with, like a letter or a number. They may be of different types"
   ]
  },
  {
   "cell_type": "code",
   "execution_count": 2,
   "metadata": {},
   "outputs": [
    {
     "data": {
      "text/plain": [
       "9"
      ]
     },
     "execution_count": 2,
     "metadata": {},
     "output_type": "execute_result"
    }
   ],
   "source": [
    "potato = 9\n",
    "potato"
   ]
  },
  {
   "cell_type": "code",
   "execution_count": 3,
   "metadata": {},
   "outputs": [
    {
     "data": {
      "text/plain": [
       "9"
      ]
     },
     "execution_count": 3,
     "metadata": {},
     "output_type": "execute_result"
    }
   ],
   "source": [
    "potato"
   ]
  },
  {
   "cell_type": "code",
   "execution_count": 5,
   "metadata": {},
   "outputs": [
    {
     "data": {
      "text/plain": [
       "4"
      ]
     },
     "execution_count": 5,
     "metadata": {},
     "output_type": "execute_result"
    }
   ],
   "source": [
    "2+2"
   ]
  },
  {
   "cell_type": "code",
   "execution_count": 15,
   "metadata": {},
   "outputs": [
    {
     "name": "stdout",
     "output_type": "stream",
     "text": [
      "Type a number:1000\n",
      "Henrik er kul!\n",
      "Henrik er kul!\n",
      "Henrik er kul!\n",
      "Henrik er kul!\n",
      "Henrik er kul!\n",
      "Henrik er kul!\n",
      "Henrik er kul!\n",
      "Henrik er kul!\n",
      "Henrik er kul!\n",
      "Henrik er kul!\n",
      "Henrik er kul!\n",
      "Henrik er kul!\n",
      "Henrik er kul!\n",
      "Henrik er kul!\n",
      "Henrik er kul!\n",
      "Henrik er kul!\n",
      "Henrik er kul!\n",
      "Henrik er kul!\n",
      "Henrik er kul!\n",
      "Henrik er kul!\n",
      "Henrik er kul!\n",
      "Henrik er kul!\n",
      "Henrik er kul!\n",
      "Henrik er kul!\n",
      "Henrik er kul!\n",
      "Henrik er kul!\n",
      "Henrik er kul!\n",
      "Henrik er kul!\n",
      "Henrik er kul!\n",
      "Henrik er kul!\n",
      "Henrik er kul!\n",
      "Henrik er kul!\n",
      "Henrik er kul!\n",
      "Henrik er kul!\n",
      "Henrik er kul!\n",
      "Henrik er kul!\n",
      "Henrik er kul!\n",
      "Henrik er kul!\n",
      "Henrik er kul!\n",
      "Henrik er kul!\n",
      "Henrik er kul!\n",
      "Henrik er kul!\n",
      "Henrik er kul!\n",
      "Henrik er kul!\n",
      "Henrik er kul!\n",
      "Henrik er kul!\n",
      "Henrik er kul!\n",
      "Henrik er kul!\n",
      "Henrik er kul!\n",
      "Henrik er kul!\n",
      "Henrik er kul!\n",
      "Henrik er kul!\n",
      "Henrik er kul!\n",
      "Henrik er kul!\n",
      "Henrik er kul!\n",
      "Henrik er kul!\n",
      "Henrik er kul!\n",
      "Henrik er kul!\n",
      "Henrik er kul!\n",
      "Henrik er kul!\n",
      "Henrik er kul!\n",
      "Henrik er kul!\n",
      "Henrik er kul!\n",
      "Henrik er kul!\n",
      "Henrik er kul!\n",
      "Henrik er kul!\n",
      "Henrik er kul!\n",
      "Henrik er kul!\n",
      "Henrik er kul!\n",
      "Henrik er kul!\n",
      "Henrik er kul!\n",
      "Henrik er kul!\n",
      "Henrik er kul!\n",
      "Henrik er kul!\n",
      "Henrik er kul!\n",
      "Henrik er kul!\n",
      "Henrik er kul!\n",
      "Henrik er kul!\n",
      "Henrik er kul!\n",
      "Henrik er kul!\n",
      "Henrik er kul!\n",
      "Henrik er kul!\n",
      "Henrik er kul!\n",
      "Henrik er kul!\n",
      "Henrik er kul!\n",
      "Henrik er kul!\n",
      "Henrik er kul!\n",
      "Henrik er kul!\n",
      "Henrik er kul!\n",
      "Henrik er kul!\n",
      "Henrik er kul!\n",
      "Henrik er kul!\n",
      "Henrik er kul!\n",
      "Henrik er kul!\n",
      "Henrik er kul!\n",
      "Henrik er kul!\n",
      "Henrik er kul!\n",
      "Henrik er kul!\n",
      "Henrik er kul!\n",
      "Henrik er kul!\n",
      "Henrik er kul!\n",
      "Henrik er kul!\n",
      "Henrik er kul!\n",
      "Henrik er kul!\n",
      "Henrik er kul!\n",
      "Henrik er kul!\n",
      "Henrik er kul!\n",
      "Henrik er kul!\n",
      "Henrik er kul!\n",
      "Henrik er kul!\n",
      "Henrik er kul!\n",
      "Henrik er kul!\n",
      "Henrik er kul!\n",
      "Henrik er kul!\n",
      "Henrik er kul!\n",
      "Henrik er kul!\n",
      "Henrik er kul!\n",
      "Henrik er kul!\n",
      "Henrik er kul!\n",
      "Henrik er kul!\n",
      "Henrik er kul!\n",
      "Henrik er kul!\n",
      "Henrik er kul!\n",
      "Henrik er kul!\n",
      "Henrik er kul!\n",
      "Henrik er kul!\n",
      "Henrik er kul!\n",
      "Henrik er kul!\n",
      "Henrik er kul!\n",
      "Henrik er kul!\n",
      "Henrik er kul!\n",
      "Henrik er kul!\n",
      "Henrik er kul!\n",
      "Henrik er kul!\n",
      "Henrik er kul!\n",
      "Henrik er kul!\n",
      "Henrik er kul!\n",
      "Henrik er kul!\n",
      "Henrik er kul!\n",
      "Henrik er kul!\n",
      "Henrik er kul!\n",
      "Henrik er kul!\n",
      "Henrik er kul!\n",
      "Henrik er kul!\n",
      "Henrik er kul!\n",
      "Henrik er kul!\n",
      "Henrik er kul!\n",
      "Henrik er kul!\n",
      "Henrik er kul!\n",
      "Henrik er kul!\n",
      "Henrik er kul!\n",
      "Henrik er kul!\n",
      "Henrik er kul!\n",
      "Henrik er kul!\n",
      "Henrik er kul!\n",
      "Henrik er kul!\n",
      "Henrik er kul!\n",
      "Henrik er kul!\n",
      "Henrik er kul!\n",
      "Henrik er kul!\n",
      "Henrik er kul!\n",
      "Henrik er kul!\n",
      "Henrik er kul!\n",
      "Henrik er kul!\n",
      "Henrik er kul!\n",
      "Henrik er kul!\n",
      "Henrik er kul!\n",
      "Henrik er kul!\n",
      "Henrik er kul!\n",
      "Henrik er kul!\n",
      "Henrik er kul!\n",
      "Henrik er kul!\n",
      "Henrik er kul!\n",
      "Henrik er kul!\n",
      "Henrik er kul!\n",
      "Henrik er kul!\n",
      "Henrik er kul!\n",
      "Henrik er kul!\n",
      "Henrik er kul!\n",
      "Henrik er kul!\n",
      "Henrik er kul!\n",
      "Henrik er kul!\n",
      "Henrik er kul!\n",
      "Henrik er kul!\n",
      "Henrik er kul!\n",
      "Henrik er kul!\n",
      "Henrik er kul!\n",
      "Henrik er kul!\n",
      "Henrik er kul!\n",
      "Henrik er kul!\n",
      "Henrik er kul!\n",
      "Henrik er kul!\n",
      "Henrik er kul!\n",
      "Henrik er kul!\n",
      "Henrik er kul!\n",
      "Henrik er kul!\n",
      "Henrik er kul!\n",
      "Henrik er kul!\n",
      "Henrik er kul!\n",
      "Henrik er kul!\n",
      "Henrik er kul!\n",
      "Henrik er kul!\n",
      "Henrik er kul!\n",
      "Henrik er kul!\n",
      "Henrik er kul!\n",
      "Henrik er kul!\n",
      "Henrik er kul!\n",
      "Henrik er kul!\n",
      "Henrik er kul!\n",
      "Henrik er kul!\n",
      "Henrik er kul!\n",
      "Henrik er kul!\n",
      "Henrik er kul!\n",
      "Henrik er kul!\n",
      "Henrik er kul!\n",
      "Henrik er kul!\n",
      "Henrik er kul!\n",
      "Henrik er kul!\n",
      "Henrik er kul!\n",
      "Henrik er kul!\n",
      "Henrik er kul!\n",
      "Henrik er kul!\n",
      "Henrik er kul!\n",
      "Henrik er kul!\n",
      "Henrik er kul!\n",
      "Henrik er kul!\n",
      "Henrik er kul!\n",
      "Henrik er kul!\n",
      "Henrik er kul!\n",
      "Henrik er kul!\n",
      "Henrik er kul!\n",
      "Henrik er kul!\n",
      "Henrik er kul!\n",
      "Henrik er kul!\n",
      "Henrik er kul!\n",
      "Henrik er kul!\n",
      "Henrik er kul!\n",
      "Henrik er kul!\n",
      "Henrik er kul!\n",
      "Henrik er kul!\n",
      "Henrik er kul!\n",
      "Henrik er kul!\n",
      "Henrik er kul!\n",
      "Henrik er kul!\n",
      "Henrik er kul!\n",
      "Henrik er kul!\n",
      "Henrik er kul!\n",
      "Henrik er kul!\n",
      "Henrik er kul!\n",
      "Henrik er kul!\n",
      "Henrik er kul!\n",
      "Henrik er kul!\n",
      "Henrik er kul!\n",
      "Henrik er kul!\n",
      "Henrik er kul!\n",
      "Henrik er kul!\n",
      "Henrik er kul!\n",
      "Henrik er kul!\n",
      "Henrik er kul!\n",
      "Henrik er kul!\n",
      "Henrik er kul!\n",
      "Henrik er kul!\n",
      "Henrik er kul!\n",
      "Henrik er kul!\n",
      "Henrik er kul!\n",
      "Henrik er kul!\n",
      "Henrik er kul!\n",
      "Henrik er kul!\n",
      "Henrik er kul!\n",
      "Henrik er kul!\n",
      "Henrik er kul!\n",
      "Henrik er kul!\n",
      "Henrik er kul!\n",
      "Henrik er kul!\n",
      "Henrik er kul!\n",
      "Henrik er kul!\n",
      "Henrik er kul!\n",
      "Henrik er kul!\n",
      "Henrik er kul!\n",
      "Henrik er kul!\n",
      "Henrik er kul!\n",
      "Henrik er kul!\n",
      "Henrik er kul!\n",
      "Henrik er kul!\n",
      "Henrik er kul!\n",
      "Henrik er kul!\n",
      "Henrik er kul!\n",
      "Henrik er kul!\n",
      "Henrik er kul!\n",
      "Henrik er kul!\n",
      "Henrik er kul!\n",
      "Henrik er kul!\n",
      "Henrik er kul!\n",
      "Henrik er kul!\n",
      "Henrik er kul!\n",
      "Henrik er kul!\n",
      "Henrik er kul!\n",
      "Henrik er kul!\n",
      "Henrik er kul!\n",
      "Henrik er kul!\n",
      "Henrik er kul!\n",
      "Henrik er kul!\n",
      "Henrik er kul!\n",
      "Henrik er kul!\n",
      "Henrik er kul!\n",
      "Henrik er kul!\n",
      "Henrik er kul!\n",
      "Henrik er kul!\n",
      "Henrik er kul!\n",
      "Henrik er kul!\n",
      "Henrik er kul!\n",
      "Henrik er kul!\n",
      "Henrik er kul!\n",
      "Henrik er kul!\n",
      "Henrik er kul!\n",
      "Henrik er kul!\n",
      "Henrik er kul!\n",
      "Henrik er kul!\n",
      "Henrik er kul!\n",
      "Henrik er kul!\n",
      "Henrik er kul!\n",
      "Henrik er kul!\n",
      "Henrik er kul!\n",
      "Henrik er kul!\n",
      "Henrik er kul!\n",
      "Henrik er kul!\n",
      "Henrik er kul!\n",
      "Henrik er kul!\n",
      "Henrik er kul!\n",
      "Henrik er kul!\n",
      "Henrik er kul!\n",
      "Henrik er kul!\n",
      "Henrik er kul!\n",
      "Henrik er kul!\n",
      "Henrik er kul!\n",
      "Henrik er kul!\n",
      "Henrik er kul!\n",
      "Henrik er kul!\n",
      "Henrik er kul!\n",
      "Henrik er kul!\n",
      "Henrik er kul!\n",
      "Henrik er kul!\n",
      "Henrik er kul!\n",
      "Henrik er kul!\n",
      "Henrik er kul!\n",
      "Henrik er kul!\n",
      "Henrik er kul!\n",
      "Henrik er kul!\n",
      "Henrik er kul!\n",
      "Henrik er kul!\n",
      "Henrik er kul!\n",
      "Henrik er kul!\n",
      "Henrik er kul!\n",
      "Henrik er kul!\n",
      "Henrik er kul!\n",
      "Henrik er kul!\n",
      "Henrik er kul!\n",
      "Henrik er kul!\n",
      "Henrik er kul!\n",
      "Henrik er kul!\n",
      "Henrik er kul!\n",
      "Henrik er kul!\n",
      "Henrik er kul!\n",
      "Henrik er kul!\n",
      "Henrik er kul!\n",
      "Henrik er kul!\n",
      "Henrik er kul!\n",
      "Henrik er kul!\n",
      "Henrik er kul!\n",
      "Henrik er kul!\n",
      "Henrik er kul!\n",
      "Henrik er kul!\n",
      "Henrik er kul!\n",
      "Henrik er kul!\n",
      "Henrik er kul!\n",
      "Henrik er kul!\n",
      "Henrik er kul!\n",
      "Henrik er kul!\n",
      "Henrik er kul!\n",
      "Henrik er kul!\n",
      "Henrik er kul!\n",
      "Henrik er kul!\n",
      "Henrik er kul!\n",
      "Henrik er kul!\n",
      "Henrik er kul!\n",
      "Henrik er kul!\n",
      "Henrik er kul!\n",
      "Henrik er kul!\n",
      "Henrik er kul!\n",
      "Henrik er kul!\n",
      "Henrik er kul!\n",
      "Henrik er kul!\n",
      "Henrik er kul!\n",
      "Henrik er kul!\n",
      "Henrik er kul!\n",
      "Henrik er kul!\n",
      "Henrik er kul!\n",
      "Henrik er kul!\n",
      "Henrik er kul!\n",
      "Henrik er kul!\n",
      "Henrik er kul!\n",
      "Henrik er kul!\n",
      "Henrik er kul!\n",
      "Henrik er kul!\n",
      "Henrik er kul!\n",
      "Henrik er kul!\n",
      "Henrik er kul!\n",
      "Henrik er kul!\n",
      "Henrik er kul!\n",
      "Henrik er kul!\n",
      "Henrik er kul!\n",
      "Henrik er kul!\n",
      "Henrik er kul!\n",
      "Henrik er kul!\n",
      "Henrik er kul!\n",
      "Henrik er kul!\n",
      "Henrik er kul!\n",
      "Henrik er kul!\n",
      "Henrik er kul!\n",
      "Henrik er kul!\n",
      "Henrik er kul!\n",
      "Henrik er kul!\n",
      "Henrik er kul!\n",
      "Henrik er kul!\n",
      "Henrik er kul!\n",
      "Henrik er kul!\n",
      "Henrik er kul!\n",
      "Henrik er kul!\n",
      "Henrik er kul!\n",
      "Henrik er kul!\n",
      "Henrik er kul!\n",
      "Henrik er kul!\n",
      "Henrik er kul!\n",
      "Henrik er kul!\n",
      "Henrik er kul!\n",
      "Henrik er kul!\n",
      "Henrik er kul!\n",
      "Henrik er kul!\n",
      "Henrik er kul!\n",
      "Henrik er kul!\n",
      "Henrik er kul!\n",
      "Henrik er kul!\n",
      "Henrik er kul!\n",
      "Henrik er kul!\n",
      "Henrik er kul!\n",
      "Henrik er kul!\n",
      "Henrik er kul!\n",
      "Henrik er kul!\n",
      "Henrik er kul!\n",
      "Henrik er kul!\n",
      "Henrik er kul!\n",
      "Henrik er kul!\n",
      "Henrik er kul!\n",
      "Henrik er kul!\n",
      "Henrik er kul!\n",
      "Henrik er kul!\n",
      "Henrik er kul!\n",
      "Henrik er kul!\n",
      "Henrik er kul!\n",
      "Henrik er kul!\n",
      "Henrik er kul!\n",
      "Henrik er kul!\n",
      "Henrik er kul!\n",
      "Henrik er kul!\n",
      "Henrik er kul!\n",
      "Henrik er kul!\n",
      "Henrik er kul!\n",
      "Henrik er kul!\n",
      "Henrik er kul!\n",
      "Henrik er kul!\n",
      "Henrik er kul!\n",
      "Henrik er kul!\n",
      "Henrik er kul!\n",
      "Henrik er kul!\n",
      "Henrik er kul!\n",
      "Henrik er kul!\n",
      "Henrik er kul!\n",
      "Henrik er kul!\n",
      "Henrik er kul!\n",
      "Henrik er kul!\n",
      "Henrik er kul!\n",
      "Henrik er kul!\n",
      "Henrik er kul!\n",
      "Henrik er kul!\n",
      "Henrik er kul!\n",
      "Henrik er kul!\n",
      "Henrik er kul!\n",
      "Henrik er kul!\n",
      "Henrik er kul!\n",
      "Henrik er kul!\n",
      "Henrik er kul!\n",
      "Henrik er kul!\n",
      "Henrik er kul!\n",
      "Henrik er kul!\n",
      "Henrik er kul!\n",
      "Henrik er kul!\n",
      "Henrik er kul!\n",
      "Henrik er kul!\n",
      "Henrik er kul!\n",
      "Henrik er kul!\n",
      "Henrik er kul!\n",
      "Henrik er kul!\n",
      "Henrik er kul!\n",
      "Henrik er kul!\n",
      "Henrik er kul!\n",
      "Henrik er kul!\n",
      "Henrik er kul!\n",
      "Henrik er kul!\n",
      "Henrik er kul!\n",
      "Henrik er kul!\n",
      "Henrik er kul!\n",
      "Henrik er kul!\n",
      "Henrik er kul!\n",
      "Henrik er kul!\n",
      "Henrik er kul!\n",
      "Henrik er kul!\n",
      "Henrik er kul!\n",
      "Henrik er kul!\n",
      "Henrik er kul!\n",
      "Henrik er kul!\n",
      "Henrik er kul!\n",
      "Henrik er kul!\n",
      "Henrik er kul!\n",
      "Henrik er kul!\n",
      "Henrik er kul!\n",
      "Henrik er kul!\n",
      "Henrik er kul!\n",
      "Henrik er kul!\n",
      "Henrik er kul!\n",
      "Henrik er kul!\n",
      "Henrik er kul!\n",
      "Henrik er kul!\n",
      "Henrik er kul!\n",
      "Henrik er kul!\n",
      "Henrik er kul!\n",
      "Henrik er kul!\n",
      "Henrik er kul!\n",
      "Henrik er kul!\n",
      "Henrik er kul!\n",
      "Henrik er kul!\n",
      "Henrik er kul!\n",
      "Henrik er kul!\n",
      "Henrik er kul!\n",
      "Henrik er kul!\n",
      "Henrik er kul!\n",
      "Henrik er kul!\n",
      "Henrik er kul!\n",
      "Henrik er kul!\n",
      "Henrik er kul!\n",
      "Henrik er kul!\n",
      "Henrik er kul!\n",
      "Henrik er kul!\n",
      "Henrik er kul!\n",
      "Henrik er kul!\n",
      "Henrik er kul!\n",
      "Henrik er kul!\n",
      "Henrik er kul!\n",
      "Henrik er kul!\n",
      "Henrik er kul!\n",
      "Henrik er kul!\n",
      "Henrik er kul!\n",
      "Henrik er kul!\n",
      "Henrik er kul!\n",
      "Henrik er kul!\n",
      "Henrik er kul!\n",
      "Henrik er kul!\n",
      "Henrik er kul!\n",
      "Henrik er kul!\n",
      "Henrik er kul!\n",
      "Henrik er kul!\n",
      "Henrik er kul!\n",
      "Henrik er kul!\n",
      "Henrik er kul!\n",
      "Henrik er kul!\n",
      "Henrik er kul!\n",
      "Henrik er kul!\n",
      "Henrik er kul!\n",
      "Henrik er kul!\n",
      "Henrik er kul!\n",
      "Henrik er kul!\n",
      "Henrik er kul!\n",
      "Henrik er kul!\n",
      "Henrik er kul!\n",
      "Henrik er kul!\n",
      "Henrik er kul!\n",
      "Henrik er kul!\n",
      "Henrik er kul!\n",
      "Henrik er kul!\n",
      "Henrik er kul!\n",
      "Henrik er kul!\n",
      "Henrik er kul!\n",
      "Henrik er kul!\n",
      "Henrik er kul!\n",
      "Henrik er kul!\n",
      "Henrik er kul!\n",
      "Henrik er kul!\n",
      "Henrik er kul!\n",
      "Henrik er kul!\n",
      "Henrik er kul!\n",
      "Henrik er kul!\n",
      "Henrik er kul!\n",
      "Henrik er kul!\n",
      "Henrik er kul!\n",
      "Henrik er kul!\n",
      "Henrik er kul!\n",
      "Henrik er kul!\n",
      "Henrik er kul!\n",
      "Henrik er kul!\n",
      "Henrik er kul!\n",
      "Henrik er kul!\n",
      "Henrik er kul!\n",
      "Henrik er kul!\n",
      "Henrik er kul!\n",
      "Henrik er kul!\n",
      "Henrik er kul!\n",
      "Henrik er kul!\n",
      "Henrik er kul!\n",
      "Henrik er kul!\n",
      "Henrik er kul!\n",
      "Henrik er kul!\n",
      "Henrik er kul!\n",
      "Henrik er kul!\n",
      "Henrik er kul!\n",
      "Henrik er kul!\n",
      "Henrik er kul!\n",
      "Henrik er kul!\n",
      "Henrik er kul!\n",
      "Henrik er kul!\n",
      "Henrik er kul!\n",
      "Henrik er kul!\n",
      "Henrik er kul!\n",
      "Henrik er kul!\n",
      "Henrik er kul!\n",
      "Henrik er kul!\n",
      "Henrik er kul!\n",
      "Henrik er kul!\n",
      "Henrik er kul!\n",
      "Henrik er kul!\n",
      "Henrik er kul!\n",
      "Henrik er kul!\n",
      "Henrik er kul!\n",
      "Henrik er kul!\n",
      "Henrik er kul!\n",
      "Henrik er kul!\n",
      "Henrik er kul!\n",
      "Henrik er kul!\n",
      "Henrik er kul!\n",
      "Henrik er kul!\n",
      "Henrik er kul!\n",
      "Henrik er kul!\n",
      "Henrik er kul!\n",
      "Henrik er kul!\n",
      "Henrik er kul!\n",
      "Henrik er kul!\n",
      "Henrik er kul!\n",
      "Henrik er kul!\n",
      "Henrik er kul!\n",
      "Henrik er kul!\n",
      "Henrik er kul!\n",
      "Henrik er kul!\n",
      "Henrik er kul!\n",
      "Henrik er kul!\n",
      "Henrik er kul!\n",
      "Henrik er kul!\n",
      "Henrik er kul!\n",
      "Henrik er kul!\n",
      "Henrik er kul!\n",
      "Henrik er kul!\n",
      "Henrik er kul!\n",
      "Henrik er kul!\n",
      "Henrik er kul!\n",
      "Henrik er kul!\n",
      "Henrik er kul!\n",
      "Henrik er kul!\n",
      "Henrik er kul!\n",
      "Henrik er kul!\n",
      "Henrik er kul!\n",
      "Henrik er kul!\n",
      "Henrik er kul!\n",
      "Henrik er kul!\n",
      "Henrik er kul!\n",
      "Henrik er kul!\n",
      "Henrik er kul!\n",
      "Henrik er kul!\n",
      "Henrik er kul!\n",
      "Henrik er kul!\n",
      "Henrik er kul!\n",
      "Henrik er kul!\n",
      "Henrik er kul!\n",
      "Henrik er kul!\n",
      "Henrik er kul!\n",
      "Henrik er kul!\n",
      "Henrik er kul!\n",
      "Henrik er kul!\n",
      "Henrik er kul!\n",
      "Henrik er kul!\n",
      "Henrik er kul!\n",
      "Henrik er kul!\n",
      "Henrik er kul!\n",
      "Henrik er kul!\n",
      "Henrik er kul!\n",
      "Henrik er kul!\n",
      "Henrik er kul!\n",
      "Henrik er kul!\n",
      "Henrik er kul!\n",
      "Henrik er kul!\n",
      "Henrik er kul!\n",
      "Henrik er kul!\n",
      "Henrik er kul!\n",
      "Henrik er kul!\n",
      "Henrik er kul!\n",
      "Henrik er kul!\n",
      "Henrik er kul!\n",
      "Henrik er kul!\n",
      "Henrik er kul!\n",
      "Henrik er kul!\n",
      "Henrik er kul!\n",
      "Henrik er kul!\n",
      "Henrik er kul!\n",
      "Henrik er kul!\n",
      "Henrik er kul!\n",
      "Henrik er kul!\n",
      "Henrik er kul!\n",
      "Henrik er kul!\n",
      "Henrik er kul!\n",
      "Henrik er kul!\n",
      "Henrik er kul!\n",
      "Henrik er kul!\n",
      "Henrik er kul!\n",
      "Henrik er kul!\n",
      "Henrik er kul!\n",
      "Henrik er kul!\n",
      "Henrik er kul!\n",
      "Henrik er kul!\n",
      "Henrik er kul!\n",
      "Henrik er kul!\n",
      "Henrik er kul!\n",
      "Henrik er kul!\n",
      "Henrik er kul!\n",
      "Henrik er kul!\n",
      "Henrik er kul!\n",
      "Henrik er kul!\n",
      "Henrik er kul!\n",
      "Henrik er kul!\n",
      "Henrik er kul!\n",
      "Henrik er kul!\n",
      "Henrik er kul!\n",
      "Henrik er kul!\n",
      "Henrik er kul!\n",
      "Henrik er kul!\n",
      "Henrik er kul!\n",
      "Henrik er kul!\n",
      "Henrik er kul!\n",
      "Henrik er kul!\n",
      "Henrik er kul!\n",
      "Henrik er kul!\n",
      "Henrik er kul!\n",
      "Henrik er kul!\n",
      "Henrik er kul!\n",
      "Henrik er kul!\n",
      "Henrik er kul!\n",
      "Henrik er kul!\n",
      "Henrik er kul!\n",
      "Henrik er kul!\n",
      "Henrik er kul!\n",
      "Henrik er kul!\n",
      "Henrik er kul!\n",
      "Henrik er kul!\n",
      "Henrik er kul!\n",
      "Henrik er kul!\n",
      "Henrik er kul!\n",
      "Henrik er kul!\n",
      "Henrik er kul!\n",
      "Henrik er kul!\n",
      "Henrik er kul!\n",
      "Henrik er kul!\n",
      "Henrik er kul!\n",
      "Henrik er kul!\n",
      "Henrik er kul!\n",
      "Henrik er kul!\n",
      "Henrik er kul!\n",
      "Henrik er kul!\n",
      "Henrik er kul!\n",
      "Henrik er kul!\n",
      "Henrik er kul!\n",
      "Henrik er kul!\n",
      "Henrik er kul!\n",
      "Henrik er kul!\n",
      "Henrik er kul!\n",
      "Henrik er kul!\n",
      "Henrik er kul!\n",
      "Henrik er kul!\n",
      "Henrik er kul!\n",
      "Henrik er kul!\n",
      "Henrik er kul!\n",
      "Henrik er kul!\n",
      "Henrik er kul!\n",
      "Henrik er kul!\n",
      "Henrik er kul!\n",
      "Henrik er kul!\n",
      "Henrik er kul!\n",
      "Henrik er kul!\n",
      "Henrik er kul!\n",
      "Henrik er kul!\n",
      "Henrik er kul!\n",
      "Henrik er kul!\n",
      "Henrik er kul!\n",
      "Henrik er kul!\n",
      "Henrik er kul!\n",
      "Henrik er kul!\n",
      "Henrik er kul!\n",
      "Henrik er kul!\n",
      "Henrik er kul!\n",
      "Henrik er kul!\n",
      "Henrik er kul!\n",
      "Henrik er kul!\n",
      "Henrik er kul!\n",
      "Henrik er kul!\n",
      "Henrik er kul!\n",
      "Henrik er kul!\n",
      "Henrik er kul!\n",
      "Henrik er kul!\n",
      "Henrik er kul!\n",
      "Henrik er kul!\n",
      "Henrik er kul!\n",
      "Henrik er kul!\n",
      "Henrik er kul!\n",
      "Henrik er kul!\n",
      "Henrik er kul!\n",
      "Henrik er kul!\n",
      "Henrik er kul!\n",
      "Henrik er kul!\n",
      "Henrik er kul!\n",
      "Henrik er kul!\n",
      "Henrik er kul!\n",
      "Henrik er kul!\n",
      "Henrik er kul!\n",
      "Henrik er kul!\n",
      "Henrik er kul!\n",
      "Henrik er kul!\n",
      "Henrik er kul!\n",
      "Henrik er kul!\n",
      "Henrik er kul!\n",
      "Henrik er kul!\n",
      "Henrik er kul!\n",
      "Henrik er kul!\n",
      "Henrik er kul!\n",
      "Henrik er kul!\n",
      "Henrik er kul!\n",
      "Henrik er kul!\n",
      "Henrik er kul!\n",
      "Henrik er kul!\n",
      "Henrik er kul!\n",
      "Henrik er kul!\n",
      "Henrik er kul!\n",
      "Henrik er kul!\n",
      "Henrik er kul!\n",
      "Henrik er kul!\n",
      "Henrik er kul!\n",
      "Henrik er kul!\n",
      "Henrik er kul!\n",
      "Henrik er kul!\n",
      "Henrik er kul!\n",
      "Henrik er kul!\n",
      "Henrik er kul!\n",
      "Henrik er kul!\n",
      "Henrik er kul!\n",
      "Henrik er kul!\n",
      "Henrik er kul!\n",
      "Henrik er kul!\n",
      "Henrik er kul!\n",
      "Henrik er kul!\n",
      "Henrik er kul!\n",
      "Henrik er kul!\n",
      "Henrik er kul!\n",
      "Henrik er kul!\n",
      "Henrik er kul!\n",
      "Henrik er kul!\n",
      "Henrik er kul!\n",
      "Henrik er kul!\n",
      "Henrik er kul!\n",
      "Henrik er kul!\n",
      "Henrik er kul!\n",
      "Henrik er kul!\n",
      "Henrik er kul!\n",
      "Henrik er kul!\n",
      "Henrik er kul!\n",
      "Henrik er kul!\n",
      "Henrik er kul!\n",
      "Henrik er kul!\n",
      "Henrik er kul!\n",
      "Henrik er kul!\n",
      "Henrik er kul!\n",
      "Henrik er kul!\n",
      "Henrik er kul!\n",
      "Henrik er kul!\n",
      "Henrik er kul!\n",
      "Henrik er kul!\n",
      "Henrik er kul!\n",
      "Henrik er kul!\n",
      "Henrik er kul!\n",
      "Henrik er kul!\n",
      "Henrik er kul!\n",
      "Henrik er kul!\n",
      "Henrik er kul!\n",
      "Henrik er kul!\n",
      "Henrik er kul!\n",
      "Henrik er kul!\n",
      "Henrik er kul!\n",
      "Henrik er kul!\n",
      "Henrik er kul!\n",
      "Henrik er kul!\n",
      "Henrik er kul!\n",
      "Henrik er kul!\n",
      "Henrik er kul!\n",
      "Henrik er kul!\n",
      "Henrik er kul!\n",
      "Henrik er kul!\n",
      "Henrik er kul!\n",
      "Henrik er kul!\n",
      "Henrik er kul!\n",
      "Henrik er kul!\n",
      "Henrik er kul!\n",
      "Henrik er kul!\n",
      "Henrik er kul!\n",
      "Henrik er kul!\n",
      "Henrik er kul!\n",
      "Henrik er kul!\n",
      "Henrik er kul!\n",
      "Henrik er kul!\n",
      "Henrik er kul!\n",
      "Henrik er kul!\n",
      "Henrik er kul!\n",
      "Henrik er kul!\n",
      "Henrik er kul!\n",
      "Henrik er kul!\n",
      "Henrik er kul!\n",
      "Henrik er kul!\n",
      "Henrik er kul!\n",
      "Henrik er kul!\n",
      "Henrik er kul!\n",
      "Henrik er kul!\n",
      "Henrik er kul!\n",
      "Henrik er kul!\n",
      "Henrik er kul!\n",
      "Henrik er kul!\n",
      "Henrik er kul!\n",
      "Henrik er kul!\n",
      "Henrik er kul!\n",
      "Henrik er kul!\n",
      "Henrik er kul!\n",
      "Henrik er kul!\n",
      "Henrik er kul!\n",
      "Henrik er kul!\n",
      "Henrik er kul!\n",
      "Henrik er kul!\n",
      "Henrik er kul!\n",
      "Henrik er kul!\n",
      "Henrik er kul!\n",
      "Henrik er kul!\n",
      "Henrik er kul!\n",
      "Henrik er kul!\n",
      "Henrik er kul!\n",
      "Henrik er kul!\n",
      "Henrik er kul!\n",
      "Henrik er kul!\n",
      "Henrik er kul!\n",
      "Henrik er kul!\n",
      "Henrik er kul!\n",
      "Henrik er kul!\n",
      "Henrik er kul!\n",
      "Henrik er kul!\n",
      "Henrik er kul!\n",
      "Henrik er kul!\n",
      "Henrik er kul!\n",
      "Henrik er kul!\n",
      "Henrik er kul!\n",
      "Henrik er kul!\n",
      "Henrik er kul!\n",
      "Henrik er kul!\n",
      "Henrik er kul!\n",
      "Henrik er kul!\n",
      "Henrik er kul!\n",
      "Henrik er kul!\n",
      "Henrik er kul!\n",
      "Henrik er kul!\n",
      "Henrik er kul!\n",
      "Henrik er kul!\n",
      "Henrik er kul!\n",
      "Henrik er kul!\n",
      "Henrik er kul!\n",
      "Henrik er kul!\n",
      "Henrik er kul!\n",
      "Henrik er kul!\n",
      "Henrik er kul!\n",
      "Henrik er kul!\n",
      "Henrik er kul!\n",
      "Henrik er kul!\n",
      "Henrik er kul!\n",
      "Henrik er kul!\n"
     ]
    }
   ],
   "source": [
    "a = \"Henrik er kul!\"\n",
    "b = input(\"Type a number:\")\n",
    "for i in range(int(b)): \n",
    "    print(a)\n",
    "    "
   ]
  },
  {
   "cell_type": "code",
   "execution_count": 27,
   "metadata": {},
   "outputs": [
    {
     "name": "stdout",
     "output_type": "stream",
     "text": [
      "The array:\n",
      "(2, 3, 4, 5, 6, 7, 8, 9)\n",
      "The Mean:\n",
      "5.5\n"
     ]
    }
   ],
   "source": [
    "array = (2, 3, 4, 5, 6, 7, 8, 9)\n",
    "\n",
    "mean = sum(array) / 8\n",
    "\n",
    "print(\"The array:\")\n",
    "print(array)\n",
    "\n",
    "print(\"The Mean:\")\n",
    "print(mean)\n",
    "\n",
    "covariance = \n"
   ]
  },
  {
   "cell_type": "code",
   "execution_count": null,
   "metadata": {},
   "outputs": [],
   "source": []
  },
  {
   "cell_type": "code",
   "execution_count": null,
   "metadata": {},
   "outputs": [],
   "source": []
  },
  {
   "cell_type": "markdown",
   "metadata": {
    "collapsed": true
   },
   "source": []
  },
  {
   "cell_type": "code",
   "execution_count": null,
   "metadata": {},
   "outputs": [],
   "source": [
    "The interpreter can tell you the type of the value."
   ]
  },
  {
   "cell_type": "code",
   "execution_count": null,
   "metadata": {
    "collapsed": true
   },
   "outputs": [],
   "source": []
  },
  {
   "cell_type": "markdown",
   "metadata": {},
   "source": [
    "## Variables\n",
    "\n",
    "A variable is something that holds a value that may change. "
   ]
  },
  {
   "cell_type": "markdown",
   "metadata": {},
   "source": [
    "#### Examples"
   ]
  },
  {
   "cell_type": "code",
   "execution_count": 43,
   "metadata": {},
   "outputs": [],
   "source": [
    "a = 4"
   ]
  },
  {
   "cell_type": "code",
   "execution_count": null,
   "metadata": {},
   "outputs": [],
   "source": []
  },
  {
   "cell_type": "code",
   "execution_count": null,
   "metadata": {
    "collapsed": true
   },
   "outputs": [],
   "source": []
  },
  {
   "cell_type": "markdown",
   "metadata": {},
   "source": [
    "A variable holds a value. You can change the value of a variable at any point."
   ]
  },
  {
   "cell_type": "code",
   "execution_count": null,
   "metadata": {
    "collapsed": true
   },
   "outputs": [],
   "source": []
  },
  {
   "cell_type": "markdown",
   "metadata": {},
   "source": [
    "The type of a variable is the type of the value it refers to."
   ]
  },
  {
   "cell_type": "code",
   "execution_count": null,
   "metadata": {
    "collapsed": true
   },
   "outputs": [],
   "source": []
  },
  {
   "cell_type": "code",
   "execution_count": null,
   "metadata": {
    "collapsed": true
   },
   "outputs": [],
   "source": []
  },
  {
   "cell_type": "markdown",
   "metadata": {},
   "source": [
    "# 1.2 Numbers\n",
    "Dealing with simple numerical data is fairly straightforward in Python, but there are a few things you should know about."
   ]
  },
  {
   "cell_type": "markdown",
   "metadata": {},
   "source": [
    "## Integers\n",
    "\n",
    "You can do all of the basic operations with integers, and everything should behave as you expect. Addition and subtraction use the standard plus and minus symbols. Multiplication uses the asterisk, and division uses a forward slash. Exponents use two asterisks."
   ]
  },
  {
   "cell_type": "code",
   "execution_count": 6,
   "metadata": {
    "collapsed": true
   },
   "outputs": [],
   "source": []
  },
  {
   "cell_type": "code",
   "execution_count": 7,
   "metadata": {},
   "outputs": [
    {
     "data": {
      "text/plain": [
       "4"
      ]
     },
     "execution_count": 7,
     "metadata": {},
     "output_type": "execute_result"
    }
   ],
   "source": []
  },
  {
   "cell_type": "code",
   "execution_count": 8,
   "metadata": {},
   "outputs": [
    {
     "data": {
      "text/plain": [
       "8"
      ]
     },
     "execution_count": 8,
     "metadata": {},
     "output_type": "execute_result"
    }
   ],
   "source": []
  },
  {
   "cell_type": "markdown",
   "metadata": {},
   "source": [
    "## Floating-Point numbers\n",
    "\n",
    "Floating-point numbers refer to any number with a decimal point. Most of the time, you can think of floating point numbers as decimals, and they will behave as you expect them to."
   ]
  },
  {
   "cell_type": "code",
   "execution_count": null,
   "metadata": {
    "collapsed": true
   },
   "outputs": [],
   "source": []
  },
  {
   "cell_type": "code",
   "execution_count": null,
   "metadata": {
    "collapsed": true
   },
   "outputs": [],
   "source": []
  },
  {
   "cell_type": "code",
   "execution_count": null,
   "metadata": {
    "collapsed": true
   },
   "outputs": [],
   "source": []
  },
  {
   "cell_type": "code",
   "execution_count": null,
   "metadata": {
    "collapsed": true
   },
   "outputs": [],
   "source": []
  },
  {
   "cell_type": "markdown",
   "metadata": {},
   "source": [
    "However, sometimes you will get an answer with an unexpectly long decimal part:"
   ]
  },
  {
   "cell_type": "code",
   "execution_count": null,
   "metadata": {
    "collapsed": true
   },
   "outputs": [],
   "source": []
  },
  {
   "cell_type": "markdown",
   "metadata": {},
   "source": [
    "This happens because of the way computers represent numbers internally; this has nothing to do with Python itself. Basically, we are used to working in powers of ten, where one tenth plus two tenths is just three tenths. But computers work in powers of two. So your computer has to represent 0.1 in a power of two, and then 0.2 as a power of two, and express their sum as a power of two. There is no exact representation for 0.3 in powers of two, and we see that in the answer to 0.1+0.2.\n",
    "\n",
    "Python tries to hide this kind of stuff when possible. Don't worry about it much for now; just don't be surprised by it, and know that we will learn to clean up our results a little later on.\n",
    "\n",
    "You can also get the same kind of result with other operations."
   ]
  },
  {
   "cell_type": "code",
   "execution_count": null,
   "metadata": {
    "collapsed": true
   },
   "outputs": [],
   "source": []
  },
  {
   "cell_type": "code",
   "execution_count": null,
   "metadata": {
    "collapsed": true
   },
   "outputs": [],
   "source": []
  },
  {
   "cell_type": "code",
   "execution_count": null,
   "metadata": {
    "collapsed": true
   },
   "outputs": [],
   "source": []
  },
  {
   "cell_type": "code",
   "execution_count": null,
   "metadata": {
    "collapsed": true
   },
   "outputs": [],
   "source": []
  },
  {
   "cell_type": "code",
   "execution_count": null,
   "metadata": {
    "collapsed": true
   },
   "outputs": [],
   "source": []
  },
  {
   "cell_type": "markdown",
   "metadata": {},
   "source": [
    "Notice that the division operator is different in Python 2.0 (see Severance page 32)"
   ]
  },
  {
   "cell_type": "markdown",
   "metadata": {},
   "source": [
    "# 1.3 Strings\n",
    "Strings are sets of characters. Strings are easier to understand by looking at some examples."
   ]
  },
  {
   "cell_type": "markdown",
   "metadata": {},
   "source": [
    "## Single and double quotes\n",
    "Strings are contained by either single or double quotes."
   ]
  },
  {
   "cell_type": "code",
   "execution_count": null,
   "metadata": {
    "collapsed": true
   },
   "outputs": [],
   "source": []
  },
  {
   "cell_type": "markdown",
   "metadata": {},
   "source": [
    "### Multiline Strings\n",
    "\n",
    "In case we need to create a multiline string, there is the **triple-quote** to the rescue:\n",
    "`'''`"
   ]
  },
  {
   "cell_type": "code",
   "execution_count": 3,
   "metadata": {},
   "outputs": [
    {
     "name": "stdout",
     "output_type": "stream",
     "text": [
      "This is a string where I \n",
      "can confortably write on multiple lines\n",
      "without worring about to use the escape character \"\\\" as in\n",
      "the previsou example. \n",
      "As you'll see, the original string formatting is preserved.\n",
      "\n"
     ]
    }
   ],
   "source": [
    "multiline_string = '''This is a string where I \n",
    "can confortably write on multiple lines\n",
    "without worring about to use the escape character \"\\\\\" as in\n",
    "the previsou example. \n",
    "As you'll see, the original string formatting is preserved.\n",
    "'''\n",
    "\n",
    "print(multiline_string)"
   ]
  },
  {
   "cell_type": "code",
   "execution_count": 4,
   "metadata": {},
   "outputs": [
    {
     "data": {
      "text/plain": [
       "'This is a string where I \\ncan confortably write on multiple lines\\nwithout worring about to use the escape character \"\\\\\" as in\\nthe previsou example. \\nAs you\\'ll see, the original string formatting is preserved.\\n'"
      ]
     },
     "execution_count": 4,
     "metadata": {},
     "output_type": "execute_result"
    }
   ],
   "source": [
    "multiline_string"
   ]
  },
  {
   "cell_type": "markdown",
   "metadata": {},
   "source": [
    "### A string is a sequence\n",
    "A string is a sequence of characters. You can access the characters one at a time with the bracket operator:"
   ]
  },
  {
   "cell_type": "markdown",
   "metadata": {},
   "source": [
    "<img src=\"./graphs/string_indexes.png\">"
   ]
  },
  {
   "cell_type": "code",
   "execution_count": 6,
   "metadata": {},
   "outputs": [
    {
     "data": {
      "text/plain": [
       "'banana'"
      ]
     },
     "execution_count": 6,
     "metadata": {},
     "output_type": "execute_result"
    }
   ],
   "source": [
    "string = 'banana'\n",
    "string"
   ]
  },
  {
   "cell_type": "code",
   "execution_count": 8,
   "metadata": {},
   "outputs": [
    {
     "data": {
      "text/plain": [
       "'ban'"
      ]
     },
     "execution_count": 8,
     "metadata": {},
     "output_type": "execute_result"
    }
   ],
   "source": [
    "string[0:3]"
   ]
  },
  {
   "cell_type": "code",
   "execution_count": null,
   "metadata": {},
   "outputs": [],
   "source": []
  },
  {
   "cell_type": "code",
   "execution_count": null,
   "metadata": {},
   "outputs": [],
   "source": []
  },
  {
   "cell_type": "code",
   "execution_count": 39,
   "metadata": {
    "collapsed": true
   },
   "outputs": [],
   "source": [
    "# fruit[2.4]  # The value of the index has to be an integer."
   ]
  },
  {
   "cell_type": "markdown",
   "metadata": {},
   "source": [
    "## Getting the length of a string using len\n",
    "len is a built-in function that returns the number of characters in a string:"
   ]
  },
  {
   "cell_type": "code",
   "execution_count": 29,
   "metadata": {},
   "outputs": [
    {
     "name": "stdout",
     "output_type": "stream",
     "text": [
      "Help on class str in module builtins:\n",
      "\n",
      "class str(object)\n",
      " |  str(object='') -> str\n",
      " |  str(bytes_or_buffer[, encoding[, errors]]) -> str\n",
      " |  \n",
      " |  Create a new string object from the given object. If encoding or\n",
      " |  errors is specified, then the object must expose a data buffer\n",
      " |  that will be decoded using the given encoding and error handler.\n",
      " |  Otherwise, returns the result of object.__str__() (if defined)\n",
      " |  or repr(object).\n",
      " |  encoding defaults to sys.getdefaultencoding().\n",
      " |  errors defaults to 'strict'.\n",
      " |  \n",
      " |  Methods defined here:\n",
      " |  \n",
      " |  __add__(self, value, /)\n",
      " |      Return self+value.\n",
      " |  \n",
      " |  __contains__(self, key, /)\n",
      " |      Return key in self.\n",
      " |  \n",
      " |  __eq__(self, value, /)\n",
      " |      Return self==value.\n",
      " |  \n",
      " |  __format__(...)\n",
      " |      S.__format__(format_spec) -> str\n",
      " |      \n",
      " |      Return a formatted version of S as described by format_spec.\n",
      " |  \n",
      " |  __ge__(self, value, /)\n",
      " |      Return self>=value.\n",
      " |  \n",
      " |  __getattribute__(self, name, /)\n",
      " |      Return getattr(self, name).\n",
      " |  \n",
      " |  __getitem__(self, key, /)\n",
      " |      Return self[key].\n",
      " |  \n",
      " |  __getnewargs__(...)\n",
      " |  \n",
      " |  __gt__(self, value, /)\n",
      " |      Return self>value.\n",
      " |  \n",
      " |  __hash__(self, /)\n",
      " |      Return hash(self).\n",
      " |  \n",
      " |  __iter__(self, /)\n",
      " |      Implement iter(self).\n",
      " |  \n",
      " |  __le__(self, value, /)\n",
      " |      Return self<=value.\n",
      " |  \n",
      " |  __len__(self, /)\n",
      " |      Return len(self).\n",
      " |  \n",
      " |  __lt__(self, value, /)\n",
      " |      Return self<value.\n",
      " |  \n",
      " |  __mod__(self, value, /)\n",
      " |      Return self%value.\n",
      " |  \n",
      " |  __mul__(self, value, /)\n",
      " |      Return self*value.n\n",
      " |  \n",
      " |  __ne__(self, value, /)\n",
      " |      Return self!=value.\n",
      " |  \n",
      " |  __new__(*args, **kwargs) from builtins.type\n",
      " |      Create and return a new object.  See help(type) for accurate signature.\n",
      " |  \n",
      " |  __repr__(self, /)\n",
      " |      Return repr(self).\n",
      " |  \n",
      " |  __rmod__(self, value, /)\n",
      " |      Return value%self.\n",
      " |  \n",
      " |  __rmul__(self, value, /)\n",
      " |      Return self*value.\n",
      " |  \n",
      " |  __sizeof__(...)\n",
      " |      S.__sizeof__() -> size of S in memory, in bytes\n",
      " |  \n",
      " |  __str__(self, /)\n",
      " |      Return str(self).\n",
      " |  \n",
      " |  capitalize(...)\n",
      " |      S.capitalize() -> str\n",
      " |      \n",
      " |      Return a capitalized version of S, i.e. make the first character\n",
      " |      have upper case and the rest lower case.\n",
      " |  \n",
      " |  casefold(...)\n",
      " |      S.casefold() -> str\n",
      " |      \n",
      " |      Return a version of S suitable for caseless comparisons.\n",
      " |  \n",
      " |  center(...)\n",
      " |      S.center(width[, fillchar]) -> str\n",
      " |      \n",
      " |      Return S centered in a string of length width. Padding is\n",
      " |      done using the specified fill character (default is a space)\n",
      " |  \n",
      " |  count(...)\n",
      " |      S.count(sub[, start[, end]]) -> int\n",
      " |      \n",
      " |      Return the number of non-overlapping occurrences of substring sub in\n",
      " |      string S[start:end].  Optional arguments start and end are\n",
      " |      interpreted as in slice notation.\n",
      " |  \n",
      " |  encode(...)\n",
      " |      S.encode(encoding='utf-8', errors='strict') -> bytes\n",
      " |      \n",
      " |      Encode S using the codec registered for encoding. Default encoding\n",
      " |      is 'utf-8'. errors may be given to set a different error\n",
      " |      handling scheme. Default is 'strict' meaning that encoding errors raise\n",
      " |      a UnicodeEncodeError. Other possible values are 'ignore', 'replace' and\n",
      " |      'xmlcharrefreplace' as well as any other name registered with\n",
      " |      codecs.register_error that can handle UnicodeEncodeErrors.\n",
      " |  \n",
      " |  endswith(...)\n",
      " |      S.endswith(suffix[, start[, end]]) -> bool\n",
      " |      \n",
      " |      Return True if S ends with the specified suffix, False otherwise.\n",
      " |      With optional start, test S beginning at that position.\n",
      " |      With optional end, stop comparing S at that position.\n",
      " |      suffix can also be a tuple of strings to try.\n",
      " |  \n",
      " |  expandtabs(...)\n",
      " |      S.expandtabs(tabsize=8) -> str\n",
      " |      \n",
      " |      Return a copy of S where all tab characters are expanded using spaces.\n",
      " |      If tabsize is not given, a tab size of 8 characters is assumed.\n",
      " |  \n",
      " |  find(...)\n",
      " |      S.find(sub[, start[, end]]) -> int\n",
      " |      \n",
      " |      Return the lowest index in S where substring sub is found,\n",
      " |      such that sub is contained within S[start:end].  Optional\n",
      " |      arguments start and end are interpreted as in slice notation.\n",
      " |      \n",
      " |      Return -1 on failure.\n",
      " |  \n",
      " |  format(...)\n",
      " |      S.format(*args, **kwargs) -> str\n",
      " |      \n",
      " |      Return a formatted version of S, using substitutions from args and kwargs.\n",
      " |      The substitutions are identified by braces ('{' and '}').\n",
      " |  \n",
      " |  format_map(...)\n",
      " |      S.format_map(mapping) -> str\n",
      " |      \n",
      " |      Return a formatted version of S, using substitutions from mapping.\n",
      " |      The substitutions are identified by braces ('{' and '}').\n",
      " |  \n",
      " |  index(...)\n",
      " |      S.index(sub[, start[, end]]) -> int\n",
      " |      \n",
      " |      Return the lowest index in S where substring sub is found, \n",
      " |      such that sub is contained within S[start:end].  Optional\n",
      " |      arguments start and end are interpreted as in slice notation.\n",
      " |      \n",
      " |      Raises ValueError when the substring is not found.\n",
      " |  \n",
      " |  isalnum(...)\n",
      " |      S.isalnum() -> bool\n",
      " |      \n",
      " |      Return True if all characters in S are alphanumeric\n",
      " |      and there is at least one character in S, False otherwise.\n",
      " |  \n",
      " |  isalpha(...)\n",
      " |      S.isalpha() -> bool\n",
      " |      \n",
      " |      Return True if all characters in S are alphabetic\n",
      " |      and there is at least one character in S, False otherwise.\n",
      " |  \n",
      " |  isdecimal(...)\n",
      " |      S.isdecimal() -> bool\n",
      " |      \n",
      " |      Return True if there are only decimal characters in S,\n",
      " |      False otherwise.\n",
      " |  \n",
      " |  isdigit(...)\n",
      " |      S.isdigit() -> bool\n",
      " |      \n",
      " |      Return True if all characters in S are digits\n",
      " |      and there is at least one character in S, False otherwise.\n",
      " |  \n",
      " |  isidentifier(...)\n",
      " |      S.isidentifier() -> bool\n",
      " |      \n",
      " |      Return True if S is a valid identifier according\n",
      " |      to the language definition.\n",
      " |      \n",
      " |      Use keyword.iskeyword() to test for reserved identifiers\n",
      " |      such as \"def\" and \"class\".\n",
      " |  \n",
      " |  islower(...)\n",
      " |      S.islower() -> bool\n",
      " |      \n",
      " |      Return True if all cased characters in S are lowercase and there is\n",
      " |      at least one cased character in S, False otherwise.\n",
      " |  \n",
      " |  isnumeric(...)\n",
      " |      S.isnumeric() -> bool\n",
      " |      \n",
      " |      Return True if there are only numeric characters in S,\n",
      " |      False otherwise.\n",
      " |  \n",
      " |  isprintable(...)\n",
      " |      S.isprintable() -> bool\n",
      " |      \n",
      " |      Return True if all characters in S are considered\n",
      " |      printable in repr() or S is empty, False otherwise.\n",
      " |  \n",
      " |  isspace(...)\n",
      " |      S.isspace() -> bool\n",
      " |      \n",
      " |      Return True if all characters in S are whitespace\n",
      " |      and there is at least one character in S, False otherwise.\n",
      " |  \n",
      " |  istitle(...)\n",
      " |      S.istitle() -> bool\n",
      " |      \n",
      " |      Return True if S is a titlecased string and there is at least one\n",
      " |      character in S, i.e. upper- and titlecase characters may only\n",
      " |      follow uncased characters and lowercase characters only cased ones.\n",
      " |      Return False otherwise.\n",
      " |  \n",
      " |  isupper(...)\n",
      " |      S.isupper() -> bool\n",
      " |      \n",
      " |      Return True if all cased characters in S are uppercase and there is\n",
      " |      at least one cased character in S, False otherwise.\n",
      " |  \n",
      " |  join(...)\n",
      " |      S.join(iterable) -> str\n",
      " |      \n",
      " |      Return a string which is the concatenation of the strings in the\n",
      " |      iterable.  The separator between elements is S.\n",
      " |  \n",
      " |  ljust(...)\n",
      " |      S.ljust(width[, fillchar]) -> str\n",
      " |      \n",
      " |      Return S left-justified in a Unicode string of length width. Padding is\n",
      " |      done using the specified fill character (default is a space).\n",
      " |  \n",
      " |  lower(...)\n",
      " |      S.lower() -> str\n",
      " |      \n",
      " |      Return a copy of the string S converted to lowercase.\n",
      " |  \n",
      " |  lstrip(...)\n",
      " |      S.lstrip([chars]) -> str\n",
      " |      \n",
      " |      Return a copy of the string S with leading whitespace removed.\n",
      " |      If chars is given and not None, remove characters in chars instead.\n",
      " |  \n",
      " |  partition(...)\n",
      " |      S.partition(sep) -> (head, sep, tail)\n",
      " |      \n",
      " |      Search for the separator sep in S, and return the part before it,\n",
      " |      the separator itself, and the part after it.  If the separator is not\n",
      " |      found, return S and two empty strings.\n",
      " |  \n",
      " |  replace(...)\n",
      " |      S.replace(old, new[, count]) -> str\n",
      " |      \n",
      " |      Return a copy of S with all occurrences of substring\n",
      " |      old replaced by new.  If the optional argument count is\n",
      " |      given, only the first count occurrences are replaced.\n",
      " |  \n",
      " |  rfind(...)\n",
      " |      S.rfind(sub[, start[, end]]) -> int\n",
      " |      \n",
      " |      Return the highest index in S where substring sub is found,\n",
      " |      such that sub is contained within S[start:end].  Optional\n",
      " |      arguments start and end are interpreted as in slice notation.\n",
      " |      \n",
      " |      Return -1 on failure.\n",
      " |  \n",
      " |  rindex(...)\n",
      " |      S.rindex(sub[, start[, end]]) -> int\n",
      " |      \n",
      " |      Return the highest index in S where substring sub is found,\n",
      " |      such that sub is contained within S[start:end].  Optional\n",
      " |      arguments start and end are interpreted as in slice notation.\n",
      " |      \n",
      " |      Raises ValueError when the substring is not found.\n",
      " |  \n",
      " |  rjust(...)\n",
      " |      S.rjust(width[, fillchar]) -> str\n",
      " |      \n",
      " |      Return S right-justified in a string of length width. Padding is\n",
      " |      done using the specified fill character (default is a space).\n",
      " |  \n",
      " |  rpartition(...)\n",
      " |      S.rpartition(sep) -> (head, sep, tail)\n",
      " |      \n",
      " |      Search for the separator sep in S, starting at the end of S, and return\n",
      " |      the part before it, the separator itself, and the part after it.  If the\n",
      " |      separator is not found, return two empty strings and S.\n",
      " |  \n",
      " |  rsplit(...)\n",
      " |      S.rsplit(sep=None, maxsplit=-1) -> list of strings\n",
      " |      \n",
      " |      Return a list of the words in S, using sep as the\n",
      " |      delimiter string, starting at the end of the string and\n",
      " |      working to the front.  If maxsplit is given, at most maxsplit\n",
      " |      splits are done. If sep is not specified, any whitespace string\n",
      " |      is a separator.\n",
      " |  \n",
      " |  rstrip(...)\n",
      " |      S.rstrip([chars]) -> str\n",
      " |      \n",
      " |      Return a copy of the string S with trailing whitespace removed.\n",
      " |      If chars is given and not None, remove characters in chars instead.\n",
      " |  \n",
      " |  split(...)\n",
      " |      S.split(sep=None, maxsplit=-1) -> list of strings\n",
      " |      \n",
      " |      Return a list of the words in S, using sep as the\n",
      " |      delimiter string.  If maxsplit is given, at most maxsplit\n",
      " |      splits are done. If sep is not specified or is None, any\n",
      " |      whitespace string is a separator and empty strings are\n",
      " |      removed from the result.\n",
      " |  \n",
      " |  splitlines(...)\n",
      " |      S.splitlines([keepends]) -> list of strings\n",
      " |      \n",
      " |      Return a list of the lines in S, breaking at line boundaries.\n",
      " |      Line breaks are not included in the resulting list unless keepends\n",
      " |      is given and true.\n",
      " |  \n",
      " |  startswith(...)\n",
      " |      S.startswith(prefix[, start[, end]]) -> bool\n",
      " |      \n",
      " |      Return True if S starts with the specified prefix, False otherwise.\n",
      " |      With optional start, test S beginning at that position.\n",
      " |      With optional end, stop comparing S at that position.\n",
      " |      prefix can also be a tuple of strings to try.\n",
      " |  \n",
      " |  strip(...)\n",
      " |      S.strip([chars]) -> str\n",
      " |      \n",
      " |      Return a copy of the string S with leading and trailing\n",
      " |      whitespace removed.\n",
      " |      If chars is given and not None, remove characters in chars instead.\n",
      " |  \n",
      " |  swapcase(...)\n",
      " |      S.swapcase() -> str\n",
      " |      \n",
      " |      Return a copy of S with uppercase characters converted to lowercase\n",
      " |      and vice versa.\n",
      " |  \n",
      " |  title(...)\n",
      " |      S.title() -> str\n",
      " |      \n",
      " |      Return a titlecased version of S, i.e. words start with title case\n",
      " |      characters, all remaining cased characters have lower case.\n",
      " |  \n",
      " |  translate(...)\n",
      " |      S.translate(table) -> str\n",
      " |      \n",
      " |      Return a copy of the string S in which each character has been mapped\n",
      " |      through the given translation table. The table must implement\n",
      " |      lookup/indexing via __getitem__, for instance a dictionary or list,\n",
      " |      mapping Unicode ordinals to Unicode ordinals, strings, or None. If\n",
      " |      this operation raises LookupError, the character is left untouched.\n",
      " |      Characters mapped to None are deleted.\n",
      " |  \n",
      " |  upper(...)\n",
      " |      S.upper() -> str\n",
      " |      \n",
      " |      Return a copy of S converted to uppercase.\n",
      " |  \n",
      " |  zfill(...)\n",
      " |      S.zfill(width) -> str\n",
      " |      \n",
      " |      Pad a numeric string S with zeros on the left, to fill a field\n",
      " |      of the specified width. The string S is never truncated.\n",
      " |  \n",
      " |  ----------------------------------------------------------------------\n",
      " |  Static methods defined here:\n",
      " |  \n",
      " |  maketrans(x, y=None, z=None, /)\n",
      " |      Return a translation table usable for str.translate().\n",
      " |      \n",
      " |      If there is only one argument, it must be a dictionary mapping Unicode\n",
      " |      ordinals (integers) or characters to Unicode ordinals, strings or None.\n",
      " |      Character keys will be then converted to ordinals.\n",
      " |      If there are two arguments, they must be strings of equal length, and\n",
      " |      in the resulting dictionary, each character in x will be mapped to the\n",
      " |      character at the same position in y. If there is a third argument, it\n",
      " |      must be a string, whose characters will be mapped to None in the result.\n",
      "\n"
     ]
    }
   ],
   "source": [
    "help(str)\n",
    "\n"
   ]
  },
  {
   "cell_type": "markdown",
   "metadata": {},
   "source": [
    "To get the last character, you have to subtract 1 from length:"
   ]
  },
  {
   "cell_type": "code",
   "execution_count": null,
   "metadata": {
    "collapsed": true
   },
   "outputs": [],
   "source": []
  },
  {
   "cell_type": "code",
   "execution_count": 42,
   "metadata": {
    "collapsed": true
   },
   "outputs": [],
   "source": [
    "# fruit[length]"
   ]
  },
  {
   "cell_type": "markdown",
   "metadata": {},
   "source": [
    "Alternatively, you can use negative indices, which count backward from the end of the string. "
   ]
  },
  {
   "cell_type": "code",
   "execution_count": null,
   "metadata": {
    "collapsed": true
   },
   "outputs": [],
   "source": []
  },
  {
   "cell_type": "code",
   "execution_count": null,
   "metadata": {
    "collapsed": true
   },
   "outputs": [],
   "source": []
  },
  {
   "cell_type": "markdown",
   "metadata": {},
   "source": [
    "## String slices\n",
    "\n",
    "\n",
    "A segment of a string is called a slice. Selecting a slice is similar to selecting a character:"
   ]
  },
  {
   "cell_type": "code",
   "execution_count": null,
   "metadata": {
    "collapsed": true
   },
   "outputs": [],
   "source": [
    "\n"
   ]
  },
  {
   "cell_type": "code",
   "execution_count": null,
   "metadata": {
    "collapsed": true
   },
   "outputs": [],
   "source": []
  },
  {
   "cell_type": "markdown",
   "metadata": {},
   "source": [
    "The operator returns the part of the string from the “n-th” character to the “m-th” character, including the first but excluding the last."
   ]
  },
  {
   "cell_type": "code",
   "execution_count": null,
   "metadata": {
    "collapsed": true
   },
   "outputs": [],
   "source": []
  },
  {
   "cell_type": "code",
   "execution_count": null,
   "metadata": {
    "collapsed": true
   },
   "outputs": [],
   "source": []
  },
  {
   "cell_type": "code",
   "execution_count": null,
   "metadata": {
    "collapsed": true
   },
   "outputs": [],
   "source": []
  },
  {
   "cell_type": "code",
   "execution_count": null,
   "metadata": {
    "collapsed": true
   },
   "outputs": [],
   "source": []
  },
  {
   "cell_type": "code",
   "execution_count": null,
   "metadata": {
    "collapsed": true
   },
   "outputs": [],
   "source": []
  },
  {
   "cell_type": "markdown",
   "metadata": {},
   "source": [
    "## Strings are immutable\n",
    "Strings are immutable, which means you can’t change an existing string. "
   ]
  },
  {
   "cell_type": "code",
   "execution_count": 35,
   "metadata": {},
   "outputs": [
    {
     "ename": "TypeError",
     "evalue": "'str' object does not support item assignment",
     "output_type": "error",
     "traceback": [
      "\u001b[0;31m---------------------------------------------------------------------------\u001b[0m",
      "\u001b[0;31mTypeError\u001b[0m                                 Traceback (most recent call last)",
      "\u001b[0;32m<ipython-input-35-7c34c5429eee>\u001b[0m in \u001b[0;36m<module>\u001b[0;34m()\u001b[0m\n\u001b[1;32m      1\u001b[0m \u001b[0mfruit\u001b[0m \u001b[0;34m=\u001b[0m \u001b[0;34m\"peach\"\u001b[0m\u001b[0;34m\u001b[0m\u001b[0m\n\u001b[1;32m      2\u001b[0m \u001b[0mfruit\u001b[0m\u001b[0;34m\u001b[0m\u001b[0m\n\u001b[0;32m----> 3\u001b[0;31m \u001b[0mfruit\u001b[0m\u001b[0;34m[\u001b[0m\u001b[0;36m0\u001b[0m\u001b[0;34m]\u001b[0m \u001b[0;34m=\u001b[0m \u001b[0;34m\"P\"\u001b[0m\u001b[0;34m\u001b[0m\u001b[0m\n\u001b[0m",
      "\u001b[0;31mTypeError\u001b[0m: 'str' object does not support item assignment"
     ]
    }
   ],
   "source": [
    "fruit = \"peach\"\n",
    "fruit\n",
    "fruit[0] = \"P\"\n"
   ]
  },
  {
   "cell_type": "code",
   "execution_count": 3,
   "metadata": {
    "collapsed": true
   },
   "outputs": [],
   "source": [
    "# One way you can do is  to create a new string that is a variation on the original:\n",
    "\n"
   ]
  },
  {
   "cell_type": "code",
   "execution_count": 36,
   "metadata": {},
   "outputs": [
    {
     "data": {
      "text/plain": [
       "'Peach'"
      ]
     },
     "execution_count": 36,
     "metadata": {},
     "output_type": "execute_result"
    }
   ],
   "source": [
    "fruit = \"Peach\"\n",
    "fruit"
   ]
  },
  {
   "cell_type": "code",
   "execution_count": null,
   "metadata": {
    "collapsed": true
   },
   "outputs": [],
   "source": [
    "\"P\" "
   ]
  },
  {
   "cell_type": "markdown",
   "metadata": {},
   "source": [
    "## String operations\n",
    "\n",
    "The + operator works with strings, but it is not addition in the mathematical sense. Instead it performs concatenation, which means joining the strings by linking them end to end."
   ]
  },
  {
   "cell_type": "code",
   "execution_count": 30,
   "metadata": {},
   "outputs": [
    {
     "data": {
      "text/plain": [
       "'carrots are good'"
      ]
     },
     "execution_count": 30,
     "metadata": {},
     "output_type": "execute_result"
    }
   ],
   "source": [
    "\n",
    "s = \"carrots are good\"\n",
    "s"
   ]
  },
  {
   "cell_type": "code",
   "execution_count": 33,
   "metadata": {},
   "outputs": [
    {
     "data": {
      "text/plain": [
       "'carrots '"
      ]
     },
     "execution_count": 33,
     "metadata": {},
     "output_type": "execute_result"
    }
   ],
   "source": [
    "s[0:8]\n"
   ]
  },
  {
   "cell_type": "markdown",
   "metadata": {},
   "source": [
    "The * operator also works with strings by multiplying the content of a string by\n",
    "an integer."
   ]
  },
  {
   "cell_type": "code",
   "execution_count": 34,
   "metadata": {},
   "outputs": [
    {
     "data": {
      "text/plain": [
       "'carrots are good'"
      ]
     },
     "execution_count": 34,
     "metadata": {},
     "output_type": "execute_result"
    }
   ],
   "source": [
    "s[:]\n"
   ]
  },
  {
   "cell_type": "code",
   "execution_count": 38,
   "metadata": {},
   "outputs": [
    {
     "name": "stdout",
     "output_type": "stream",
     "text": [
      "Help on class str in module builtins:\n",
      "\n",
      "class str(object)\n",
      " |  str(object='') -> str\n",
      " |  str(bytes_or_buffer[, encoding[, errors]]) -> str\n",
      " |  \n",
      " |  Create a new string object from the given object. If encoding or\n",
      " |  errors is specified, then the object must expose a data buffer\n",
      " |  that will be decoded using the given encoding and error handler.\n",
      " |  Otherwise, returns the result of object.__str__() (if defined)\n",
      " |  or repr(object).\n",
      " |  encoding defaults to sys.getdefaultencoding().\n",
      " |  errors defaults to 'strict'.\n",
      " |  \n",
      " |  Methods defined here:\n",
      " |  \n",
      " |  __add__(self, value, /)\n",
      " |      Return self+value.\n",
      " |  \n",
      " |  __contains__(self, key, /)\n",
      " |      Return key in self.\n",
      " |  \n",
      " |  __eq__(self, value, /)\n",
      " |      Return self==value.\n",
      " |  \n",
      " |  __format__(...)\n",
      " |      S.__format__(format_spec) -> str\n",
      " |      \n",
      " |      Return a formatted version of S as described by format_spec.\n",
      " |  \n",
      " |  __ge__(self, value, /)\n",
      " |      Return self>=value.\n",
      " |  \n",
      " |  __getattribute__(self, name, /)\n",
      " |      Return getattr(self, name).\n",
      " |  \n",
      " |  __getitem__(self, key, /)\n",
      " |      Return self[key].\n",
      " |  \n",
      " |  __getnewargs__(...)\n",
      " |  \n",
      " |  __gt__(self, value, /)\n",
      " |      Return self>value.\n",
      " |  \n",
      " |  __hash__(self, /)\n",
      " |      Return hash(self).\n",
      " |  \n",
      " |  __iter__(self, /)\n",
      " |      Implement iter(self).\n",
      " |  \n",
      " |  __le__(self, value, /)\n",
      " |      Return self<=value.\n",
      " |  \n",
      " |  __len__(self, /)\n",
      " |      Return len(self).\n",
      " |  \n",
      " |  __lt__(self, value, /)\n",
      " |      Return self<value.\n",
      " |  \n",
      " |  __mod__(self, value, /)\n",
      " |      Return self%value.\n",
      " |  \n",
      " |  __mul__(self, value, /)\n",
      " |      Return self*value.n\n",
      " |  \n",
      " |  __ne__(self, value, /)\n",
      " |      Return self!=value.\n",
      " |  \n",
      " |  __new__(*args, **kwargs) from builtins.type\n",
      " |      Create and return a new object.  See help(type) for accurate signature.\n",
      " |  \n",
      " |  __repr__(self, /)\n",
      " |      Return repr(self).\n",
      " |  \n",
      " |  __rmod__(self, value, /)\n",
      " |      Return value%self.\n",
      " |  \n",
      " |  __rmul__(self, value, /)\n",
      " |      Return self*value.\n",
      " |  \n",
      " |  __sizeof__(...)\n",
      " |      S.__sizeof__() -> size of S in memory, in bytes\n",
      " |  \n",
      " |  __str__(self, /)\n",
      " |      Return str(self).\n",
      " |  \n",
      " |  capitalize(...)\n",
      " |      S.capitalize() -> str\n",
      " |      \n",
      " |      Return a capitalized version of S, i.e. make the first character\n",
      " |      have upper case and the rest lower case.\n",
      " |  \n",
      " |  casefold(...)\n",
      " |      S.casefold() -> str\n",
      " |      \n",
      " |      Return a version of S suitable for caseless comparisons.\n",
      " |  \n",
      " |  center(...)\n",
      " |      S.center(width[, fillchar]) -> str\n",
      " |      \n",
      " |      Return S centered in a string of length width. Padding is\n",
      " |      done using the specified fill character (default is a space)\n",
      " |  \n",
      " |  count(...)\n",
      " |      S.count(sub[, start[, end]]) -> int\n",
      " |      \n",
      " |      Return the number of non-overlapping occurrences of substring sub in\n",
      " |      string S[start:end].  Optional arguments start and end are\n",
      " |      interpreted as in slice notation.\n",
      " |  \n",
      " |  encode(...)\n",
      " |      S.encode(encoding='utf-8', errors='strict') -> bytes\n",
      " |      \n",
      " |      Encode S using the codec registered for encoding. Default encoding\n",
      " |      is 'utf-8'. errors may be given to set a different error\n",
      " |      handling scheme. Default is 'strict' meaning that encoding errors raise\n",
      " |      a UnicodeEncodeError. Other possible values are 'ignore', 'replace' and\n",
      " |      'xmlcharrefreplace' as well as any other name registered with\n",
      " |      codecs.register_error that can handle UnicodeEncodeErrors.\n",
      " |  \n",
      " |  endswith(...)\n",
      " |      S.endswith(suffix[, start[, end]]) -> bool\n",
      " |      \n",
      " |      Return True if S ends with the specified suffix, False otherwise.\n",
      " |      With optional start, test S beginning at that position.\n",
      " |      With optional end, stop comparing S at that position.\n",
      " |      suffix can also be a tuple of strings to try.\n",
      " |  \n",
      " |  expandtabs(...)\n",
      " |      S.expandtabs(tabsize=8) -> str\n",
      " |      \n",
      " |      Return a copy of S where all tab characters are expanded using spaces.\n",
      " |      If tabsize is not given, a tab size of 8 characters is assumed.\n",
      " |  \n",
      " |  find(...)\n",
      " |      S.find(sub[, start[, end]]) -> int\n",
      " |      \n",
      " |      Return the lowest index in S where substring sub is found,\n",
      " |      such that sub is contained within S[start:end].  Optional\n",
      " |      arguments start and end are interpreted as in slice notation.\n",
      " |      \n",
      " |      Return -1 on failure.\n",
      " |  \n",
      " |  format(...)\n",
      " |      S.format(*args, **kwargs) -> str\n",
      " |      \n",
      " |      Return a formatted version of S, using substitutions from args and kwargs.\n",
      " |      The substitutions are identified by braces ('{' and '}').\n",
      " |  \n",
      " |  format_map(...)\n",
      " |      S.format_map(mapping) -> str\n",
      " |      \n",
      " |      Return a formatted version of S, using substitutions from mapping.\n",
      " |      The substitutions are identified by braces ('{' and '}').\n",
      " |  \n",
      " |  index(...)\n",
      " |      S.index(sub[, start[, end]]) -> int\n",
      " |      \n",
      " |      Return the lowest index in S where substring sub is found, \n",
      " |      such that sub is contained within S[start:end].  Optional\n",
      " |      arguments start and end are interpreted as in slice notation.\n",
      " |      \n",
      " |      Raises ValueError when the substring is not found.\n",
      " |  \n",
      " |  isalnum(...)\n",
      " |      S.isalnum() -> bool\n",
      " |      \n",
      " |      Return True if all characters in S are alphanumeric\n",
      " |      and there is at least one character in S, False otherwise.\n",
      " |  \n",
      " |  isalpha(...)\n",
      " |      S.isalpha() -> bool\n",
      " |      \n",
      " |      Return True if all characters in S are alphabetic\n",
      " |      and there is at least one character in S, False otherwise.\n",
      " |  \n",
      " |  isdecimal(...)\n",
      " |      S.isdecimal() -> bool\n",
      " |      \n",
      " |      Return True if there are only decimal characters in S,\n",
      " |      False otherwise.\n",
      " |  \n",
      " |  isdigit(...)\n",
      " |      S.isdigit() -> bool\n",
      " |      \n",
      " |      Return True if all characters in S are digits\n",
      " |      and there is at least one character in S, False otherwise.\n",
      " |  \n",
      " |  isidentifier(...)\n",
      " |      S.isidentifier() -> bool\n",
      " |      \n",
      " |      Return True if S is a valid identifier according\n",
      " |      to the language definition.\n",
      " |      \n",
      " |      Use keyword.iskeyword() to test for reserved identifiers\n",
      " |      such as \"def\" and \"class\".\n",
      " |  \n",
      " |  islower(...)\n",
      " |      S.islower() -> bool\n",
      " |      \n",
      " |      Return True if all cased characters in S are lowercase and there is\n",
      " |      at least one cased character in S, False otherwise.\n",
      " |  \n",
      " |  isnumeric(...)\n",
      " |      S.isnumeric() -> bool\n",
      " |      \n",
      " |      Return True if there are only numeric characters in S,\n",
      " |      False otherwise.\n",
      " |  \n",
      " |  isprintable(...)\n",
      " |      S.isprintable() -> bool\n",
      " |      \n",
      " |      Return True if all characters in S are considered\n",
      " |      printable in repr() or S is empty, False otherwise.\n",
      " |  \n",
      " |  isspace(...)\n",
      " |      S.isspace() -> bool\n",
      " |      \n",
      " |      Return True if all characters in S are whitespace\n",
      " |      and there is at least one character in S, False otherwise.\n",
      " |  \n",
      " |  istitle(...)\n",
      " |      S.istitle() -> bool\n",
      " |      \n",
      " |      Return True if S is a titlecased string and there is at least one\n",
      " |      character in S, i.e. upper- and titlecase characters may only\n",
      " |      follow uncased characters and lowercase characters only cased ones.\n",
      " |      Return False otherwise.\n",
      " |  \n",
      " |  isupper(...)\n",
      " |      S.isupper() -> bool\n",
      " |      \n",
      " |      Return True if all cased characters in S are uppercase and there is\n",
      " |      at least one cased character in S, False otherwise.\n",
      " |  \n",
      " |  join(...)\n",
      " |      S.join(iterable) -> str\n",
      " |      \n",
      " |      Return a string which is the concatenation of the strings in the\n",
      " |      iterable.  The separator between elements is S.\n",
      " |  \n",
      " |  ljust(...)\n",
      " |      S.ljust(width[, fillchar]) -> str\n",
      " |      \n",
      " |      Return S left-justified in a Unicode string of length width. Padding is\n",
      " |      done using the specified fill character (default is a space).\n",
      " |  \n",
      " |  lower(...)\n",
      " |      S.lower() -> str\n",
      " |      \n",
      " |      Return a copy of the string S converted to lowercase.\n",
      " |  \n",
      " |  lstrip(...)\n",
      " |      S.lstrip([chars]) -> str\n",
      " |      \n",
      " |      Return a copy of the string S with leading whitespace removed.\n",
      " |      If chars is given and not None, remove characters in chars instead.\n",
      " |  \n",
      " |  partition(...)\n",
      " |      S.partition(sep) -> (head, sep, tail)\n",
      " |      \n",
      " |      Search for the separator sep in S, and return the part before it,\n",
      " |      the separator itself, and the part after it.  If the separator is not\n",
      " |      found, return S and two empty strings.\n",
      " |  \n",
      " |  replace(...)\n",
      " |      S.replace(old, new[, count]) -> str\n",
      " |      \n",
      " |      Return a copy of S with all occurrences of substring\n",
      " |      old replaced by new.  If the optional argument count is\n",
      " |      given, only the first count occurrences are replaced.\n",
      " |  \n",
      " |  rfind(...)\n",
      " |      S.rfind(sub[, start[, end]]) -> int\n",
      " |      \n",
      " |      Return the highest index in S where substring sub is found,\n",
      " |      such that sub is contained within S[start:end].  Optional\n",
      " |      arguments start and end are interpreted as in slice notation.\n",
      " |      \n",
      " |      Return -1 on failure.\n",
      " |  \n",
      " |  rindex(...)\n",
      " |      S.rindex(sub[, start[, end]]) -> int\n",
      " |      \n",
      " |      Return the highest index in S where substring sub is found,\n",
      " |      such that sub is contained within S[start:end].  Optional\n",
      " |      arguments start and end are interpreted as in slice notation.\n",
      " |      \n",
      " |      Raises ValueError when the substring is not found.\n",
      " |  \n",
      " |  rjust(...)\n",
      " |      S.rjust(width[, fillchar]) -> str\n",
      " |      \n",
      " |      Return S right-justified in a string of length width. Padding is\n",
      " |      done using the specified fill character (default is a space).\n",
      " |  \n",
      " |  rpartition(...)\n",
      " |      S.rpartition(sep) -> (head, sep, tail)\n",
      " |      \n",
      " |      Search for the separator sep in S, starting at the end of S, and return\n",
      " |      the part before it, the separator itself, and the part after it.  If the\n",
      " |      separator is not found, return two empty strings and S.\n",
      " |  \n",
      " |  rsplit(...)\n",
      " |      S.rsplit(sep=None, maxsplit=-1) -> list of strings\n",
      " |      \n",
      " |      Return a list of the words in S, using sep as the\n",
      " |      delimiter string, starting at the end of the string and\n",
      " |      working to the front.  If maxsplit is given, at most maxsplit\n",
      " |      splits are done. If sep is not specified, any whitespace string\n",
      " |      is a separator.\n",
      " |  \n",
      " |  rstrip(...)\n",
      " |      S.rstrip([chars]) -> str\n",
      " |      \n",
      " |      Return a copy of the string S with trailing whitespace removed.\n",
      " |      If chars is given and not None, remove characters in chars instead.\n",
      " |  \n",
      " |  split(...)\n",
      " |      S.split(sep=None, maxsplit=-1) -> list of strings\n",
      " |      \n",
      " |      Return a list of the words in S, using sep as the\n",
      " |      delimiter string.  If maxsplit is given, at most maxsplit\n",
      " |      splits are done. If sep is not specified or is None, any\n",
      " |      whitespace string is a separator and empty strings are\n",
      " |      removed from the result.\n",
      " |  \n",
      " |  splitlines(...)\n",
      " |      S.splitlines([keepends]) -> list of strings\n",
      " |      \n",
      " |      Return a list of the lines in S, breaking at line boundaries.\n",
      " |      Line breaks are not included in the resulting list unless keepends\n",
      " |      is given and true.\n",
      " |  \n",
      " |  startswith(...)\n",
      " |      S.startswith(prefix[, start[, end]]) -> bool\n",
      " |      \n",
      " |      Return True if S starts with the specified prefix, False otherwise.\n",
      " |      With optional start, test S beginning at that position.\n",
      " |      With optional end, stop comparing S at that position.\n",
      " |      prefix can also be a tuple of strings to try.\n",
      " |  \n",
      " |  strip(...)\n",
      " |      S.strip([chars]) -> str\n",
      " |      \n",
      " |      Return a copy of the string S with leading and trailing\n",
      " |      whitespace removed.\n",
      " |      If chars is given and not None, remove characters in chars instead.\n",
      " |  \n",
      " |  swapcase(...)\n",
      " |      S.swapcase() -> str\n",
      " |      \n",
      " |      Return a copy of S with uppercase characters converted to lowercase\n",
      " |      and vice versa.\n",
      " |  \n",
      " |  title(...)\n",
      " |      S.title() -> str\n",
      " |      \n",
      " |      Return a titlecased version of S, i.e. words start with title case\n",
      " |      characters, all remaining cased characters have lower case.\n",
      " |  \n",
      " |  translate(...)\n",
      " |      S.translate(table) -> str\n",
      " |      \n",
      " |      Return a copy of the string S in which each character has been mapped\n",
      " |      through the given translation table. The table must implement\n",
      " |      lookup/indexing via __getitem__, for instance a dictionary or list,\n",
      " |      mapping Unicode ordinals to Unicode ordinals, strings, or None. If\n",
      " |      this operation raises LookupError, the character is left untouched.\n",
      " |      Characters mapped to None are deleted.\n",
      " |  \n",
      " |  upper(...)\n",
      " |      S.upper() -> str\n",
      " |      \n",
      " |      Return a copy of S converted to uppercase.\n",
      " |  \n",
      " |  zfill(...)\n",
      " |      S.zfill(width) -> str\n",
      " |      \n",
      " |      Pad a numeric string S with zeros on the left, to fill a field\n",
      " |      of the specified width. The string S is never truncated.\n",
      " |  \n",
      " |  ----------------------------------------------------------------------\n",
      " |  Static methods defined here:\n",
      " |  \n",
      " |  maketrans(x, y=None, z=None, /)\n",
      " |      Return a translation table usable for str.translate().\n",
      " |      \n",
      " |      If there is only one argument, it must be a dictionary mapping Unicode\n",
      " |      ordinals (integers) or characters to Unicode ordinals, strings or None.\n",
      " |      Character keys will be then converted to ordinals.\n",
      " |      If there are two arguments, they must be strings of equal length, and\n",
      " |      in the resulting dictionary, each character in x will be mapped to the\n",
      " |      character at the same position in y. If there is a third argument, it\n",
      " |      must be a string, whose characters will be mapped to None in the result.\n",
      "\n"
     ]
    }
   ],
   "source": [
    "help(str)"
   ]
  },
  {
   "cell_type": "markdown",
   "metadata": {},
   "source": [
    "<a name='changing_case'></a>Changing case\n",
    "---\n",
    "You can easily change the case of a string, to present it the way you want it to look."
   ]
  },
  {
   "cell_type": "code",
   "execution_count": 40,
   "metadata": {},
   "outputs": [
    {
     "data": {
      "text/plain": [
       "'eric'"
      ]
     },
     "execution_count": 40,
     "metadata": {},
     "output_type": "execute_result"
    }
   ],
   "source": [
    "f_n = \"eric\"\n",
    "f_n"
   ]
  },
  {
   "cell_type": "code",
   "execution_count": 47,
   "metadata": {},
   "outputs": [
    {
     "data": {
      "text/plain": [
       "'ERIC'"
      ]
     },
     "execution_count": 47,
     "metadata": {},
     "output_type": "execute_result"
    }
   ],
   "source": [
    "f_n."
   ]
  },
  {
   "cell_type": "code",
   "execution_count": null,
   "metadata": {
    "collapsed": true
   },
   "outputs": [],
   "source": []
  },
  {
   "cell_type": "markdown",
   "metadata": {},
   "source": [
    "**Note**: Please notice that the original strings remain **always** unchanged"
   ]
  },
  {
   "cell_type": "code",
   "execution_count": 61,
   "metadata": {},
   "outputs": [
    {
     "name": "stdout",
     "output_type": "stream",
     "text": [
      "eric\n",
      "Eric\n"
     ]
    }
   ],
   "source": [
    "\n"
   ]
  },
  {
   "cell_type": "markdown",
   "metadata": {},
   "source": [
    "You will see this syntax quite often, where a variable name is followed by a dot and then the name of an action, followed by a set of parentheses. The parentheses may be empty, or they may contain some values.\n",
    "\n",
    "    variable_name.action()\n",
    "\n",
    "In this example, the word \"action\" is the name of a **method**. \n",
    "\n",
    "A method is something that can be done to a variable.\n",
    "\n",
    "The methods `lower`, `title`, and `upper` are all functions that have been written into the Python language, which do something to **strings**. \n",
    "\n",
    "Later on, you will learn to write your own methods."
   ]
  },
  {
   "cell_type": "markdown",
   "metadata": {},
   "source": [
    "## String methods \n",
    "Strings are an example of Python objects. An object contains both data (the actual string itself) and methods, which are effectively functions that are built into the object and are available to any instance of the object.\n",
    "Python has a function called dir which lists the methods available for an object. The type function shows the type of an object and the dir function shows the available methods."
   ]
  },
  {
   "cell_type": "markdown",
   "metadata": {},
   "source": [
    "A better source of documentation for string methods would be https://docs.python.org/3.5/library/stdtypes.html#string-methods."
   ]
  },
  {
   "cell_type": "markdown",
   "metadata": {},
   "source": [
    "### Find position in a string"
   ]
  },
  {
   "cell_type": "code",
   "execution_count": null,
   "metadata": {
    "collapsed": true
   },
   "outputs": [],
   "source": []
  },
  {
   "cell_type": "code",
   "execution_count": 21,
   "metadata": {
    "collapsed": true
   },
   "outputs": [],
   "source": [
    "# The find method can find substrings as well as characters:\n"
   ]
  },
  {
   "cell_type": "code",
   "execution_count": 22,
   "metadata": {
    "collapsed": true
   },
   "outputs": [],
   "source": [
    "# It can take as a second argument the index where it should start:  (HOW???)\n"
   ]
  },
  {
   "cell_type": "markdown",
   "metadata": {},
   "source": [
    "### Parsing strings\n",
    "\n",
    "Often, we want to look into a string and find a substring. \n",
    "\n",
    "First, we will find the position of the at-sign in the string. \n",
    "\n",
    "Then we will find the position of the first space after the at-sign. \n",
    "\n",
    "And then we will use string slicing to extract the portion of the string which we are looking for.\n"
   ]
  },
  {
   "cell_type": "code",
   "execution_count": 50,
   "metadata": {},
   "outputs": [
    {
     "data": {
      "text/plain": [
       "'From stephen.marquard@uct.ac.za Sat Jan  5 09:14:16 2008'"
      ]
     },
     "execution_count": 50,
     "metadata": {},
     "output_type": "execute_result"
    }
   ],
   "source": [
    "data = 'From stephen.marquard@uct.ac.za Sat Jan  5 09:14:16 2008'\n",
    "data\n"
   ]
  },
  {
   "cell_type": "code",
   "execution_count": 53,
   "metadata": {},
   "outputs": [
    {
     "data": {
      "text/plain": [
       "21"
      ]
     },
     "execution_count": 53,
     "metadata": {},
     "output_type": "execute_result"
    }
   ],
   "source": [
    "pos = data.find('@')\n",
    "pos"
   ]
  },
  {
   "cell_type": "code",
   "execution_count": 54,
   "metadata": {},
   "outputs": [
    {
     "data": {
      "text/plain": [
       "31"
      ]
     },
     "execution_count": 54,
     "metadata": {},
     "output_type": "execute_result"
    }
   ],
   "source": [
    "sp_pos = data.find(' ',pos)\n",
    "sp_pos"
   ]
  },
  {
   "cell_type": "code",
   "execution_count": 32,
   "metadata": {},
   "outputs": [
    {
     "data": {
      "text/plain": [
       "'uct.ac.za'"
      ]
     },
     "execution_count": 32,
     "metadata": {},
     "output_type": "execute_result"
    }
   ],
   "source": [
    "data[pos+1:sp_pos]"
   ]
  },
  {
   "cell_type": "code",
   "execution_count": null,
   "metadata": {
    "collapsed": true
   },
   "outputs": [],
   "source": []
  },
  {
   "cell_type": "markdown",
   "metadata": {},
   "source": [
    "The documentation for the find method is available at https://docs.python.org/3.5/library/stdtypes.html#string-methods."
   ]
  },
  {
   "cell_type": "markdown",
   "metadata": {},
   "source": [
    "### String formatting\n"
   ]
  },
  {
   "cell_type": "markdown",
   "metadata": {},
   "source": [
    "\n",
    "The format operator, % allows us to construct strings, replacing parts of the strings with the data stored in variables. When applied to integers, % is the modulus operator. But when the first operand is a string, % is the format operator.\n",
    "\n",
    "The first operand is the format string, which contains one or more format sequences that specify how the second operand is formatted. The result is a string.\n",
    "\n",
    "For example, the format sequence “%d” means that the second operand should be formatted as an integer (d stands for “decimal”):\n"
   ]
  },
  {
   "cell_type": "code",
   "execution_count": 11,
   "metadata": {},
   "outputs": [
    {
     "data": {
      "text/plain": [
       "16"
      ]
     },
     "execution_count": 11,
     "metadata": {},
     "output_type": "execute_result"
    }
   ],
   "source": [
    "age = 16\n",
    "age"
   ]
  },
  {
   "cell_type": "code",
   "execution_count": 13,
   "metadata": {},
   "outputs": [
    {
     "data": {
      "text/plain": [
       "'The age of Marry is 16 years old'"
      ]
     },
     "execution_count": 13,
     "metadata": {},
     "output_type": "execute_result"
    }
   ],
   "source": [
    "# for example\n",
    "\"The age of Marry is %d years old\" % age\n"
   ]
  },
  {
   "cell_type": "code",
   "execution_count": 15,
   "metadata": {},
   "outputs": [
    {
     "data": {
      "text/plain": [
       "'first 4, then a float 2.3, then a string word'"
      ]
     },
     "execution_count": 15,
     "metadata": {},
     "output_type": "execute_result"
    }
   ],
   "source": [
    "\"first %d, then a float %g, then a string %s\" %(4,2.3, \"word\")"
   ]
  },
  {
   "cell_type": "code",
   "execution_count": 17,
   "metadata": {},
   "outputs": [
    {
     "data": {
      "text/plain": [
       "'1, 2, 3'"
      ]
     },
     "execution_count": 17,
     "metadata": {},
     "output_type": "execute_result"
    }
   ],
   "source": [
    "\"%d, %d, %d\" %(1, 2, 3)"
   ]
  },
  {
   "cell_type": "code",
   "execution_count": 21,
   "metadata": {},
   "outputs": [
    {
     "data": {
      "text/plain": [
       "'1 and 2 and 1'"
      ]
     },
     "execution_count": 21,
     "metadata": {},
     "output_type": "execute_result"
    }
   ],
   "source": [
    "\"{0} and {1} and {0}\".format(1, 2) "
   ]
  },
  {
   "cell_type": "code",
   "execution_count": null,
   "metadata": {},
   "outputs": [],
   "source": []
  },
  {
   "cell_type": "code",
   "execution_count": null,
   "metadata": {},
   "outputs": [],
   "source": []
  },
  {
   "cell_type": "code",
   "execution_count": null,
   "metadata": {},
   "outputs": [],
   "source": []
  },
  {
   "cell_type": "code",
   "execution_count": null,
   "metadata": {},
   "outputs": [],
   "source": []
  },
  {
   "cell_type": "code",
   "execution_count": null,
   "metadata": {},
   "outputs": [],
   "source": []
  },
  {
   "cell_type": "code",
   "execution_count": null,
   "metadata": {},
   "outputs": [],
   "source": []
  },
  {
   "cell_type": "code",
   "execution_count": 25,
   "metadata": {
    "collapsed": true
   },
   "outputs": [],
   "source": [
    "# A format sequence can appear anywhere in the string\n"
   ]
  },
  {
   "cell_type": "markdown",
   "metadata": {},
   "source": [
    "If there is more than one format sequence in the string, the second argument has to be a tuple1. Each format sequence is matched with an element of the tuple, in order.\n",
    "\n",
    "“%d” to format an integer\n",
    "\n",
    "“%g” to format a floating-point number\n",
    "\n",
    "“%s” to format a string"
   ]
  },
  {
   "cell_type": "code",
   "execution_count": null,
   "metadata": {
    "collapsed": true
   },
   "outputs": [],
   "source": []
  },
  {
   "cell_type": "markdown",
   "metadata": {},
   "source": [
    "The number of elements in the tuple must match the number of format sequences in the string. The types of the elements also must match the format sequences:\n"
   ]
  },
  {
   "cell_type": "code",
   "execution_count": 80,
   "metadata": {
    "collapsed": true
   },
   "outputs": [],
   "source": [
    "# '%d %d %d' % (1, 2)"
   ]
  },
  {
   "cell_type": "code",
   "execution_count": 81,
   "metadata": {
    "collapsed": true
   },
   "outputs": [],
   "source": [
    "#'%d' % 'dollars'"
   ]
  },
  {
   "cell_type": "code",
   "execution_count": 84,
   "metadata": {},
   "outputs": [
    {
     "name": "stdout",
     "output_type": "stream",
     "text": [
      "String Template:  The result of the calculation of {calc} is {res}\n",
      "The result of the calculation of (3*4)+2 is 14\n"
     ]
    }
   ],
   "source": [
    "# Another way of the formatting\n"
   ]
  },
  {
   "cell_type": "markdown",
   "metadata": {},
   "source": [
    "###### There's much more than that!\n",
    "\n",
    "For further information about *String formatting*, see the official online documentation about the [`string`](https://docs.python.org/3/library/string.html) module."
   ]
  },
  {
   "cell_type": "code",
   "execution_count": null,
   "metadata": {
    "collapsed": true
   },
   "outputs": [],
   "source": []
  },
  {
   "cell_type": "markdown",
   "metadata": {},
   "source": [
    "## Asking the user for input\n",
    "Python provides a built-in function called input that gets input from the keyboard. The program resumes and input returns what the user typed as a string."
   ]
  },
  {
   "cell_type": "code",
   "execution_count": 56,
   "metadata": {},
   "outputs": [
    {
     "data": {
      "text/plain": [
       "[['Roy', 80, 75, 85, 90, 95],\n",
       " ['John', 75, 80, 75, 85, 100],\n",
       " ['Dave', 80, 80, 80, 90, 95]]"
      ]
     },
     "execution_count": 56,
     "metadata": {},
     "output_type": "execute_result"
    }
   ],
   "source": [
    "A = [['Roy',80,75,85,90,95],['John',75,80,75,85,100],['Dave',80,80,80,90,95]]\n",
    "A"
   ]
  },
  {
   "cell_type": "code",
   "execution_count": 87,
   "metadata": {},
   "outputs": [
    {
     "name": "stdout",
     "output_type": "stream",
     "text": [
      "\n"
     ]
    }
   ],
   "source": []
  },
  {
   "cell_type": "code",
   "execution_count": null,
   "metadata": {},
   "outputs": [],
   "source": [
    "a = \"Friso is a dick!\"\n",
    "b = input(\"TYpe a number: \")\n",
    "\n",
    "for x in range (int(b)):\n",
    "        print(a)\n",
    "        \n",
    "    "
   ]
  },
  {
   "cell_type": "markdown",
   "metadata": {},
   "source": [
    "The sequence \\n at the end of the prompt represents a newline, which is a special character that causes a line break. "
   ]
  },
  {
   "cell_type": "code",
   "execution_count": 2,
   "metadata": {},
   "outputs": [
    {
     "data": {
      "text/plain": [
       "'banana'"
      ]
     },
     "execution_count": 2,
     "metadata": {},
     "output_type": "execute_result"
    }
   ],
   "source": [
    "word = \"banana\"\n",
    "word"
   ]
  },
  {
   "cell_type": "code",
   "execution_count": 3,
   "metadata": {},
   "outputs": [
    {
     "data": {
      "text/plain": [
       "str"
      ]
     },
     "execution_count": 3,
     "metadata": {},
     "output_type": "execute_result"
    }
   ],
   "source": [
    "type(word)"
   ]
  },
  {
   "cell_type": "code",
   "execution_count": 10,
   "metadata": {},
   "outputs": [
    {
     "data": {
      "text/plain": [
       "4"
      ]
     },
     "execution_count": 10,
     "metadata": {},
     "output_type": "execute_result"
    }
   ],
   "source": [
    "word.find(\"n\",3)"
   ]
  },
  {
   "cell_type": "markdown",
   "metadata": {},
   "source": [
    "You can try to convert the return value to integer using the int() function: "
   ]
  },
  {
   "cell_type": "code",
   "execution_count": null,
   "metadata": {
    "collapsed": true
   },
   "outputs": [],
   "source": []
  },
  {
   "cell_type": "code",
   "execution_count": null,
   "metadata": {
    "collapsed": true
   },
   "outputs": [],
   "source": []
  },
  {
   "cell_type": "code",
   "execution_count": null,
   "metadata": {
    "collapsed": true
   },
   "outputs": [],
   "source": []
  },
  {
   "cell_type": "code",
   "execution_count": null,
   "metadata": {
    "collapsed": true
   },
   "outputs": [],
   "source": []
  },
  {
   "cell_type": "markdown",
   "metadata": {},
   "source": [
    "## 1.4 Intro Numpy Arrays, and Matrices\n",
    "NumPy, short for Numerical Python, is the fundamental package required for high performance scientific computing and data analysis.\n",
    "\n",
    "In this section, we will talk about some basic applications of numpy. It includes:\n",
    "    \n",
    "    Creating arrays \n",
    "    Mutidimensional arrays\n",
    "    special functions: arange, linspace, rand\n"
   ]
  },
  {
   "cell_type": "markdown",
   "metadata": {},
   "source": [
    "#### Creating arrays"
   ]
  },
  {
   "cell_type": "code",
   "execution_count": 27,
   "metadata": {},
   "outputs": [],
   "source": [
    "import numpy as np\n",
    "from IPython.display import Image\n"
   ]
  },
  {
   "cell_type": "code",
   "execution_count": 34,
   "metadata": {},
   "outputs": [
    {
     "data": {
      "text/plain": [
       "array([[ 5,  7,  9],\n",
       "       [ 6,  8, 10]])"
      ]
     },
     "execution_count": 34,
     "metadata": {},
     "output_type": "execute_result"
    }
   ],
   "source": [
    "# Arrays are initialized from lists (or tuples) using array\n",
    "arr = np.array([4, 5, 6])\n",
    "arr2 = np.array([[1, 2, 3], [2, 3, 4]])\n",
    "\n",
    "arr + arr2\n",
    "\n"
   ]
  },
  {
   "cell_type": "code",
   "execution_count": 123,
   "metadata": {},
   "outputs": [
    {
     "data": {
      "text/plain": [
       "array([[ 0.,  1.,  2.,  3.,  4.],\n",
       "       [ 5.,  6.,  7.,  8.,  9.]])"
      ]
     },
     "execution_count": 123,
     "metadata": {},
     "output_type": "execute_result"
    }
   ],
   "source": [
    "# Two-dimensional arrays are initialized using\n"
   ]
  },
  {
   "cell_type": "code",
   "execution_count": 124,
   "metadata": {},
   "outputs": [
    {
     "data": {
      "text/plain": [
       "(numpy.ndarray, numpy.ndarray)"
      ]
     },
     "execution_count": 124,
     "metadata": {},
     "output_type": "execute_result"
    }
   ],
   "source": [
    "# check types\n"
   ]
  },
  {
   "cell_type": "code",
   "execution_count": 125,
   "metadata": {},
   "outputs": [
    {
     "name": "stdout",
     "output_type": "stream",
     "text": [
      "dim   arr1      =  1\n",
      "shape arr1      =  (3,)\n",
      "# dim arr2      =  2\n",
      "shape arr2      =  (2, 5)\n",
      "type  arr2      =  <class 'numpy.ndarray'>\n"
     ]
    }
   ],
   "source": [
    "# checking dims\n"
   ]
  },
  {
   "cell_type": "code",
   "execution_count": 37,
   "metadata": {},
   "outputs": [
    {
     "data": {
      "text/plain": [
       "array([[0., 0.],\n",
       "       [0., 0.],\n",
       "       [0., 0.]])"
      ]
     },
     "execution_count": 37,
     "metadata": {},
     "output_type": "execute_result"
    }
   ],
   "source": [
    "# Special arrays\n",
    "\n",
    "# zeros\n",
    "np.zeros((3, 2))\n",
    "# ones\n",
    "\n",
    "\n",
    "# empty\n",
    "\n"
   ]
  },
  {
   "cell_type": "code",
   "execution_count": 38,
   "metadata": {},
   "outputs": [
    {
     "data": {
      "text/plain": [
       "array([[0., 0., 0.],\n",
       "       [0., 0., 0.]])"
      ]
     },
     "execution_count": 38,
     "metadata": {},
     "output_type": "execute_result"
    }
   ],
   "source": [
    "# Change data types\n",
    "np.empty((2,3))"
   ]
  },
  {
   "cell_type": "code",
   "execution_count": 43,
   "metadata": {},
   "outputs": [
    {
     "data": {
      "text/plain": [
       "array([[1, 2, 6],\n",
       "       [3, 4, 5]])"
      ]
     },
     "execution_count": 43,
     "metadata": {},
     "output_type": "execute_result"
    }
   ],
   "source": [
    "arr = np.array([[1, 2, 6], [3, 4, 5]])\n",
    "arr"
   ]
  },
  {
   "cell_type": "markdown",
   "metadata": {},
   "source": [
    "#### Operations"
   ]
  },
  {
   "cell_type": "code",
   "execution_count": 129,
   "metadata": {},
   "outputs": [
    {
     "data": {
      "text/plain": [
       "array([[1, 2, 3],\n",
       "       [3, 4, 5]])"
      ]
     },
     "execution_count": 129,
     "metadata": {},
     "output_type": "execute_result"
    }
   ],
   "source": [
    "# Let's create a 2-D array from lists\n",
    "\n"
   ]
  },
  {
   "cell_type": "code",
   "execution_count": 130,
   "metadata": {},
   "outputs": [
    {
     "name": "stdout",
     "output_type": "stream",
     "text": [
      "[[ 1  4  9]\n",
      " [ 9 16 25]]\n",
      "\n",
      "[[ 1.  1.  1.]\n",
      " [ 1.  1.  1.]]\n"
     ]
    }
   ],
   "source": [
    "# element by element operations\n"
   ]
  },
  {
   "cell_type": "code",
   "execution_count": 131,
   "metadata": {},
   "outputs": [
    {
     "name": "stdout",
     "output_type": "stream",
     "text": [
      "[[ 1.          0.5         0.33333333]\n",
      " [ 0.33333333  0.25        0.2       ]]\n",
      "\n",
      "[[ 1  4  9]\n",
      " [ 9 16 25]]\n"
     ]
    }
   ],
   "source": [
    "# arithmetic operations\n"
   ]
  },
  {
   "cell_type": "markdown",
   "metadata": {},
   "source": [
    "#### Basic indexing"
   ]
  },
  {
   "cell_type": "code",
   "execution_count": 132,
   "metadata": {},
   "outputs": [
    {
     "data": {
      "image/png": "[encoded data removed]",
      "text/plain": [
       "<IPython.core.display.Image object>"
      ]
     },
     "execution_count": 132,
     "metadata": {},
     "output_type": "execute_result"
    }
   ],
   "source": [
    "# Indexing in a 2d array\n",
    "Image(\"graphs/fig_4_1_wes.png\")"
   ]
  },
  {
   "cell_type": "code",
   "execution_count": 133,
   "metadata": {},
   "outputs": [
    {
     "data": {
      "text/plain": [
       "array([0, 1, 2, 3, 4, 5, 6, 7, 8, 9])"
      ]
     },
     "execution_count": 133,
     "metadata": {},
     "output_type": "execute_result"
    }
   ],
   "source": [
    "# Indexing and slicing. arange is a method\n"
   ]
  },
  {
   "cell_type": "code",
   "execution_count": 134,
   "metadata": {},
   "outputs": [
    {
     "data": {
      "text/plain": [
       "array([3, 4, 5])"
      ]
     },
     "execution_count": 134,
     "metadata": {},
     "output_type": "execute_result"
    }
   ],
   "source": [
    "# exercise: create a vector get x=[3,4,5]\n"
   ]
  },
  {
   "cell_type": "code",
   "execution_count": 135,
   "metadata": {},
   "outputs": [
    {
     "data": {
      "text/plain": [
       "array([2, 3, 4])"
      ]
     },
     "execution_count": 135,
     "metadata": {},
     "output_type": "execute_result"
    }
   ],
   "source": [
    "# indexing\n"
   ]
  },
  {
   "cell_type": "code",
   "execution_count": 136,
   "metadata": {},
   "outputs": [
    {
     "data": {
      "text/plain": [
       "array([ 0,  1,  2, 15, 15, 15,  6,  7,  8,  9])"
      ]
     },
     "execution_count": 136,
     "metadata": {},
     "output_type": "execute_result"
    }
   ],
   "source": [
    "# broadcasting a value. Arrays a mutables\n"
   ]
  },
  {
   "cell_type": "code",
   "execution_count": 137,
   "metadata": {},
   "outputs": [
    {
     "name": "stdout",
     "output_type": "stream",
     "text": [
      "[15 15 15]\n",
      "[ 15 999  15]\n",
      "[  0   1   2  15 999  15   6   7   8   9]\n"
     ]
    }
   ],
   "source": [
    "# IMPORTANT : the data is not copied\n"
   ]
  },
  {
   "cell_type": "code",
   "execution_count": 138,
   "metadata": {},
   "outputs": [
    {
     "data": {
      "text/plain": [
       "array([[1, 2, 3],\n",
       "       [3, 4, 5],\n",
       "       [6, 7, 8]])"
      ]
     },
     "execution_count": 138,
     "metadata": {},
     "output_type": "execute_result"
    }
   ],
   "source": [
    "# indexing for multidimensional arrays\n"
   ]
  },
  {
   "cell_type": "code",
   "execution_count": 139,
   "metadata": {},
   "outputs": [
    {
     "name": "stdout",
     "output_type": "stream",
     "text": [
      "5\n",
      "5\n"
     ]
    }
   ],
   "source": [
    "# either way is fine\n",
    "\n"
   ]
  },
  {
   "cell_type": "code",
   "execution_count": 140,
   "metadata": {},
   "outputs": [
    {
     "name": "stdout",
     "output_type": "stream",
     "text": [
      "[[1 2 3]\n",
      " [3 4 5]\n",
      " [6 7 8]]\n"
     ]
    },
    {
     "data": {
      "text/plain": [
       "array([6, 7, 8])"
      ]
     },
     "execution_count": 140,
     "metadata": {},
     "output_type": "execute_result"
    }
   ],
   "source": [
    "# indexing with slices\n",
    "\n"
   ]
  },
  {
   "cell_type": "code",
   "execution_count": null,
   "metadata": {
    "collapsed": true
   },
   "outputs": [],
   "source": []
  },
  {
   "cell_type": "code",
   "execution_count": null,
   "metadata": {
    "collapsed": true
   },
   "outputs": [],
   "source": []
  },
  {
   "cell_type": "code",
   "execution_count": null,
   "metadata": {
    "collapsed": true
   },
   "outputs": [],
   "source": []
  },
  {
   "cell_type": "code",
   "execution_count": null,
   "metadata": {
    "collapsed": true
   },
   "outputs": [],
   "source": []
  },
  {
   "cell_type": "code",
   "execution_count": null,
   "metadata": {
    "collapsed": true
   },
   "outputs": [],
   "source": []
  },
  {
   "cell_type": "code",
   "execution_count": null,
   "metadata": {
    "collapsed": true
   },
   "outputs": [],
   "source": []
  },
  {
   "cell_type": "code",
   "execution_count": null,
   "metadata": {
    "collapsed": true
   },
   "outputs": [],
   "source": []
  },
  {
   "cell_type": "code",
   "execution_count": null,
   "metadata": {
    "collapsed": true
   },
   "outputs": [],
   "source": []
  }
 ],
 "metadata": {
  "kernelspec": {
   "display_name": "Python 3",
   "language": "python",
   "name": "python3"
  },
  "language_info": {
   "codemirror_mode": {
    "name": "ipython",
    "version": 3
   },
   "file_extension": ".py",
   "mimetype": "text/x-python",
   "name": "python",
   "nbconvert_exporter": "python",
   "pygments_lexer": "ipython3",
   "version": "3.6.5"
  }
 },
 "nbformat": 4,
 "nbformat_minor": 2
}
