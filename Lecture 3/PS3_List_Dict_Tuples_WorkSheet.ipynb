{
 "cells": [
  {
   "cell_type": "markdown",
   "metadata": {},
   "source": [
    "***NB!*** New room for the TA session on 19/9 (WED) 2pm--3:45pm: \n",
    "### Room <font color='red'>A1-030</font>\n"
   ]
  },
  {
   "cell_type": "markdown",
   "metadata": {},
   "source": [
    "# Problem Set 3: Lists, Dictionaries and Tuples"
   ]
  },
  {
   "cell_type": "markdown",
   "metadata": {},
   "source": [
    "### Exercise 1\n",
    "Generate a list contains numbers, strings, and nested list."
   ]
  },
  {
   "cell_type": "code",
   "execution_count": null,
   "metadata": {},
   "outputs": [],
   "source": [
    "a = [[1, 2, 3],[\"a\",\"b\",\"c\",],[\"d\",\"e\"],[\"f\",\"g\",\"h\"]]\n",
    "a"
   ]
  },
  {
   "cell_type": "markdown",
   "metadata": {},
   "source": [
    "### Exercise 2\n",
    "Add an extra element in the end of the list in Exercise 1."
   ]
  },
  {
   "cell_type": "code",
   "execution_count": null,
   "metadata": {},
   "outputs": [],
   "source": [
    "a.append([3, 4, 5])\n",
    "a"
   ]
  },
  {
   "cell_type": "markdown",
   "metadata": {},
   "source": [
    "### Exercise 3\n",
    "Square numbers in range(0,11) and turn it into a list.\n"
   ]
  },
  {
   "cell_type": "code",
   "execution_count": null,
   "metadata": {},
   "outputs": [],
   "source": [
    "a = []\n",
    "for i in range(0, 11):\n",
    "    a.append(i**2)\n",
    "print(a)\n"
   ]
  },
  {
   "cell_type": "code",
   "execution_count": null,
   "metadata": {},
   "outputs": [],
   "source": [
    "[x**2 for x in range(0, 11)]"
   ]
  },
  {
   "cell_type": "markdown",
   "metadata": {},
   "source": [
    "### Exercise 4\n",
    "List of all numbers between 1 and 50 that are divisible by 3."
   ]
  },
  {
   "cell_type": "code",
   "execution_count": null,
   "metadata": {},
   "outputs": [],
   "source": [
    "a = []\n",
    "\n",
    "for i in range(0, 51):\n",
    "    if(i%3==0):\n",
    "        a.append(i)\n",
    "print(a)\n"
   ]
  },
  {
   "cell_type": "code",
   "execution_count": null,
   "metadata": {},
   "outputs": [],
   "source": [
    "[x for x in range(1, 51) if x%3==0]"
   ]
  },
  {
   "cell_type": "markdown",
   "metadata": {},
   "source": [
    "### Exercise 5\n",
    "1. Create an empty tuple.\n",
    "2. Create a tuple with different data types.\n",
    "3. Write a program to convert a list to a tuple.\n",
    "4. Write a program to replace last value of a tuple.\n",
    "\n",
    "    Sample tuple: (70, 80, 90)\n",
    "    \n",
    "    Expected Output: (70, 80, 100)\n"
   ]
  },
  {
   "cell_type": "code",
   "execution_count": null,
   "metadata": {},
   "outputs": [],
   "source": [
    "#1.Create an empty tuple.\n",
    "a = ((),)\n",
    "type(a)\n"
   ]
  },
  {
   "cell_type": "code",
   "execution_count": null,
   "metadata": {},
   "outputs": [],
   "source": [
    "#2. Create a tuple with different data types\n",
    "b = ((1, 'b', 3.0),)\n",
    "b"
   ]
  },
  {
   "cell_type": "code",
   "execution_count": null,
   "metadata": {},
   "outputs": [],
   "source": [
    "#3. Convert list to tuple\n",
    "a = [[1, 2, 3], ['a', 'b', 'c']]\n",
    "b = tuple(a)\n",
    "b"
   ]
  },
  {
   "cell_type": "code",
   "execution_count": null,
   "metadata": {},
   "outputs": [],
   "source": [
    "#4. Write a program to replace last value of a tuple\n",
    "t1 = (70, 80, 90)\n",
    "t1[:2]+(100,)\n",
    "\n"
   ]
  },
  {
   "cell_type": "markdown",
   "metadata": {},
   "source": [
    "### Exercise 6\n",
    "\n",
    "Write a program which repeatedly reads numbers until the user enters “done”. Once “done” is entered, print out a list of all the numbers, and the maximum and minimum of the numbers. (Hint: You may use the max() and min() functions to compute the maximum and minimum values after the loop completes.) You may get something as follow:\n",
    "\n",
    "\n",
    "    Enter a number: 6\n",
    "    Enter a number: 2\n",
    "    Enter a number: 9\n",
    "    Enter a number: 3\n",
    "    Enter a number: 5\n",
    "    Enter a number: done\n",
    "    [6.0, 2.0, 9.0, 3.0, 5.0]\n",
    "    Maximum: 9.0\n",
    "    Minimum: 2.0"
   ]
  },
  {
   "cell_type": "code",
   "execution_count": null,
   "metadata": {},
   "outputs": [],
   "source": [
    "list1 = []\n",
    "while True:\n",
    "        inp = input('Enter a number: ')\n",
    "        if inp == 'done':\n",
    "            \n",
    "            print(list1)   \n",
    "            print('High: ' +str(high), \"low: \" + str(low))\n",
    "            break\n",
    "        else:\n",
    "            inp= float(inp)\n",
    "            list1.append(inp)\n",
    "            high = max(list1)\n",
    "            low = min(list1)\n",
    "            \n",
    "            "
   ]
  },
  {
   "cell_type": "code",
   "execution_count": null,
   "metadata": {},
   "outputs": [],
   "source": []
  },
  {
   "cell_type": "code",
   "execution_count": null,
   "metadata": {},
   "outputs": [],
   "source": []
  },
  {
   "cell_type": "markdown",
   "metadata": {},
   "source": [
    "### Exercise 7\n",
    "\n",
    "Generate a list using the following code: \n",
    "\n",
    "    np.random.seed(123)\n",
    "    s = list(np.random.randn(10))\n",
    "\n",
    "Write a list comprehension that will extract the negative elements to the list `s`."
   ]
  },
  {
   "cell_type": "code",
   "execution_count": null,
   "metadata": {},
   "outputs": [],
   "source": [
    "np.random.seed(123)\n",
    "s = list(np.random.randn(10))\n",
    "s"
   ]
  },
  {
   "cell_type": "code",
   "execution_count": null,
   "metadata": {},
   "outputs": [],
   "source": [
    "[x for x in s if x <= 0 ]"
   ]
  },
  {
   "cell_type": "code",
   "execution_count": null,
   "metadata": {},
   "outputs": [],
   "source": []
  },
  {
   "cell_type": "markdown",
   "metadata": {},
   "source": [
    "### Exercise 8\n",
    "\n",
    "\n",
    "1. Write a txt file with lines of string. The first line of the file contains the count of the number of students in the file, and each subsequent line contains a student’s last name followed by a score in the range 0 to 100. For example\n",
    "\n",
    "        count        4\n",
    "        Computewell  90\n",
    "        Dibblebit    60\n",
    "        Jones        70\n",
    "        Smith        66\n",
    "\n",
    "    Then save it as the file `student_exam.txt`.\n",
    "    \n",
    "2. Read the lines from `student_exam.txt`. Generate two variables `name` and `score` which contain names and scores for all the students. \n",
    "\n",
    "3. Draw a horizontal bar chart for each student where the length of the bar represents the student’s score. An example of the bar chart is shown below.\n",
    "<img src=\"graphs/hist2.png\">"
   ]
  },
  {
   "cell_type": "code",
   "execution_count": null,
   "metadata": {},
   "outputs": [],
   "source": [
    "from matplotlib import pyplot as plt\n",
    "%matplotlib inline "
   ]
  },
  {
   "cell_type": "code",
   "execution_count": null,
   "metadata": {},
   "outputs": [],
   "source": [
    "x = []\n",
    "y = []\n",
    "with open(r\"student_exam.txt\", \"r+\") as f:\n",
    "    data = f.readlines()\n",
    "    for line in data[1:]:\n",
    "        x.append(line.strip().split(\",\")[0])\n",
    "        y.append(int(line.strip().split(\",\")[1]))\n",
    "x, y\n",
    "\n",
    "\n",
    "\n"
   ]
  },
  {
   "cell_type": "code",
   "execution_count": null,
   "metadata": {},
   "outputs": [],
   "source": [
    "import matplotlib.pyplot as plt\n",
    "\n",
    "plt.barh(x, y, color= 'r')\n",
    "plt.gca().invert_yaxis()\n",
    "plt.title('Exam Score')\n",
    "plt.xlabel('Score (%)')\n",
    "plt.ylabel('Last Name')"
   ]
  },
  {
   "cell_type": "code",
   "execution_count": null,
   "metadata": {},
   "outputs": [],
   "source": []
  },
  {
   "cell_type": "code",
   "execution_count": null,
   "metadata": {},
   "outputs": [],
   "source": []
  },
  {
   "cell_type": "code",
   "execution_count": null,
   "metadata": {},
   "outputs": [],
   "source": []
  },
  {
   "cell_type": "markdown",
   "metadata": {},
   "source": [
    "### Exercise 9\n",
    "\n",
    "\n",
    "1. Write a txt file with 100 lines of string. Each line of the file contains a random integer in the range 0–10. For example\n",
    "\n",
    "        5\n",
    "        3\n",
    "        7\n",
    "        2\n",
    "        6\n",
    "        3\n",
    "        9\n",
    "        ...\n",
    "\n",
    "    Then save it as the file `quiz_score.txt`. (Hint: You may generate a random integer between 0 and 10 using `np.random.randint(0, 11)`).\n",
    "    \n",
    "2. Read data from the file. Your program should count the number of occurrences of each score. (Hint: use a dictionary that stores the count for each possible score.)\n",
    "\n",
    "3. Draw a vertical bar chart with a bar for each possible score (0–10) with a height corresponding to the count of that score. For example, 2 students got a score of 3.  An example of the bar chart is shown below.\n",
    "\n",
    "<img src=\"graphs/hist.png\">"
   ]
  },
  {
   "cell_type": "code",
   "execution_count": null,
   "metadata": {},
   "outputs": [],
   "source": [
    "import numpy as np\n",
    "file, f = open(\"quiz_score.txt\", \"w\"), open(\"quiz_score.txt\", \"r\")\n",
    "score = []\n",
    "for i in range(100):\n",
    "    i = str(np.random.randint(0, 11))\n",
    "    file.write(i + \"\\n\")\n",
    "    \n",
    "list1 = f.readlines()\n",
    "f.close()\n",
    "for i in list1:\n",
    "    score.append(i.strip())\n",
    "score\n"
   ]
  },
  {
   "cell_type": "code",
   "execution_count": null,
   "metadata": {},
   "outputs": [],
   "source": [
    "from collections import Counter\n",
    "d = Counter(score)\n",
    "int_score= {int(k) : v for k, v in d.items()}\n",
    "x = sorted(int_score.items())\n",
    "x\n"
   ]
  },
  {
   "cell_type": "code",
   "execution_count": null,
   "metadata": {},
   "outputs": [],
   "source": [
    "import matplotlib.pyplot as plt\n",
    "plt.bar(int_score.keys(), int_score.values(), color = 'g')\n",
    "plt.title('Bargraph for Score/Student')\n",
    "plt.xlabel('Score')\n",
    "plt.ylabel('Nr of occurences')\n",
    "plt.show()"
   ]
  },
  {
   "cell_type": "code",
   "execution_count": null,
   "metadata": {},
   "outputs": [],
   "source": []
  },
  {
   "cell_type": "code",
   "execution_count": null,
   "metadata": {},
   "outputs": [],
   "source": []
  },
  {
   "cell_type": "code",
   "execution_count": null,
   "metadata": {},
   "outputs": [],
   "source": []
  },
  {
   "cell_type": "markdown",
   "metadata": {},
   "source": [
    "# Optional"
   ]
  },
  {
   "cell_type": "markdown",
   "metadata": {},
   "source": [
    "## Exercise 10\n",
    "\n",
    "In the lecture, you load the file `mbox-short.txt` and extract the day of the week from the lines starting with \"From\". \n",
    "\n",
    "Now extract the email address (always after \"From\") from the lines starting with \"From\". You should get something like this: \n",
    "\n",
    "    stephen.marquard@uct.ac.za\n",
    "    louis@media.berkeley.edu\n",
    "    zqian@umich.edu\n",
    "    rjlowe@iupui.edu\n",
    "    zqian@umich.edu\n",
    "    rjlowe@iupui.edu\n",
    "    cwen@iupui.edu\n",
    "    cwen@iupui.edu\n",
    "    ..."
   ]
  },
  {
   "cell_type": "code",
   "execution_count": 7,
   "metadata": {},
   "outputs": [
    {
     "name": "stdout",
     "output_type": "stream",
     "text": [
      "stephen.marquard@uct.ac.za\n",
      "louis@media.berkeley.edu\n",
      "zqian@umich.edu\n",
      "rjlowe@iupui.edu\n",
      "zqian@umich.edu\n",
      "rjlowe@iupui.edu\n",
      "cwen@iupui.edu\n",
      "cwen@iupui.edu\n",
      "gsilver@umich.edu\n",
      "gsilver@umich.edu\n",
      "zqian@umich.edu\n",
      "gsilver@umich.edu\n",
      "wagnermr@iupui.edu\n",
      "zqian@umich.edu\n",
      "antranig@caret.cam.ac.uk\n",
      "gopal.ramasammycook@gmail.com\n",
      "david.horwitz@uct.ac.za\n",
      "david.horwitz@uct.ac.za\n",
      "david.horwitz@uct.ac.za\n",
      "david.horwitz@uct.ac.za\n",
      "stephen.marquard@uct.ac.za\n",
      "louis@media.berkeley.edu\n",
      "louis@media.berkeley.edu\n",
      "ray@media.berkeley.edu\n",
      "cwen@iupui.edu\n",
      "cwen@iupui.edu\n",
      "cwen@iupui.edu\n"
     ]
    }
   ],
   "source": [
    "import re\n",
    "\n",
    "# Open the file for reading\n",
    "with open('./Data/mbox-short.txt') as file:\n",
    "\n",
    "    # Iterate over the lines\n",
    "    for line in file:\n",
    "\n",
    "        # Capture one-or-more characters of non-whitespace after the initial match\n",
    "        match = re.search(r'From (\\S+)', line)\n",
    "        match\n",
    "        # Did we find a match?\n",
    "        if match:\n",
    "          # Yes, process it\n",
    "            emails = match.group(1)\n",
    "            print('{}'.format(emails))"
   ]
  },
  {
   "cell_type": "code",
   "execution_count": 10,
   "metadata": {},
   "outputs": [],
   "source": [
    "import re\n",
    "\n",
    "# Open the file for reading\n",
    "with open('./Data/mbox-short.txt') as fd:\n",
    "\n",
    "    # Iterate over the lines\n",
    "    for line in fd:\n",
    "\n",
    "        # Capture one-or-more characters of non-whitespace after the initial match\n",
    "        match = re.search(r'From (\\S+)', line)\n",
    "        if match:\n",
    "          # Yes, process it\n",
    "            emails = match.group(1)\n",
    "            emails"
   ]
  },
  {
   "cell_type": "code",
   "execution_count": null,
   "metadata": {},
   "outputs": [],
   "source": []
  },
  {
   "cell_type": "code",
   "execution_count": null,
   "metadata": {},
   "outputs": [],
   "source": []
  },
  {
   "cell_type": "markdown",
   "metadata": {},
   "source": [
    "## Exercise 11\n",
    "Generate a string `s` , such that:\n",
    "\n",
    "    s = 'asdefdflklkaaapkplla'\n",
    "\n",
    "Count how many times each character apears using dictionary. You may use the method `.get()` in the loop."
   ]
  },
  {
   "cell_type": "code",
   "execution_count": 11,
   "metadata": {},
   "outputs": [
    {
     "data": {
      "text/plain": [
       "[('a', 5),\n",
       " ('d', 2),\n",
       " ('e', 1),\n",
       " ('f', 2),\n",
       " ('k', 3),\n",
       " ('l', 4),\n",
       " ('p', 2),\n",
       " ('s', 1)]"
      ]
     },
     "execution_count": 11,
     "metadata": {},
     "output_type": "execute_result"
    }
   ],
   "source": [
    "from collections import Counter\n",
    "s = 'asdefdflklkaaapkplla'\n",
    "\n",
    "d = Counter(s)\n",
    "x = sorted(d.items())\n",
    "x\n",
    "\n"
   ]
  },
  {
   "cell_type": "code",
   "execution_count": 12,
   "metadata": {},
   "outputs": [
    {
     "name": "stdout",
     "output_type": "stream",
     "text": [
      "{'a': 5, 's': 1, 'd': 2, 'e': 1, 'f': 2, 'l': 4, 'k': 3, 'p': 2}\n"
     ]
    }
   ],
   "source": [
    "l = {}\n",
    "for i in s:\n",
    "    if i in l:\n",
    "        l[i] += 1\n",
    "    else:\n",
    "        l[i] = 1\n",
    "print(l)\n",
    "        "
   ]
  },
  {
   "cell_type": "code",
   "execution_count": 13,
   "metadata": {},
   "outputs": [
    {
     "name": "stdout",
     "output_type": "stream",
     "text": [
      "{'a': 5, 's': 1, 'd': 2, 'e': 1, 'f': 2, 'l': 4, 'k': 3, 'p': 2}\n"
     ]
    }
   ],
   "source": [
    "l = {}\n",
    "for i in s:\n",
    "    l[i] = l.get(i, 0) + 1\n",
    "print(l)"
   ]
  }
 ],
 "metadata": {
  "kernelspec": {
   "display_name": "Python 3",
   "language": "python",
   "name": "python3"
  },
  "language_info": {
   "codemirror_mode": {
    "name": "ipython",
    "version": 3
   },
   "file_extension": ".py",
   "mimetype": "text/x-python",
   "name": "python",
   "nbconvert_exporter": "python",
   "pygments_lexer": "ipython3",
   "version": "3.6.5"
  }
 },
 "nbformat": 4,
 "nbformat_minor": 2
}
