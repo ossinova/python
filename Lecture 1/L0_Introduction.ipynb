{
 "cells": [
  {
   "cell_type": "markdown",
   "metadata": {},
   "source": [
    "#                Welcome to GRA 4142!\n",
    "##  Data Management and Python Programming: Part I\n",
    "\n"
   ]
  },
  {
   "cell_type": "markdown",
   "metadata": {},
   "source": [
    "#### Relative popularity of python\n",
    "https://lectures.quantecon.org/_images/python_vs_rest.png"
   ]
  },
  {
   "cell_type": "markdown",
   "metadata": {},
   "source": [
    "### This is Jupyter notebook\n",
    "#### more on Jupyter  (many tutorials on the web)\n",
    "https://www.dataquest.io/blog/jupyter-notebook-tutorial/\n",
    "\n",
    "#### another good introduction to Jupyter\n",
    "https://lectures.quantecon.org/py/getting_started.html"
   ]
  },
  {
   "cell_type": "code",
   "execution_count": 2,
   "metadata": {},
   "outputs": [
    {
     "data": {
      "text/plain": [
       "'/Users/Alfonso/Dropbox/BI/Teaching/GRA6839/notebooks'"
      ]
     },
     "execution_count": 2,
     "metadata": {},
     "output_type": "execute_result"
    }
   ],
   "source": [
    "# location of your working folder\n",
    "%pwd"
   ]
  },
  {
   "cell_type": "markdown",
   "metadata": {},
   "source": [
    "#### Applications\n",
    "http://nbviewer.jupyter.org/github/vincentarelbundock/Reinhart-Rogoff/blob/master/reinhart-rogoff.ipynb"
   ]
  },
  {
   "cell_type": "markdown",
   "metadata": {},
   "source": [
    "## Documentation \n",
    "* Python official documentation: https://www.python.org/doc/\n",
    "\n",
    "* Different packages: Google (for example: search for numpy python, pandas python)\n",
    "\n",
    "* An example of a web page with Python resources : https://realpython.com\n",
    "\n",
    "* Scipy: https://www.scipy-lectures.org/intro/"
   ]
  },
  {
   "cell_type": "markdown",
   "metadata": {},
   "source": [
    "## Extra Help\n",
    "* **IT-advisors:**\n",
    "    * There are IT-advisors downstairs (at the student service center). They should be able to help with install-issues on local computer.\n",
    "\n",
    "\n",
    "* **Data science assistant:**\n",
    "    * Anastasiia works every Thursday kl. 14-16.\n",
    "    * She will be sitting at the Support area in the Library (room to the left from the Reception). \n",
    "    * Please send her questions to msc@bi.no \n"
   ]
  },
  {
   "cell_type": "markdown",
   "metadata": {},
   "source": [
    "## Download the lecture files from itslearning\n",
    "\n",
    "\n",
    "* Download the lecture notes file (ended with .ipynb) and save it in your directory.\n",
    "   (for example my directory: /Users/alfonso/gra_4142)\n",
    "  \n",
    "* Generate a sub-folder in your directory called \"fig\". (for example: /Users/alfonso/Python_Code/fig)\n",
    "\n",
    "* Download the figure files (in the \"fig\" folder in itslearning, ended with .png) and save in the \"fig\" folder in your directory.\n",
    "\n",
    "* Start Jupyter through Anaconda\n",
    "\n",
    "* In Jupyter, open the lecture notes (ended with .ipynb)"
   ]
  },
  {
   "cell_type": "code",
   "execution_count": null,
   "metadata": {
    "collapsed": true
   },
   "outputs": [],
   "source": []
  },
  {
   "cell_type": "code",
   "execution_count": null,
   "metadata": {
    "collapsed": true
   },
   "outputs": [],
   "source": []
  }
 ],
 "metadata": {
  "kernelspec": {
   "display_name": "Python 3",
   "language": "python",
   "name": "python3"
  },
  "language_info": {
   "codemirror_mode": {
    "name": "ipython",
    "version": 3
   },
   "file_extension": ".py",
   "mimetype": "text/x-python",
   "name": "python",
   "nbconvert_exporter": "python",
   "pygments_lexer": "ipython3",
   "version": "3.6.5"
  }
 },
 "nbformat": 4,
 "nbformat_minor": 2
}
