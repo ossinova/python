{
 "cells": [
  {
   "cell_type": "markdown",
   "metadata": {},
   "source": [
    "***NB!*** New room for the TA session on 26/9 (WED) 2pm--3:45pm: \n",
    "### Room <font color='red'>C1-000</font>"
   ]
  },
  {
   "cell_type": "code",
   "execution_count": 4,
   "metadata": {},
   "outputs": [],
   "source": [
    "import numpy as np\n",
    "import matplotlib.pyplot as plt\n",
    "%matplotlib inline"
   ]
  },
  {
   "cell_type": "markdown",
   "metadata": {},
   "source": [
    "## Build-in functions"
   ]
  },
  {
   "cell_type": "markdown",
   "metadata": {},
   "source": [
    "### Exercise 1. \n",
    "Construct each of the following sequences using `linspace` and `arange` in numpy.\n",
    "    \n",
    "    0,1,...,10\n",
    "    4,5,6,...,13\n",
    "    0,.25,.5,.75,1\n",
    "    0.-1,-2,...,-5\n",
    "    "
   ]
  },
  {
   "cell_type": "code",
   "execution_count": null,
   "metadata": {},
   "outputs": [],
   "source": [
    "np.arange(0, 11)\n"
   ]
  },
  {
   "cell_type": "code",
   "execution_count": null,
   "metadata": {},
   "outputs": [],
   "source": [
    "np.arange(4, 14)"
   ]
  },
  {
   "cell_type": "code",
   "execution_count": null,
   "metadata": {},
   "outputs": [],
   "source": [
    "np.linspace(0.0, 1.0, num=5)"
   ]
  },
  {
   "cell_type": "code",
   "execution_count": null,
   "metadata": {},
   "outputs": [],
   "source": [
    "np.arange(0, -6, -1)"
   ]
  },
  {
   "cell_type": "markdown",
   "metadata": {},
   "source": [
    "### Exercise 2.\n",
    "Determine the differences between the rounding by applying `round` (or `around`),`ceil` and `floor` (in numpy) to\n",
    "\n",
    "    y = [0,0.5,1.5,2.5,1.0,1.0001,-0.5,-1,-1.5,-2.5]\n",
    "    \n",
    "(Think before you do it)"
   ]
  },
  {
   "cell_type": "code",
   "execution_count": null,
   "metadata": {},
   "outputs": [],
   "source": [
    "y = [0,0.5,1.5,2.5,1.0,1.0001,-0.5,-1,-1.5,-2.5]\n",
    "y"
   ]
  },
  {
   "cell_type": "code",
   "execution_count": null,
   "metadata": {},
   "outputs": [],
   "source": [
    "#round\n",
    "np.round(y) "
   ]
  },
  {
   "cell_type": "code",
   "execution_count": null,
   "metadata": {},
   "outputs": [],
   "source": [
    "#around function outputs the same as round\n",
    "#rounds to nearest int that is div by 10\n",
    "np.around(y)"
   ]
  },
  {
   "cell_type": "code",
   "execution_count": null,
   "metadata": {},
   "outputs": [],
   "source": [
    "#ceil\n",
    "#rounds up to nearest int (if pos 2.5 becomes 3, if neg -2.5 becomes -2) i.e\n",
    "np.ceil(y)"
   ]
  },
  {
   "cell_type": "code",
   "execution_count": null,
   "metadata": {},
   "outputs": [],
   "source": [
    "#floor\n",
    "#rounds down (if pos 2.5 becomes 2), (if negative -2.5 becomes -3) i.e\n",
    "np.floor(y)\n"
   ]
  },
  {
   "cell_type": "code",
   "execution_count": null,
   "metadata": {},
   "outputs": [],
   "source": []
  },
  {
   "cell_type": "markdown",
   "metadata": {},
   "source": [
    "### Exercise 3. \n",
    "Prove the relationship that  $\\sum_{j=1}^{n}j=\\frac{n\\left(n+1\\right)}{2} $ for $ 0\\leq n\\leq10 $ using `np.cumsum` on an array."
   ]
  },
  {
   "cell_type": "code",
   "execution_count": null,
   "metadata": {},
   "outputs": [],
   "source": []
  },
  {
   "cell_type": "code",
   "execution_count": null,
   "metadata": {},
   "outputs": [],
   "source": []
  },
  {
   "cell_type": "code",
   "execution_count": null,
   "metadata": {},
   "outputs": [],
   "source": []
  },
  {
   "cell_type": "code",
   "execution_count": null,
   "metadata": {},
   "outputs": [],
   "source": []
  },
  {
   "cell_type": "markdown",
   "metadata": {},
   "source": [
    "### Exercise 4.\n",
    "`np.cumsum` computes the cumulative sum while np.diff computes the difference. Is `np.diff(np.cumsum(x))` the same as `x` for a given array `x`? If not, how can a small modification be made to the this statement to recover `x`?"
   ]
  },
  {
   "cell_type": "code",
   "execution_count": null,
   "metadata": {},
   "outputs": [],
   "source": []
  },
  {
   "cell_type": "code",
   "execution_count": null,
   "metadata": {},
   "outputs": [],
   "source": []
  },
  {
   "cell_type": "code",
   "execution_count": null,
   "metadata": {},
   "outputs": [],
   "source": []
  },
  {
   "cell_type": "markdown",
   "metadata": {},
   "source": [
    "### Exercise 5.\n",
    "Compute the exponential value of\n",
    "\n",
    "y=[ln0.5,ln1,ln$e$]\n",
    "\n",
    "Note: You should use log and the constant numpy.e to construct y."
   ]
  },
  {
   "cell_type": "code",
   "execution_count": null,
   "metadata": {},
   "outputs": [],
   "source": []
  },
  {
   "cell_type": "code",
   "execution_count": null,
   "metadata": {},
   "outputs": [],
   "source": []
  },
  {
   "cell_type": "markdown",
   "metadata": {},
   "source": [
    "### Exercise 6. \n",
    "What are absolute values of 0.0 and -3.14"
   ]
  },
  {
   "cell_type": "code",
   "execution_count": null,
   "metadata": {},
   "outputs": [],
   "source": []
  },
  {
   "cell_type": "code",
   "execution_count": null,
   "metadata": {},
   "outputs": [],
   "source": []
  },
  {
   "cell_type": "markdown",
   "metadata": {},
   "source": [
    "### Exercise 7. \n",
    "Suppose `x=[−4,2,−9,−8,10]`. What is the difference between `y = sort(x)` and `x.sort()`?"
   ]
  },
  {
   "cell_type": "code",
   "execution_count": null,
   "metadata": {},
   "outputs": [],
   "source": [
    "x=[−4,2,−9,−8,10]"
   ]
  },
  {
   "cell_type": "code",
   "execution_count": null,
   "metadata": {},
   "outputs": [],
   "source": []
  },
  {
   "cell_type": "code",
   "execution_count": null,
   "metadata": {},
   "outputs": [],
   "source": []
  },
  {
   "cell_type": "markdown",
   "metadata": {},
   "source": [
    "## Self-defined functions"
   ]
  },
  {
   "cell_type": "markdown",
   "metadata": {},
   "source": [
    "### Exercise 8.\n",
    "Recall that we had one exercise PS2: your pay computation to give the employee 1.5 times the hourly rate for hours worked above 40 hours.\n",
    "\n",
    "Rewrite your pay computation with time-and-a-half for over-time and create a function called `computepay` which takes two parameters (hours and rate).\n",
    "\n",
    "    Enter Hours: 45\n",
    "    Enter Rate: 10\n",
    "    Pay: 475.0"
   ]
  },
  {
   "cell_type": "code",
   "execution_count": null,
   "metadata": {},
   "outputs": [],
   "source": [
    "hours = input('Enter Hours: ')\n",
    "rate  = input('Enter Rate: ')\n",
    "\n",
    "if float(hours)>40.:\n",
    "    pay = 40*float(rate) + (float(hours)-40)*float(rate)*1.5\n",
    "\n",
    "else:\n",
    "    pay = float(hours)*float(rate)\n",
    "    \n",
    "print('Pay: ', round(pay,3) )"
   ]
  },
  {
   "cell_type": "code",
   "execution_count": null,
   "metadata": {},
   "outputs": [],
   "source": [
    "hours = input('Enter Hours: ')\n",
    "rate  = input('Enter Rate: ')\n",
    "def computepay(hours, rate):\n",
    "    if float(hours)>40.:\n",
    "        pay = 40*float(rate) + (float(hours)-40)*float(rate)*1.5\n",
    "        return pay\n",
    "    else:\n",
    "        pay = float(hours)*float(rate)\n",
    "        return pay\n",
    "output = computepay(hours, rate)\n",
    "print(\"Pay: \" + str(output))"
   ]
  },
  {
   "cell_type": "code",
   "execution_count": null,
   "metadata": {},
   "outputs": [],
   "source": []
  },
  {
   "cell_type": "code",
   "execution_count": null,
   "metadata": {},
   "outputs": [],
   "source": []
  },
  {
   "cell_type": "markdown",
   "metadata": {},
   "source": [
    "### Exercise 9.\n",
    "Rewrite the grade program from the PS2 using a function called `computegrade` that takes a score as its parameter and returns a grade as a string.\n",
    "\n",
    "     Score\n",
    "    >= 0.9     A\n",
    "    >= 0.8     B\n",
    "    >= 0.7     C\n",
    "    >= 0.6     D\n",
    "    <0.6 F\n",
    "\n",
    "    Enter score: 0.95\n",
    "    A\n",
    "\n",
    "    Enter score: perfect\n",
    "    Bad score\n",
    "\n",
    "    Enter score: 10.0\n",
    "    Bad score\n",
    "\n",
    "    Enter score: 0.75\n",
    "    C\n",
    "\n",
    "    Enter score: 0.5\n",
    "    F"
   ]
  },
  {
   "cell_type": "code",
   "execution_count": null,
   "metadata": {},
   "outputs": [],
   "source": [
    "score = input(\"Enter score: \")\n",
    "\n",
    "try: \n",
    "    if float(score)<60:\n",
    "        print(\"F\")\n",
    "    elif float(score)>=60 and float(score)<70:\n",
    "        print(\"D\")\n",
    "    elif float(score)>=70 and float(score)<80:\n",
    "        print(\"C\")    \n",
    "    elif float(score)>=80 and float(score)<90:\n",
    "        print(\"B\")    \n",
    "    elif float(score)>=90 and float(score)<=100:\n",
    "        print(\"A\")        \n",
    "    elif float(score)>100:\n",
    "        print(\"Bad score: >100\")\n",
    "    \n",
    "except:\n",
    "    print(\"Bad score: not a number\")"
   ]
  },
  {
   "cell_type": "code",
   "execution_count": null,
   "metadata": {},
   "outputs": [],
   "source": [
    "score = input(\"Enter score: \")\n",
    "def computegrade(score):\n",
    "    try: \n",
    "        if float(score)<60:\n",
    "            return \"F\"\n",
    "        elif float(score)>=60 and float(score)<70:\n",
    "            return \"D\"\n",
    "        elif float(score)>=70 and float(score)<80:\n",
    "            return \"C\"  \n",
    "        elif float(score)>=80 and float(score)<90:\n",
    "            return \"B\"   \n",
    "        elif float(score)>=90 and float(score)<=100:\n",
    "            return \"A\"      \n",
    "        elif float(score)>100:\n",
    "            return \"Bad score: >100\"\n",
    "\n",
    "    except:\n",
    "        return \"Bad score: not a number\"\n",
    "output2 = computegrade(score)\n",
    "print(\"Grade: \" + str(output2))"
   ]
  },
  {
   "cell_type": "code",
   "execution_count": null,
   "metadata": {},
   "outputs": [],
   "source": []
  },
  {
   "cell_type": "code",
   "execution_count": null,
   "metadata": {},
   "outputs": [],
   "source": []
  },
  {
   "cell_type": "markdown",
   "metadata": {},
   "source": [
    "### Exercise 10.\n",
    "\n",
    "Return the sum of the numbers in the array, except ignore sections of numbers starting with a 6 and extending to the next 9 (every 6 will be followed by at least one 9). Return 0 for no numbers.\n",
    "\n",
    "    summer_69([1, 3, 5]) --> 9\n",
    "    summer_69([4, 5, 6, 7, 8, 9]) --> 9\n",
    "    summer_69([2, 1, 6, 9, 11]) --> 14"
   ]
  },
  {
   "cell_type": "code",
   "execution_count": 6,
   "metadata": {},
   "outputs": [],
   "source": [
    "a1 = np.array([1, 3, 5])\n",
    "a2 = np.array([4, 5, 6, 7, 8, 9])\n",
    "a3 = np.array([2, 1, 6, 9, 11])"
   ]
  },
  {
   "cell_type": "code",
   "execution_count": 7,
   "metadata": {},
   "outputs": [
    {
     "data": {
      "text/plain": [
       "9"
      ]
     },
     "execution_count": 7,
     "metadata": {},
     "output_type": "execute_result"
    }
   ],
   "source": [
    "np.sum(a1)"
   ]
  },
  {
   "cell_type": "code",
   "execution_count": 8,
   "metadata": {},
   "outputs": [
    {
     "data": {
      "text/plain": [
       "9"
      ]
     },
     "execution_count": 8,
     "metadata": {},
     "output_type": "execute_result"
    }
   ],
   "source": [
    "np.sum(a2[0:2])"
   ]
  },
  {
   "cell_type": "code",
   "execution_count": 9,
   "metadata": {},
   "outputs": [
    {
     "data": {
      "text/plain": [
       "14"
      ]
     },
     "execution_count": 9,
     "metadata": {},
     "output_type": "execute_result"
    }
   ],
   "source": [
    "indices = [0, 1, 4]\n",
    "a3[indices].sum()\n"
   ]
  },
  {
   "cell_type": "code",
   "execution_count": null,
   "metadata": {},
   "outputs": [],
   "source": [
    "array = \n",
    "def summer_69(array):\n",
    "    if "
   ]
  },
  {
   "cell_type": "markdown",
   "metadata": {},
   "source": [
    "### Exercise 11.\n",
    "Write a function that checks whether a number is in a given range (inclusive of high and low)"
   ]
  },
  {
   "cell_type": "code",
   "execution_count": null,
   "metadata": {},
   "outputs": [],
   "source": [
    "number = int(input(\"Enter your grade: \"))\n",
    "fail_num = int(input(\"Enter fail grade (low): \"))\n",
    "pass_num = int(input(\"Enter pass grade (high): \"))\n",
    "def ran_check(num,low,high):\n",
    "    if num in range (low, high+1):\n",
    "        return \"You passed\"\n",
    "    else:\n",
    "        return \"You failed\"\n",
    "\n",
    "ran_check(number,fail_num,pass_num)\n"
   ]
  },
  {
   "cell_type": "code",
   "execution_count": null,
   "metadata": {},
   "outputs": [],
   "source": []
  },
  {
   "cell_type": "code",
   "execution_count": null,
   "metadata": {},
   "outputs": [],
   "source": []
  },
  {
   "cell_type": "markdown",
   "metadata": {},
   "source": [
    "### Exercise 12. \n",
    "Write a Python function that takes a list and returns a new list with unique elements of the first list.\n",
    "\n",
    "    Sample List : [1,1,1,1,2,2,3,3,3,3,4,5]\n",
    "    Unique List : [1, 2, 3, 4, 5]"
   ]
  },
  {
   "cell_type": "code",
   "execution_count": null,
   "metadata": {},
   "outputs": [],
   "source": [
    "#\n",
    "Sample_List = [1,1,1,1,2,2,3,3,3,3,4,5]\n",
    "Unique_List = [1, 2, 3, 4, 5]"
   ]
  },
  {
   "cell_type": "code",
   "execution_count": null,
   "metadata": {},
   "outputs": [],
   "source": [
    "def unique_list(l):\n",
    "    output = list(set(l))\n",
    "    return output\n",
    "list1 = unique_list(Sample_List)\n",
    "print(\"Sample List : \", Sample_List)\n",
    "print(\"Unique List : \", list1)"
   ]
  },
  {
   "cell_type": "code",
   "execution_count": null,
   "metadata": {},
   "outputs": [],
   "source": []
  },
  {
   "cell_type": "markdown",
   "metadata": {},
   "source": [
    "### Exercise 13.\n",
    "Write a Python function to multiply all the numbers in a list.\n",
    "\n",
    "    Sample List : [1, 2, 3, -4]\n",
    "    Expected Output : -24"
   ]
  },
  {
   "cell_type": "code",
   "execution_count": null,
   "metadata": {},
   "outputs": [],
   "source": [
    "sample_list = [1, 2, 3, -4]\n",
    "def multiply(numbers):\n",
    "    result = 1\n",
    "    for i in numbers:\n",
    "        result *= i\n",
    "    return result\n",
    "\n",
    "ans= multiply(sample_list)\n",
    "print(\"Sample List : \", sample_list)\n",
    "print(\"Expected Output : \", ans)"
   ]
  },
  {
   "cell_type": "code",
   "execution_count": null,
   "metadata": {},
   "outputs": [],
   "source": [
    "from random import randint\n",
    "\n",
    "board = []\n",
    "\n",
    "for x in range(4):\n",
    "    board.append([\"O\"] * 4)\n",
    "\n",
    "def print_board(board):\n",
    "    for row in board:\n",
    "        print(\" \".join(row))\n",
    "\n",
    "print(\"Let's play Battleship!\")\n",
    "print_board(board)\n",
    "\n",
    "def random_row(board):\n",
    "    return randint(0, len(board) - 1)\n",
    "\n",
    "def random_col(board):\n",
    "    return randint(0, len(board[0]) - 1)\n",
    "\n",
    "ship_row = random_row(board+1)\n",
    "ship_col = random_col(board+1)\n",
    "\n",
    "for turn in range(4):\n",
    "    print(\"Turn\", turn+1)\n",
    "    guess_row = int(input(\"Guess Row:\"))\n",
    "    guess_col = int(input(\"Guess Col:\"))\n",
    "    if guess_row == ship_row and guess_col == ship_col:\n",
    "        print(\"Congratulations! You sunk my battleship!\")\n",
    "        board[guess_row-1][guess_col-1] = \"X\"\n",
    "    elif (guess_row < 0 or guess_row > 4) or (guess_col < 0 or guess_col > 4):\n",
    "        print(\"Oops, that's not even in the ocean.\")\n",
    "    elif (board[guess_row-1][guess_col-1] == \"X\"):\n",
    "        print(\"You guessed that one already.\")\n",
    "    else:\n",
    "        print(\"You missed my battleship!\")\n",
    "        board[guess_row-1][guess_col-1] = \"X\"\n",
    "    if turn == 3:\n",
    "        print(\"Game Over\")\n",
    "        \n",
    "    print_board(board)\n",
    "    print(ship_row)"
   ]
  },
  {
   "cell_type": "code",
   "execution_count": 5,
   "metadata": {},
   "outputs": [
    {
     "name": "stdout",
     "output_type": "stream",
     "text": [
      "Snake: 2\n",
      "Snake: 3\n",
      "Snake: 4\n",
      "Snake: 5\n"
     ]
    }
   ],
   "source": [
    "#snake game\n",
    "\n",
    "from turtle import *\n",
    "from random import randrange\n",
    "from freegames import square, vector\n",
    "\n",
    "food = vector(0, 0)\n",
    "snake = [vector(10, 0)]\n",
    "aim = vector(0, -10)\n",
    "\n",
    "def change(x, y):\n",
    "    \"Change snake direction.\"\n",
    "    aim.x = x\n",
    "    aim.y = y\n",
    "\n",
    "def inside(head):\n",
    "    \"Return True if head inside boundaries.\"\n",
    "    return -200 < head.x < 190 and -200 < head.y < 190\n",
    "\n",
    "def move():\n",
    "    \"Move snake forward one segment.\"\n",
    "    head = snake[-1].copy()\n",
    "    head.move(aim)\n",
    "\n",
    "    if not inside(head) or head in snake:\n",
    "        square(head.x, head.y, 9, 'red')\n",
    "        update()\n",
    "        return\n",
    "\n",
    "    snake.append(head)\n",
    "\n",
    "    if head == food:\n",
    "        print('Snake:', len(snake))\n",
    "        food.x = randrange(-15, 15) * 10\n",
    "        food.y = randrange(-15, 15) * 10\n",
    "    else:\n",
    "        snake.pop(0)\n",
    "\n",
    "    clear()\n",
    "\n",
    "    for body in snake:\n",
    "        square(body.x, body.y, 9, 'black')\n",
    "\n",
    "    square(food.x, food.y, 9, 'green')\n",
    "    update()\n",
    "    ontimer(move, 100)\n",
    "\n",
    "setup(420, 420, 370, 0)\n",
    "hideturtle()\n",
    "tracer(False)\n",
    "listen()\n",
    "onkey(lambda: change(10, 0), 'Right')\n",
    "onkey(lambda: change(-10, 0), 'Left')\n",
    "onkey(lambda: change(0, 10), 'Up')\n",
    "onkey(lambda: change(0, -10), 'Down')\n",
    "move()\n",
    "done()\n"
   ]
  },
  {
   "cell_type": "code",
   "execution_count": 11,
   "metadata": {},
   "outputs": [],
   "source": [
    "from random import choice, random\n",
    "from turtle import *\n",
    "from freegames import vector\n",
    "\n",
    "def value():\n",
    "    \"Randomly generate value between (-5, -3) or (3, 5).\"\n",
    "    return (3 + random() * 2) * choice([1, -1])\n",
    "\n",
    "ball = vector(0, 0)\n",
    "aim = vector(value(), value())\n",
    "state = {1: 0, 2: 0}\n",
    "\n",
    "def move(player, change):\n",
    "    \"Move player position by change.\"\n",
    "    state[player] += change\n",
    "\n",
    "def rectangle(x, y, width, height):\n",
    "    \"Draw rectangle at (x, y) with given width and height.\"\n",
    "    up()\n",
    "    goto(x, y)\n",
    "    down()\n",
    "    begin_fill()\n",
    "    for count in range(2):\n",
    "        forward(width)\n",
    "        left(90)\n",
    "        forward(height)\n",
    "        left(90)\n",
    "    end_fill()\n",
    "\n",
    "def draw():\n",
    "    \"Draw game and move pong ball.\"\n",
    "    clear()\n",
    "    rectangle(-200, state[1], 10, 50)\n",
    "    rectangle(190, state[2], 10, 50)\n",
    "\n",
    "    ball.move(aim)\n",
    "    x = ball.x\n",
    "    y = ball.y\n",
    "\n",
    "    up()\n",
    "    goto(x, y)\n",
    "    dot(10)\n",
    "    update()\n",
    "\n",
    "    if y < -200 or y > 200:\n",
    "        aim.y = -aim.y\n",
    "\n",
    "    if x < -185:\n",
    "        low = state[1]\n",
    "        high = state[1] + 50\n",
    "\n",
    "        if low <= y <= high:\n",
    "            aim.x = -aim.x\n",
    "        else:\n",
    "            return\n",
    "\n",
    "    if x > 185:\n",
    "        low = state[2]\n",
    "        high = state[2] + 50\n",
    "\n",
    "        if low <= y <= high:\n",
    "            aim.x = -aim.x\n",
    "        else:\n",
    "            return\n",
    "\n",
    "    ontimer(draw, 50)\n",
    "\n",
    "setup(420, 420, 370, 0)\n",
    "hideturtle()\n",
    "tracer(False)\n",
    "listen()\n",
    "onkey(lambda: move(1, 20), 'w')\n",
    "onkey(lambda: move(1, -20), 's')\n",
    "onkey(lambda: move(2, 20), 'i')\n",
    "onkey(lambda: move(2, -20), 'k')\n",
    "draw()\n",
    "done()\n"
   ]
  },
  {
   "cell_type": "markdown",
   "metadata": {},
   "source": [
    "### Exercise 14.\n",
    "\n",
    "Recall in PS2, we generate an array of y folliwng: \n",
    "\n",
    "$y_{t}=\\phi y_{t-1}+\\epsilon_{t}$\n",
    "\n",
    "for t=1,2,...,T with a given value of $\\phi$.\n",
    "\n",
    "Now write a function called `AR1_simul` to generate the array of y. The function takes the parameters of $\\phi$ and the period of simulation $T$ as input. Set $T=10$ as the default value. The function returns the simulated array of y for T periods. \n",
    "\n",
    "You can assume the initial value of y is 0: $y_{0}=0$. You can also set the seed number of drawing random numbers as a default value. \n",
    "\n",
    "Use your function to simulated multiple series of y with different $\\phi$ values. For example [0.1,0.5,0.9]\n",
    "\n",
    "After that plot the simulated arrays of $y$ in one graph with legend, x-label, y-label and title. \n"
   ]
  },
  {
   "cell_type": "code",
   "execution_count": null,
   "metadata": {},
   "outputs": [],
   "source": [
    "import numpy as np\n",
    "from matplotlib import pyplot as plt\n",
    "%matplotlib inline \n",
    "\n",
    "T = 1000\n",
    "y = np.zeros(T)\n",
    "np.random.seed(1001)\n",
    "e = np.random.randn(T)\n",
    "y[0] = 10\n",
    "for t in range(1, T):\n",
    "    y[t] = 0.8 * y[t-1]+e[t]\n",
    "y2 = y[:]\n",
    "y2"
   ]
  },
  {
   "cell_type": "code",
   "execution_count": null,
   "metadata": {},
   "outputs": [],
   "source": []
  },
  {
   "cell_type": "code",
   "execution_count": null,
   "metadata": {},
   "outputs": [],
   "source": []
  },
  {
   "cell_type": "code",
   "execution_count": null,
   "metadata": {},
   "outputs": [],
   "source": []
  }
 ],
 "metadata": {
  "kernelspec": {
   "display_name": "Python 3",
   "language": "python",
   "name": "python3"
  },
  "language_info": {
   "codemirror_mode": {
    "name": "ipython",
    "version": 3
   },
   "file_extension": ".py",
   "mimetype": "text/x-python",
   "name": "python",
   "nbconvert_exporter": "python",
   "pygments_lexer": "ipython3",
   "version": "3.6.5"
  }
 },
 "nbformat": 4,
 "nbformat_minor": 2
}
